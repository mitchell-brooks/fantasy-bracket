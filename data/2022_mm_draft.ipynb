{
 "nbformat": 4,
 "nbformat_minor": 0,
 "metadata": {
  "colab": {
   "provenance": []
  },
  "kernelspec": {
   "name": "python3",
   "display_name": "Python 3"
  },
  "language_info": {
   "name": "python"
  }
 },
 "cells": [
  {
   "cell_type": "code",
   "execution_count": null,
   "metadata": {
    "id": "DFimhFUKdlcR",
    "colab": {
     "base_uri": "https://localhost:8080/"
    },
    "outputId": "be53e29c-a56a-42dd-aacd-c25dc44e5176"
   },
   "outputs": [],
   "source": [
    "!pip install gspread oauth2client"
   ]
  },
  {
   "cell_type": "code",
   "source": [
    "!pip install pygsheets"
   ],
   "metadata": {
    "colab": {
     "base_uri": "https://localhost:8080/"
    },
    "id": "3QaaSr11xvDQ",
    "outputId": "a9356f92-e437-4cc7-cb1c-cc07aa2e8143"
   },
   "execution_count": null,
   "outputs": []
  },
  {
   "cell_type": "code",
   "source": [
    "!pip install pyairtable"
   ],
   "metadata": {
    "colab": {
     "base_uri": "https://localhost:8080/"
    },
    "id": "dG6hq2gwVxyc",
    "outputId": "926d7693-33db-4fe3-cd37-84ea7f272570"
   },
   "execution_count": null,
   "outputs": []
  },
  {
   "cell_type": "code",
   "source": [
    "import gspread\n",
    "from oauth2client.service_account import ServiceAccountCredentials"
   ],
   "metadata": {
    "id": "Qe2nrHwQduIg"
   },
   "execution_count": null,
   "outputs": []
  },
  {
   "cell_type": "code",
   "source": [
    "import pandas as pd\n"
   ],
   "metadata": {
    "id": "XVKtb_-BgIZ3"
   },
   "execution_count": null,
   "outputs": []
  },
  {
   "cell_type": "code",
   "source": [
    "def get_rankings(participant_name):\n",
    "    scope = ['https://spreadsheets.google.com/feeds', 'https://www.googleapis.com/auth/drive']\n",
    "    creds = ServiceAccountCredentials.from_json_keyfile_name('client_secret.json', scope)\n",
    "    client = gspread.authorize(creds)\n",
    "    sheet = client.open(f\"2022_mm_{participant_name}\").get_worksheet(0)\n",
    "    player_ids = sheet.col_values(1)\n",
    "    ranks = sheet.col_values(2)\n",
    "    rankings = [None] * 961\n",
    "    for idx, rank in enumerate(ranks):\n",
    "      if rank != '' and rank != 'rank':\n",
    "        rankings[int(rank)] = player_ids[idx]\n",
    "    return list(filter(None, rankings))"
   ],
   "metadata": {
    "id": "6yH77RN1eMkz"
   },
   "execution_count": null,
   "outputs": []
  },
  {
   "cell_type": "code",
   "source": [
    "def populate_rankings(participant_list):\n",
    "  rank_dict = {}\n",
    "  for participant in participant_list:\n",
    "    rank_dict[participant] = get_rankings(participant)\n",
    "  return rank_dict"
   ],
   "metadata": {
    "id": "WmyZRNosf4kR"
   },
   "execution_count": null,
   "outputs": []
  },
  {
   "cell_type": "code",
   "source": [
    "def make_pick(participant, rank_dict, drafted_dict):\n",
    "  for idx, pick in enumerate(rank_dict[participant]):\n",
    "    if drafted_dict[pick] == False:\n",
    "      drafted_dict[pick] = True\n",
    "      rank_dict[participant] = rank_dict[participant][idx:]\n",
    "      return pick"
   ],
   "metadata": {
    "id": "UFoNF6lET2vd"
   },
   "execution_count": null,
   "outputs": []
  },
  {
   "cell_type": "code",
   "source": [
    "def get_player_ids():\n",
    "  scope = ['https://spreadsheets.google.com/feeds', 'https://www.googleapis.com/auth/drive']\n",
    "  creds = ServiceAccountCredentials.from_json_keyfile_name('client_secret.json', scope)\n",
    "  client = gspread.authorize(creds)\n",
    "  sheet = client.open(f\"2022_mm_template\").get_worksheet(0)\n",
    "  player_ids = sheet.col_values(1)\n",
    "  return player_ids\n"
   ],
   "metadata": {
    "id": "ek7sncV5fyCR"
   },
   "execution_count": null,
   "outputs": []
  },
  {
   "cell_type": "code",
   "source": [
    "def create_drafted_dict(ids):\n",
    "  drafted_dict = {}\n",
    "  for id in ids[1:]:\n",
    "    drafted_dict[id] = False \n",
    "  return drafted_dict"
   ],
   "metadata": {
    "id": "zTOtvpnBVFDL"
   },
   "execution_count": null,
   "outputs": []
  },
  {
   "cell_type": "code",
   "source": [
    "player_ids = get_player_ids()"
   ],
   "metadata": {
    "id": "V4Dp0ld7htB8"
   },
   "execution_count": null,
   "outputs": []
  },
  {
   "cell_type": "code",
   "source": [
    "drafted_dict = create_drafted_dict(player_ids)"
   ],
   "metadata": {
    "id": "kJ5eLX4xh1Pj"
   },
   "execution_count": null,
   "outputs": []
  },
  {
   "cell_type": "code",
   "source": [
    "participants = ['rachel','wes','mitchell','travis','kirk','trevor','colin','jordan','landon','ross','barry','joe']"
   ],
   "metadata": {
    "id": "ScAcqmOwArH-"
   },
   "execution_count": null,
   "outputs": []
  },
  {
   "cell_type": "code",
   "source": [
    "def itemize_pick(pick, round, participant, player):\n",
    "  return {\"pick\": pick, \"round\": round, \"participant\": participant, \"player\": player}\n",
    "\n",
    "  "
   ],
   "metadata": {
    "id": "JL0a0HZzoG4J"
   },
   "execution_count": null,
   "outputs": []
  },
  {
   "cell_type": "code",
   "source": [
    "def draft(participants, rank_dict, drafted_dict, player_dict):\n",
    "  pick = 1\n",
    "  results = []\n",
    "  for idx in range(6):\n",
    "    round = idx * 2 + 1\n",
    "    for participant_turn in participants:\n",
    "      player = make_pick(participant_turn, rank_dict, drafted_dict)\n",
    "      pick_object = itemize_pick(pick, round, participant_turn, player)\n",
    "      results.append(pick_object)\n",
    "      player_dict[player] = pick_object\n",
    "      pick += 1\n",
    "    \n",
    "    round += 1\n",
    "    for participant_turn in reversed(participants):\n",
    "      player = make_pick(participant_turn, rank_dict, drafted_dict)\n",
    "      pick_object = itemize_pick(pick, round, participant_turn, player)\n",
    "      results.append(pick_object)\n",
    "      player_dict[player] = pick_object\n",
    "      pick += 1\n",
    "\n",
    "  return results\n",
    "\n"
   ],
   "metadata": {
    "id": "1-LMdMEMiqaE"
   },
   "execution_count": null,
   "outputs": []
  },
  {
   "cell_type": "code",
   "source": [
    "rank_dict = populate_rankings(participants)\n"
   ],
   "metadata": {
    "id": "iBMWuNsiqUuw"
   },
   "execution_count": null,
   "outputs": []
  },
  {
   "cell_type": "code",
   "source": [
    "player_dict = {}\n",
    "draft_results = draft(participants, rank_dict, drafted_dict, player_dict)"
   ],
   "metadata": {
    "id": "XRjU1pPnBSMG"
   },
   "execution_count": null,
   "outputs": []
  },
  {
   "cell_type": "code",
   "source": [
    "pd.DataFrame(draft_results).to_csv(\"final_draft.csv\")"
   ],
   "metadata": {
    "id": "CGRPNoVFrgzM"
   },
   "execution_count": null,
   "outputs": []
  },
  {
   "cell_type": "code",
   "source": [
    "AIRTABLE_TOKEN=\"keyl9LrLLdDp8h8i6\"\n",
    "AIRTABLE_BASE_ID=\"app8SX5ie2AsXBerJ\"\n",
    "PLAYERS_TABLE_ID = \"tblYbItXYdXMNzfwc\"\n",
    "TEST_TABLE_ID = \"tbl0Yv0I6nQcgrPCv\""
   ],
   "metadata": {
    "id": "FsO_eqYe3sXL"
   },
   "execution_count": null,
   "outputs": []
  },
  {
   "cell_type": "code",
   "source": [
    "AIRTABLE_URL = f\"https://api.airtable.com/v0/{AIRTABLE_BASE_ID}\""
   ],
   "metadata": {
    "id": "oldzZWqQ6xL0"
   },
   "execution_count": null,
   "outputs": []
  },
  {
   "cell_type": "code",
   "source": [
    "from pyairtable import Table"
   ],
   "metadata": {
    "id": "J7P_F-uxXEQX"
   },
   "execution_count": null,
   "outputs": []
  },
  {
   "cell_type": "code",
   "source": [
    "table = Table(AIRTABLE_TOKEN, AIRTABLE_BASE_ID, PLAYERS_TABLE_ID)"
   ],
   "metadata": {
    "id": "aLt8hWQwcCVS"
   },
   "execution_count": null,
   "outputs": []
  },
  {
   "cell_type": "code",
   "source": [
    "def get_record_id(table, player_name):\n",
    "  record = table.first(formula=f\"{{player_id}}='{player_name}'\")\n",
    "  return record[\"id\"]"
   ],
   "metadata": {
    "id": "aLFZ7fggghDd"
   },
   "execution_count": null,
   "outputs": []
  },
  {
   "cell_type": "code",
   "source": [
    "def update_draft_pick(table, id, pick_obj):\n",
    "  table.update(id, {\"participant\": pick_obj[\"participant\"], \"pick\": pick_obj[\"pick\"], \"rd\": str(pick_obj[\"round\"])})\n",
    "  "
   ],
   "metadata": {
    "id": "Fve88XOUhbuB"
   },
   "execution_count": null,
   "outputs": []
  },
  {
   "cell_type": "code",
   "source": [
    "def record_draft_in_airtable(player_dict, table):\n",
    "  for player in player_dict:\n",
    "    id = get_record_id(table, player)\n",
    "    pick_obj = player_dict[player]\n",
    "    update_draft_pick(table, id, pick_obj)\n",
    "    print(f\"Updated {player} to {pick_obj['participant']}, round {pick_obj['round']}, pick {pick_obj['pick']}\", )\n"
   ],
   "metadata": {
    "id": "wHg-7sXxjM03"
   },
   "execution_count": null,
   "outputs": []
  },
  {
   "cell_type": "code",
   "source": [
    "record_draft_in_airtable(player_dict, table)"
   ],
   "metadata": {
    "colab": {
     "base_uri": "https://localhost:8080/"
    },
    "id": "WPqOv78fjrLG",
    "outputId": "41639d04-8663-41b5-ccd5-58070b8c72b1"
   },
   "execution_count": null,
   "outputs": []
  }
 ]
}
