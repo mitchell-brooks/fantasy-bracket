{
 "cells": [
  {
   "cell_type": "code",
   "source": [
    "import os\n",
    "import csv"
   ],
   "metadata": {
    "collapsed": false,
    "ExecuteTime": {
     "end_time": "2025-03-20T03:34:10.992045Z",
     "start_time": "2025-03-20T03:34:10.989539Z"
    }
   },
   "outputs": [],
   "execution_count": 8
  },
  {
   "cell_type": "code",
   "source": [
    "from supabase import create_client, Client"
   ],
   "metadata": {
    "collapsed": false,
    "ExecuteTime": {
     "end_time": "2025-03-20T03:33:47.681721Z",
     "start_time": "2025-03-20T03:33:47.408344Z"
    }
   },
   "outputs": [],
   "execution_count": 3
  },
  {
   "metadata": {
    "ExecuteTime": {
     "end_time": "2025-03-17T02:08:25.803964Z",
     "start_time": "2025-03-17T02:08:24.017612Z"
    }
   },
   "cell_type": "code",
   "source": "pip install dotenv",
   "outputs": [
    {
     "name": "stdout",
     "output_type": "stream",
     "text": [
      "Collecting dotenv\r\n",
      "  Using cached dotenv-0.9.9-py2.py3-none-any.whl (1.9 kB)\r\n",
      "Collecting python-dotenv\r\n",
      "  Using cached python_dotenv-1.0.1-py3-none-any.whl (19 kB)\r\n",
      "Installing collected packages: python-dotenv, dotenv\r\n",
      "Successfully installed dotenv-0.9.9 python-dotenv-1.0.1\r\n",
      "\r\n",
      "\u001B[1m[\u001B[0m\u001B[34;49mnotice\u001B[0m\u001B[1;39;49m]\u001B[0m\u001B[39;49m A new release of pip is available: \u001B[0m\u001B[31;49m23.0.1\u001B[0m\u001B[39;49m -> \u001B[0m\u001B[32;49m25.0.1\u001B[0m\r\n",
      "\u001B[1m[\u001B[0m\u001B[34;49mnotice\u001B[0m\u001B[1;39;49m]\u001B[0m\u001B[39;49m To update, run: \u001B[0m\u001B[32;49m/Users/mlb/code/fantasy-bracket/venv/bin/python -m pip install --upgrade pip\u001B[0m\r\n",
      "Note: you may need to restart the kernel to use updated packages.\n"
     ]
    }
   ],
   "execution_count": 7
  },
  {
   "cell_type": "code",
   "source": [
    "import os\n",
    "from dotenv import load_dotenv\n",
    "from pathlib import Path\n",
    "\n",
    "env_path = Path('..') / '.env.local'\n",
    "load_dotenv(dotenv_path=env_path)\n",
    "\n",
    "url = os.getenv(\"NEXT_PUBLIC_SUPABASE_URL\")\n",
    "key = os.getenv(\"NEXT_PUBLIC_SUPABASE_ANON_KEY\")"
   ],
   "metadata": {
    "collapsed": false,
    "ExecuteTime": {
     "end_time": "2025-03-20T03:33:53.417830Z",
     "start_time": "2025-03-20T03:33:53.408731Z"
    }
   },
   "outputs": [],
   "execution_count": 4
  },
  {
   "cell_type": "code",
   "source": [
    "supabase: Client = create_client(url, key)"
   ],
   "metadata": {
    "collapsed": false,
    "ExecuteTime": {
     "end_time": "2025-03-20T03:33:56.752729Z",
     "start_time": "2025-03-20T03:33:56.729133Z"
    }
   },
   "outputs": [],
   "execution_count": 5
  },
  {
   "cell_type": "code",
   "source": [
    "data = supabase.table(\"league\").select(\"*\").execute()\n",
    "print(data)"
   ],
   "metadata": {
    "collapsed": false,
    "ExecuteTime": {
     "end_time": "2025-03-17T02:08:40.788163Z",
     "start_time": "2025-03-17T02:08:40.264429Z"
    }
   },
   "outputs": [
    {
     "name": "stdout",
     "output_type": "stream",
     "text": [
      "data=[{'league_unique': 'ncaambb', 'league_name': \"NCAA Men's Basketball\", 'sport': 'basketball', 'womens': False}] count=None\n"
     ]
    }
   ],
   "execution_count": 10
  },
  {
   "metadata": {
    "ExecuteTime": {
     "end_time": "2025-03-17T03:02:08.702040Z",
     "start_time": "2025-03-17T03:02:08.069894Z"
    }
   },
   "cell_type": "code",
   "source": "!pwd",
   "outputs": [
    {
     "name": "stdout",
     "output_type": "stream",
     "text": [
      "/Users/mlb/code/fantasy-bracket/data\r\n"
     ]
    }
   ],
   "execution_count": 15
  },
  {
   "cell_type": "code",
   "source": [
    "def generate_rounds(rounds_csv, competition_id: int):\n",
    "    rounds_insert = []\n",
    "    with open(rounds_csv, mode='r', encoding='utf-8-sig') as csv_file:\n",
    "        csv_reader = csv.DictReader(csv_file)\n",
    "        for row in csv_reader:\n",
    "            row['competition_id'] = competition_id\n",
    "            rounds_insert.append(row)\n",
    "    return rounds_insert\n",
    "\n",
    "def add_rounds_to_db(rounds_csv, competition_id, supabase_client):\n",
    "    supabase.table(\"competitionround\").upsert(generate_rounds(rounds_csv, competition_id), ignore_duplicates=True, on_conflict=\"round_num, competition_id\").execute()"
   ],
   "metadata": {
    "collapsed": false,
    "ExecuteTime": {
     "end_time": "2025-03-17T03:08:29.369910Z",
     "start_time": "2025-03-17T03:08:29.363989Z"
    }
   },
   "outputs": [],
   "execution_count": 20
  },
  {
   "cell_type": "code",
   "source": "add_rounds_to_db(\"2025/rounds-2025-ncaa-tournament.csv\", 6, supabase)",
   "metadata": {
    "collapsed": false,
    "ExecuteTime": {
     "end_time": "2025-03-17T03:09:10.526947Z",
     "start_time": "2025-03-17T03:09:10.324759Z"
    }
   },
   "outputs": [],
   "execution_count": 22
  },
  {
   "cell_type": "code",
   "source": [
    "def generate_conferences(conferences_csv, league_unique: str):\n",
    "    conferences_insert = []\n",
    "    with open(conferences_csv, mode='r', encoding='utf-8-sig') as csv_file:\n",
    "        csv_reader = csv.DictReader(csv_file)\n",
    "        for row in csv_reader:\n",
    "            trimmed_row = {key: row[key].lower() if key == 'conference_unique' else row[key] for key in row.keys()\n",
    "                           & {'conference_unique', 'conference_name'}}\n",
    "            trimmed_row['league_unique'] = league_unique.lower()\n",
    "            conferences_insert.append(trimmed_row)\n",
    "    return conferences_insert\n",
    "\n",
    "def add_conferences_to_db(conferences_csv, leage_unique: str, supabase_client):\n",
    "    supabase.table(\"conference\").insert(generate_conferences(conferences_csv, leage_unique)).execute()"
   ],
   "metadata": {
    "collapsed": false,
    "ExecuteTime": {
     "end_time": "2025-03-17T03:09:18.116224Z",
     "start_time": "2025-03-17T03:09:18.110942Z"
    }
   },
   "outputs": [],
   "execution_count": 23
  },
  {
   "cell_type": "code",
   "execution_count": null,
   "outputs": [],
   "source": [
    "add_conferences_to_db(\"ncaambb-conferences-2023.csv\", \"ncaambb\", supabase)"
   ],
   "metadata": {
    "collapsed": false
   }
  },
  {
   "cell_type": "code",
   "source": [
    "from datetime import date\n",
    "def generate_teams(team_stats_csv, team_seeds_csv, league_unique: str, competition_id: int, expected_num_teams: int, thru=date.today()):\n",
    "    team_insert = []\n",
    "    team_competition_insert = []\n",
    "    team_seed_dict = {}\n",
    "    with open(team_seeds_csv, mode='r', encoding='utf-8-sig') as csv_file:\n",
    "        seeds_csv_reader = csv.DictReader(csv_file)\n",
    "        for row in seeds_csv_reader:\n",
    "            team_seed_row = {key: row[key].lower() if key == 'team_unique' else row[key] for key in row.keys()\n",
    "                             & {'team_unique', 'seed','overall_seed', 'region', 'round_started'}}\n",
    "            team_seed_row['competition_id'] = competition_id\n",
    "            team_seed_row['league_unique'] = league_unique\n",
    "            team_seed_dict[team_seed_row['team_unique']] = team_seed_row\n",
    "    if len(team_seed_dict) != expected_num_teams:\n",
    "        print(team_seed_dict)\n",
    "        raise ValueError(\"Number of teams in seed file does not match expected number of teams\")\n",
    "    with open(team_stats_csv, mode='r', encoding='utf-8-sig') as csv_file:\n",
    "        stats_csv_reader = csv.DictReader(csv_file)\n",
    "        for row in stats_csv_reader:\n",
    "            team_unique = row['abbreviation'].lower()\n",
    "            if team_unique[:-6] == \"/women\":\n",
    "                team_unique = team_unique[:-6]\n",
    "            if team_unique[:-4] == \"/men\":\n",
    "                team_unique = team_unique[:-4]\n",
    "            team_row = {'league_unique': league_unique,\n",
    "                        'team_unique': team_unique,\n",
    "                        'team_name': row['name']}\n",
    "            team_insert.append(team_row)\n",
    "            team_seed_dict[team_unique]['team_stats'] = {key: float(row[key]) if row[key] else 0 for key in row.keys() & {'effective_field_goal_percentage','strength_of_schedule','assist_percentage', 'free_throw_attempt_rate',  'offensive_rating', 'opp_effective_field_goal_percentage', 'two_point_field_goal_percentage', 'three_point_field_goal_percentage', 'pace', 'three_point_attempt_rate', 'true_shooting_percentage', 'turnover_percentage'}}\n",
    "            team_seed_dict[team_unique]['team_win_loss'] = {key: float(row[key]) if row[key] else 0 for key in row.keys() & {'games_played','wins', 'losses','conference_wins', 'conference_losses'}}\n",
    "            team_seed_dict[team_unique]['team_stats']['conference'] = row['conference'].lower()\n",
    "            team_seed_dict[team_unique]['stats_thru'] = thru\n",
    "            team_competition_insert.append(team_seed_dict[team_unique])\n",
    "    if len(team_insert) != expected_num_teams or len(team_competition_insert) != expected_num_teams:\n",
    "        print(team_seed_dict, team_insert)\n",
    "        raise ValueError(\"Number of teams in csv does not match expected number of teams after stat processing\")\n",
    "    else:\n",
    "        return [team_insert, team_competition_insert]\n",
    "\n",
    "\n",
    "def add_teams_to_db(team_stats_csv, team_seeds_csv, leage_unique: str, competition_id: str, expected_num_teams: int, thru, supabase_client):\n",
    "    [teams, team_competition] = generate_teams(team_stats_csv, team_seeds_csv, leage_unique, competition_id, expected_num_teams, thru)\n",
    "    supabase.table(\"team\").upsert(teams, ignore_duplicates=True,\n",
    "                                  on_conflict=\"team_unique, league_unique\").execute()\n",
    "    supabase_client.table(\"team_competition\").upsert(team_competition, ignore_duplicates=False,\n",
    "                                  on_conflict=\"team_unique, competition_id, league_unique\").execute()"
   ],
   "metadata": {
    "collapsed": false,
    "ExecuteTime": {
     "end_time": "2025-03-20T03:45:41.588348Z",
     "start_time": "2025-03-20T03:45:41.574057Z"
    }
   },
   "outputs": [],
   "execution_count": 14
  },
  {
   "cell_type": "code",
   "source": "add_teams_to_db(team_stats_csv=\"2025/2025_ncaa_tournament_team_stats.csv\", team_seeds_csv=\"2025/2025_ncaa_tournament_team_seeds.csv\", leage_unique=\"ncaambb\", competition_id=6, expected_num_teams=68, thru='2025-03-16', supabase_client=supabase)",
   "metadata": {
    "collapsed": false,
    "ExecuteTime": {
     "end_time": "2025-03-20T03:45:43.982631Z",
     "start_time": "2025-03-20T03:45:43.690677Z"
    }
   },
   "outputs": [],
   "execution_count": 15
  },
  {
   "cell_type": "code",
   "execution_count": 100,
   "outputs": [],
   "source": [
    "# this functionality has been moved into the add_teams_to_db function\n",
    "def generate_team_seeds(team_seeds_csv, league_unique: str, competition_id: int, expected_num_teams: int):\n",
    "    team_seed_insert = []\n",
    "    with open(team_seeds_csv, mode='r', encoding='utf-8-sig') as csv_file:\n",
    "        seeds_csv_reader = csv.DictReader(csv_file)\n",
    "        for row in seeds_csv_reader:\n",
    "            team_seed_row = {key: row[key].lower() if key == 'team_unique' else row[key] for key in row.keys()\n",
    "                             & {'team_unique', 'seed','overall_seed', 'region'}}\n",
    "            team_seed_row['competition_id'] = competition_id\n",
    "            team_seed_row['league_unique'] = league_unique\n",
    "            team_seed_insert.append(team_seed_row)\n",
    "    if len(team_seed_insert) != expected_num_teams:\n",
    "        raise ValueError(\"Number of teams in seed file does not match expected number of teams\")\n",
    "    return team_seed_insert\n",
    "\n",
    "\n",
    "def add_seeds_to_db(team_seeds_csv, league_unique: str, competition_id: str, expected_num_teams: int, supabase_client):\n",
    "    seeds = generate_team_seeds(team_seeds_csv, league_unique, competition_id, expected_num_teams)\n",
    "    supabase_client.table(\"team_competition\").upsert(seeds, ignore_duplicates=False,\n",
    "                                  on_conflict=\"team_unique, competition_id, league_unique\").execute()"
   ],
   "metadata": {
    "collapsed": false
   }
  },
  {
   "cell_type": "code",
   "execution_count": 101,
   "outputs": [],
   "source": [
    "# add_seeds_to_db(team_seeds_csv=\"2023_acc_tournament_team_seeds.csv\", league_unique=\"ncaambb\", competition_id=3, expected_num_teams=15, supabase_client=supabase)"
   ],
   "metadata": {
    "collapsed": false
   }
  },
  {
   "cell_type": "code",
   "source": [
    "from datetime import date\n",
    "def generate_players(player_stats_csv, competition_id: int, league_unique: str, thru=date.today()):\n",
    "    player_insert = []\n",
    "    player_competition_insert= []\n",
    "    player_stat_insert = []\n",
    "    with open(player_stats_csv, mode='r', encoding='utf-8-sig') as csv_file:\n",
    "        csv_reader = csv.DictReader(csv_file)\n",
    "        for row in csv_reader:\n",
    "            player_unique = row['player_id'].lower()\n",
    "            # if any(p.get('player_unique') == player_unique for p in player_insert):\n",
    "            #     continue\n",
    "            team_unique=row['team_abbreviation'].lower()\n",
    "            player_row = {'player_unique': player_unique,'player_name': row['name']}\n",
    "            if 'birthdate' in row:\n",
    "                player_row['birthdate'] = row['birthdate']\n",
    "            if 'position' in row:\n",
    "                player_row['position'] = row['position']\n",
    "            player_stats = {key: float(row[key]) if row[key] else 0 for key in row.keys()\n",
    "                             & {'points', 'assists','blocks', 'minutes_played', 'effective_field_goal_percentage', 'field_goals', 'field_goal_attempts','field_goal_percentage', 'two_pointers', 'two_point_attempts', 'two_point_percentage', 'three_pointers', 'three_point_attempts','three_point_percentage', 'free_throws', 'free_throw_attempts','free_throw_percentage', 'free_throw_attempt_rate', 'offensive_rebounds', 'defensive_rebounds', 'steals', 'turnovers', 'personal_fouls', 'usage_percentage','true_shooting_percentage', 'player_efficiency_rating', 'games_played', 'games_started'}} \n",
    "            player_stats['rebounds'] = int(float(row['total_rebounds'])) if row['total_rebounds'] else 0\n",
    "            # player_stats['season'] = row['season']\n",
    "            player_competition_row = {'player_unique': player_unique, 'competition_id': competition_id,\n",
    "                                      'league_unique': league_unique, 'team_unique': team_unique, 'inactive': False,\n",
    "                                      'stats_thru': thru, 'player_stats': player_stats}\n",
    "\n",
    "            player_insert.append(player_row)\n",
    "            player_competition_insert.append(player_competition_row)\n",
    "            player_stat_insert.append(player_stats)\n",
    "    return [player_insert, player_competition_insert, player_stat_insert]\n",
    "\n",
    "\n",
    "def add_players_to_db(player_stats_csv,  competition_id: str, league_unique: str, thru, supabase_client):\n",
    "    [players, player_competition, player_stats] = generate_players(player_stats_csv, competition_id, league_unique, thru)\n",
    "    supabase.table(\"player\").upsert(players, ignore_duplicates=True,\n",
    "                                  on_conflict=\"player_unique\").execute()\n",
    "    supabase.table(\"player_competition\").upsert(player_competition, ignore_duplicates=False, on_conflict='player_unique,competition_id').execute()\n",
    "    # supabase.table(\"stats_player_precompetitionsnapshot_basketball\").upsert(player_stats, ignore_duplicates=False, on_conflict='player_unique,competition_id').execute()"
   ],
   "metadata": {
    "collapsed": false,
    "ExecuteTime": {
     "end_time": "2025-03-20T03:46:42.204954Z",
     "start_time": "2025-03-20T03:46:42.192990Z"
    }
   },
   "outputs": [],
   "execution_count": 19
  },
  {
   "cell_type": "code",
   "source": "add_players_to_db(player_stats_csv=\"2025/2025_ncaa_tournament_player_stats.csv\", competition_id=6, league_unique='ncaambb', thru='2025-03-16', supabase_client=supabase)",
   "metadata": {
    "collapsed": false,
    "ExecuteTime": {
     "end_time": "2025-03-20T03:46:44.768894Z",
     "start_time": "2025-03-20T03:46:44.286888Z"
    }
   },
   "outputs": [],
   "execution_count": 20
  },
  {
   "cell_type": "code",
   "execution_count": null,
   "outputs": [],
   "source": [
    "add_picks_to_db:"
   ],
   "metadata": {
    "collapsed": false
   }
  },
  {
   "cell_type": "code",
   "outputs": [
    {
     "ename": "TypeError",
     "evalue": "update_user_by_id() missing 1 required positional argument: 'attributes'",
     "output_type": "error",
     "traceback": [
      "\u001B[0;31m---------------------------------------------------------------------------\u001B[0m",
      "\u001B[0;31mTypeError\u001B[0m                                 Traceback (most recent call last)",
      "Cell \u001B[0;32mIn[13], line 1\u001B[0m\n\u001B[0;32m----> 1\u001B[0m \u001B[43msupabase\u001B[49m\u001B[38;5;241;43m.\u001B[39;49m\u001B[43mauth\u001B[49m\u001B[38;5;241;43m.\u001B[39;49m\u001B[43madmin\u001B[49m\u001B[38;5;241;43m.\u001B[39;49m\u001B[43mupdate_user_by_id\u001B[49m\u001B[43m(\u001B[49m\u001B[43m{\u001B[49m\u001B[38;5;124;43m\"\u001B[39;49m\u001B[38;5;124;43mid\u001B[39;49m\u001B[38;5;124;43m\"\u001B[39;49m\u001B[43m:\u001B[49m\u001B[43m \u001B[49m\u001B[38;5;124;43m\"\u001B[39;49m\u001B[38;5;124;43mmitchellbrooks+test7@gmail.com\u001B[39;49m\u001B[38;5;124;43m\"\u001B[39;49m\u001B[43m,\u001B[49m\u001B[43m \u001B[49m\u001B[38;5;124;43m\"\u001B[39;49m\u001B[38;5;124;43mpassword\u001B[39;49m\u001B[38;5;124;43m\"\u001B[39;49m\u001B[43m:\u001B[49m\u001B[43m \u001B[49m\u001B[38;5;124;43m\"\u001B[39;49m\u001B[38;5;124;43massword1\u001B[39;49m\u001B[38;5;124;43m\"\u001B[39;49m\u001B[43m \u001B[49m\u001B[43m}\u001B[49m\u001B[43m)\u001B[49m\n",
      "\u001B[0;31mTypeError\u001B[0m: update_user_by_id() missing 1 required positional argument: 'attributes'"
     ]
    }
   ],
   "source": [
    "supabase.auth.admin.update_user_by_id({\"id\": \"mitchellbrooks+test7@gmail.com\", \"password\": \"assword1\" })"
   ],
   "metadata": {
    "collapsed": false,
    "ExecuteTime": {
     "end_time": "2024-03-18T04:27:19.573392Z",
     "start_time": "2024-03-18T04:27:19.548780Z"
    }
   },
   "execution_count": 13
  },
  {
   "metadata": {
    "ExecuteTime": {
     "end_time": "2025-03-17T04:20:56.439421Z",
     "start_time": "2025-03-17T04:20:56.415149Z"
    }
   },
   "cell_type": "code",
   "source": [
    "import csv\n",
    "\n",
    "def deduplicate_csv(input_csv, output_csv):\n",
    "    seen = set()\n",
    "    with open(input_csv, mode='r', encoding='utf-8-sig') as infile, open(output_csv, mode='w', newline='', encoding='utf-8-sig') as outfile:\n",
    "        reader = csv.reader(infile)\n",
    "        writer = csv.writer(outfile)\n",
    "        for row in reader:\n",
    "            row_tuple = tuple(row)\n",
    "            if row_tuple not in seen:\n",
    "                seen.add(row_tuple)\n",
    "                writer.writerow(row)\n",
    "\n",
    "deduplicate_csv('2025/2025_ncaa_tournament_player_stats.csv', '2025/2025_ncaa_tournament_player_stats_deduped.csv')"
   ],
   "outputs": [],
   "execution_count": 51
  },
  {
   "metadata": {
    "ExecuteTime": {
     "end_time": "2025-03-17T04:09:29.353278Z",
     "start_time": "2025-03-17T04:09:29.334358Z"
    }
   },
   "cell_type": "code",
   "source": [
    "import csv\n",
    "\n",
    "def get_unique_column_values(csv_file, column_name):\n",
    "    unique_values = set()\n",
    "    with open(csv_file, mode='r', encoding='utf-8-sig') as infile:\n",
    "        reader = csv.DictReader(infile)\n",
    "        for row in reader:\n",
    "            unique_values.add(row[column_name])\n",
    "    return list(unique_values)\n",
    "\n",
    "get_unique_column_values('2025/2025_ncaa_tournament_player_stats.csv', 'team_unique')\n"
   ],
   "outputs": [
    {
     "ename": "KeyError",
     "evalue": "'team_unique'",
     "output_type": "error",
     "traceback": [
      "\u001B[0;31m---------------------------------------------------------------------------\u001B[0m",
      "\u001B[0;31mKeyError\u001B[0m                                  Traceback (most recent call last)",
      "Cell \u001B[0;32mIn[50], line 11\u001B[0m\n\u001B[1;32m      8\u001B[0m             unique_values\u001B[38;5;241m.\u001B[39madd(row[column_name])\n\u001B[1;32m      9\u001B[0m     \u001B[38;5;28;01mreturn\u001B[39;00m \u001B[38;5;28mlist\u001B[39m(unique_values)\n\u001B[0;32m---> 11\u001B[0m \u001B[43mget_unique_column_values\u001B[49m\u001B[43m(\u001B[49m\u001B[38;5;124;43m'\u001B[39;49m\u001B[38;5;124;43m2025/2025_ncaa_tournament_player_stats.csv\u001B[39;49m\u001B[38;5;124;43m'\u001B[39;49m\u001B[43m,\u001B[49m\u001B[43m \u001B[49m\u001B[38;5;124;43m'\u001B[39;49m\u001B[38;5;124;43mteam_unique\u001B[39;49m\u001B[38;5;124;43m'\u001B[39;49m\u001B[43m)\u001B[49m\n",
      "Cell \u001B[0;32mIn[50], line 8\u001B[0m, in \u001B[0;36mget_unique_column_values\u001B[0;34m(csv_file, column_name)\u001B[0m\n\u001B[1;32m      6\u001B[0m     reader \u001B[38;5;241m=\u001B[39m csv\u001B[38;5;241m.\u001B[39mDictReader(infile)\n\u001B[1;32m      7\u001B[0m     \u001B[38;5;28;01mfor\u001B[39;00m row \u001B[38;5;129;01min\u001B[39;00m reader:\n\u001B[0;32m----> 8\u001B[0m         unique_values\u001B[38;5;241m.\u001B[39madd(\u001B[43mrow\u001B[49m\u001B[43m[\u001B[49m\u001B[43mcolumn_name\u001B[49m\u001B[43m]\u001B[49m)\n\u001B[1;32m      9\u001B[0m \u001B[38;5;28;01mreturn\u001B[39;00m \u001B[38;5;28mlist\u001B[39m(unique_values)\n",
      "\u001B[0;31mKeyError\u001B[0m: 'team_unique'"
     ]
    }
   ],
   "execution_count": 50
  }
 ],
 "metadata": {
  "kernelspec": {
   "display_name": "Python 3",
   "language": "python",
   "name": "python3"
  },
  "language_info": {
   "codemirror_mode": {
    "name": "ipython",
    "version": 2
   },
   "file_extension": ".py",
   "mimetype": "text/x-python",
   "name": "python",
   "nbconvert_exporter": "python",
   "pygments_lexer": "ipython2",
   "version": "2.7.6"
  }
 },
 "nbformat": 4,
 "nbformat_minor": 0
}
