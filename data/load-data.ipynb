{
 "cells": [
  {
   "cell_type": "code",
   "execution_count": 1,
   "outputs": [],
   "source": [
    "import os\n",
    "import csv"
   ],
   "metadata": {
    "collapsed": false,
    "ExecuteTime": {
     "end_time": "2024-03-18T02:54:47.196747Z",
     "start_time": "2024-03-18T02:54:47.187965Z"
    }
   }
  },
  {
   "cell_type": "code",
   "execution_count": 2,
   "outputs": [],
   "source": [
    "from supabase import create_client, Client"
   ],
   "metadata": {
    "collapsed": false,
    "ExecuteTime": {
     "end_time": "2024-03-18T02:54:49.032999Z",
     "start_time": "2024-03-18T02:54:48.605981Z"
    }
   }
  },
  {
   "cell_type": "code",
   "execution_count": 3,
   "outputs": [],
   "source": [
    "import os\n",
    "from dotenv import load_dotenv\n",
    "from pathlib import Path\n",
    "\n",
    "env_path = Path('..') / '.env.local'\n",
    "load_dotenv(dotenv_path=env_path)\n",
    "\n",
    "url = os.getenv(\"NEXT_PUBLIC_SUPABASE_URL\")\n",
    "key = os.getenv(\"NEXT_PUBLIC_SUPABASE_ANON_KEY\")"
   ],
   "metadata": {
    "collapsed": false,
    "ExecuteTime": {
     "end_time": "2024-03-18T02:54:51.823475Z",
     "start_time": "2024-03-18T02:54:51.814004Z"
    }
   }
  },
  {
   "cell_type": "code",
   "execution_count": 4,
   "outputs": [],
   "source": [
    "supabase: Client = create_client(url, key)"
   ],
   "metadata": {
    "collapsed": false,
    "ExecuteTime": {
     "end_time": "2024-03-18T02:54:57.828115Z",
     "start_time": "2024-03-18T02:54:57.804471Z"
    }
   }
  },
  {
   "cell_type": "code",
   "execution_count": 5,
   "outputs": [
    {
     "name": "stdout",
     "output_type": "stream",
     "text": [
      "data=[{'league_unique': 'ncaambb', 'league_name': \"NCAA Men's Basketball\", 'sport': 'basketball', 'womens': False}] count=None\n"
     ]
    }
   ],
   "source": [
    "data = supabase.table(\"league\").select(\"*\").execute()\n",
    "print(data)"
   ],
   "metadata": {
    "collapsed": false,
    "ExecuteTime": {
     "end_time": "2024-03-18T02:55:04.345010Z",
     "start_time": "2024-03-18T02:55:04.069661Z"
    }
   }
  },
  {
   "cell_type": "code",
   "execution_count": 32,
   "outputs": [],
   "source": [
    "def generate_rounds(rounds_csv, competition_id: int):\n",
    "    rounds_insert = []\n",
    "    with open(rounds_csv, mode='r', encoding='utf-8-sig') as csv_file:\n",
    "        csv_reader = csv.DictReader(csv_file)\n",
    "        for row in csv_reader:\n",
    "            row['competition_id'] = competition_id\n",
    "            rounds_insert.append(row)\n",
    "    return rounds_insert\n",
    "\n",
    "def add_rounds_to_db(rounds_csv, competition_id, supabase_client):\n",
    "    supabase.table(\"competitionround\").upsert(generate_rounds(rounds_csv, competition_id), ignore_duplicates=True, on_conflict=\"round_number, competition_id\").execute()"
   ],
   "metadata": {
    "collapsed": false
   }
  },
  {
   "cell_type": "code",
   "execution_count": null,
   "outputs": [],
   "source": [
    "add_rounds_to_db(\"rounds-2023-ncaa-tournament.csv\", 1, supabase)"
   ],
   "metadata": {
    "collapsed": false
   }
  },
  {
   "cell_type": "code",
   "execution_count": 39,
   "outputs": [],
   "source": [
    "def generate_conferences(conferences_csv, league_unique: str):\n",
    "    conferences_insert = []\n",
    "    with open(conferences_csv, mode='r', encoding='utf-8-sig') as csv_file:\n",
    "        csv_reader = csv.DictReader(csv_file)\n",
    "        for row in csv_reader:\n",
    "            trimmed_row = {key: row[key].lower() if key == 'conference_unique' else row[key] for key in row.keys()\n",
    "                           & {'conference_unique', 'conference_name'}}\n",
    "            trimmed_row['league_unique'] = league_unique.lower()\n",
    "            conferences_insert.append(trimmed_row)\n",
    "    return conferences_insert\n",
    "\n",
    "def add_conferences_to_db(conferences_csv, leage_unique: str, supabase_client):\n",
    "    supabase.table(\"conference\").insert(generate_conferences(conferences_csv, leage_unique)).execute()"
   ],
   "metadata": {
    "collapsed": false
   }
  },
  {
   "cell_type": "code",
   "execution_count": null,
   "outputs": [],
   "source": [
    "add_conferences_to_db(\"ncaambb-conferences-2023.csv\", \"ncaambb\", supabase)"
   ],
   "metadata": {
    "collapsed": false
   }
  },
  {
   "cell_type": "code",
   "execution_count": 6,
   "outputs": [],
   "source": [
    "from datetime import date\n",
    "def generate_teams(team_stats_csv, team_seeds_csv, league_unique: str, competition_id: int, expected_num_teams: int, thru=date.today()):\n",
    "    team_insert = []\n",
    "    team_competition_insert = []\n",
    "    team_seed_dict = {}\n",
    "    with open(team_seeds_csv, mode='r', encoding='utf-8-sig') as csv_file:\n",
    "        seeds_csv_reader = csv.DictReader(csv_file)\n",
    "        for row in seeds_csv_reader:\n",
    "            team_seed_row = {key: row[key].lower() if key == 'team_unique' else row[key] for key in row.keys()\n",
    "                             & {'team_unique', 'seed','overall_seed', 'region', 'round_started'}}\n",
    "            team_seed_row['competition_id'] = competition_id\n",
    "            team_seed_row['league_unique'] = league_unique\n",
    "            team_seed_dict[team_seed_row['team_unique']] = team_seed_row\n",
    "    if len(team_seed_dict) != expected_num_teams:\n",
    "        print(team_seed_dict)\n",
    "        raise ValueError(\"Number of teams in seed file does not match expected number of teams\")\n",
    "    with open(team_stats_csv, mode='r', encoding='utf-8-sig') as csv_file:\n",
    "        stats_csv_reader = csv.DictReader(csv_file)\n",
    "        for row in stats_csv_reader:\n",
    "            team_unique = row['abbreviation'].lower()\n",
    "            if team_unique[:-6] == \"/women\":\n",
    "                team_unique = team_unique[:-6]\n",
    "            if team_unique[:-4] == \"/men\":\n",
    "                team_unique = team_unique[:-4]\n",
    "            team_row = {'league_unique': league_unique,\n",
    "                        'team_unique': team_unique,\n",
    "                        'team_name': row['name']}\n",
    "            team_insert.append(team_row)\n",
    "            team_seed_dict[team_unique]['team_stats'] = {key: float(row[key]) if row[key] else 0 for key in row.keys() & {'effective_field_goal_percentage','strength_of_schedule','assist_percentage', 'free_throw_attempt_rate',  'offensive_rating', 'opp_effective_field_goal_percentage', 'two_point_field_goal_percentage', 'three_point_field_goal_percentage', 'pace', 'three_point_attempt_rate', 'true_shooting_percentage', 'turnover_percentage'}}\n",
    "            team_seed_dict[team_unique]['team_win_loss'] = {key: float(row[key]) if row[key] else 0 for key in row.keys() & {'games_played','wins', 'losses','conference_wins', 'conference_losses'}}\n",
    "            team_seed_dict[team_unique]['team_stats']['conference'] = row['conference'].lower()\n",
    "            team_seed_dict[team_unique]['stats_thru'] = thru\n",
    "            team_competition_insert.append(team_seed_dict[team_unique])\n",
    "    if len(team_insert) != expected_num_teams or len(team_competition_insert) != expected_num_teams:\n",
    "        print(team_seed_dict, team_insert)\n",
    "        raise ValueError(\"Number of teams in csv does not match expected number of teams after stat processing\")\n",
    "    else:\n",
    "        return [team_insert, team_competition_insert]\n",
    "\n",
    "\n",
    "def add_teams_to_db(team_stats_csv, team_seeds_csv, leage_unique: str, competition_id: str, expected_num_teams: int, thru, supabase_client):\n",
    "    [teams, team_competition] = generate_teams(team_stats_csv, team_seeds_csv, leage_unique, competition_id, expected_num_teams, thru)\n",
    "    supabase.table(\"team\").upsert(teams, ignore_duplicates=True,\n",
    "                                  on_conflict=\"team_unique, league_unique\").execute()\n",
    "    supabase_client.table(\"team_competition\").upsert(team_competition, ignore_duplicates=False,\n",
    "                                  on_conflict=\"team_unique, competition_id, league_unique\").execute()"
   ],
   "metadata": {
    "collapsed": false,
    "ExecuteTime": {
     "end_time": "2024-03-18T02:56:08.333444Z",
     "start_time": "2024-03-18T02:56:08.302753Z"
    }
   }
  },
  {
   "cell_type": "code",
   "execution_count": 8,
   "outputs": [],
   "source": [
    "add_teams_to_db(team_stats_csv=\"2024/2024_ncaa_tournament_team_stats.csv\", team_seeds_csv=\"2024/2024_ncaa_tournament_team_seeds.csv\", leage_unique=\"ncaambb\", competition_id=5, expected_num_teams=68, thru='2024-03-17', supabase_client=supabase)"
   ],
   "metadata": {
    "collapsed": false,
    "ExecuteTime": {
     "end_time": "2024-03-18T02:59:11.782656Z",
     "start_time": "2024-03-18T02:59:11.417661Z"
    }
   }
  },
  {
   "cell_type": "code",
   "execution_count": 100,
   "outputs": [],
   "source": [
    "# this functionality has been moved into the add_teams_to_db function\n",
    "def generate_team_seeds(team_seeds_csv, league_unique: str, competition_id: int, expected_num_teams: int):\n",
    "    team_seed_insert = []\n",
    "    with open(team_seeds_csv, mode='r', encoding='utf-8-sig') as csv_file:\n",
    "        seeds_csv_reader = csv.DictReader(csv_file)\n",
    "        for row in seeds_csv_reader:\n",
    "            team_seed_row = {key: row[key].lower() if key == 'team_unique' else row[key] for key in row.keys()\n",
    "                             & {'team_unique', 'seed','overall_seed', 'region'}}\n",
    "            team_seed_row['competition_id'] = competition_id\n",
    "            team_seed_row['league_unique'] = league_unique\n",
    "            team_seed_insert.append(team_seed_row)\n",
    "    if len(team_seed_insert) != expected_num_teams:\n",
    "        raise ValueError(\"Number of teams in seed file does not match expected number of teams\")\n",
    "    return team_seed_insert\n",
    "\n",
    "\n",
    "def add_seeds_to_db(team_seeds_csv, league_unique: str, competition_id: str, expected_num_teams: int, supabase_client):\n",
    "    seeds = generate_team_seeds(team_seeds_csv, league_unique, competition_id, expected_num_teams)\n",
    "    supabase_client.table(\"team_competition\").upsert(seeds, ignore_duplicates=False,\n",
    "                                  on_conflict=\"team_unique, competition_id, league_unique\").execute()"
   ],
   "metadata": {
    "collapsed": false
   }
  },
  {
   "cell_type": "code",
   "execution_count": 101,
   "outputs": [],
   "source": [
    "# add_seeds_to_db(team_seeds_csv=\"2023_acc_tournament_team_seeds.csv\", league_unique=\"ncaambb\", competition_id=3, expected_num_teams=15, supabase_client=supabase)"
   ],
   "metadata": {
    "collapsed": false
   }
  },
  {
   "cell_type": "code",
   "execution_count": 11,
   "outputs": [],
   "source": [
    "from datetime import date\n",
    "def generate_players(player_stats_csv, competition_id: int, league_unique:str, thru=date.today()):\n",
    "    player_insert = []\n",
    "    player_competition_insert= []\n",
    "    player_stat_insert = []\n",
    "    with open(player_stats_csv, mode='r', encoding='utf-8-sig') as csv_file:\n",
    "        csv_reader = csv.DictReader(csv_file)\n",
    "        for row in csv_reader:\n",
    "            player_unique = row['player_id'].lower()\n",
    "            team_unique=row['team_abbreviation'].lower()\n",
    "            player_row = {'player_unique': player_unique,'player_name': row['name']}\n",
    "            if 'birthdate' in row:\n",
    "                player_row['birthdate'] = row['birthdate']\n",
    "            if 'position' in row:\n",
    "                player_row['position'] = row['position']\n",
    "            player_stats = {key: float(row[key]) if row[key] else 0 for key in row.keys()\n",
    "                             & {'points', 'assists','blocks', 'minutes_played', 'effective_field_goal_percentage', 'field_goals', 'field_goal_attempts','field_goal_percentage', 'two_pointers', 'two_point_attempts', 'two_point_percentage', 'three_pointers', 'three_point_attempts','three_point_percentage', 'free_throws', 'free_throw_attempts','free_throw_percentage', 'free_throw_attempt_rate', 'offensive_rebounds', 'defensive_rebounds', 'steals', 'turnovers', 'personal_fouls', 'usage_percentage','true_shooting_percentage', 'player_efficiency_rating', 'games_played', 'games_started'}} \n",
    "            player_stats['rebounds'] = int(float(row['total_rebounds'])) if row['total_rebounds'] else 0\n",
    "            player_competition_row = {'player_unique': player_unique, 'competition_id': competition_id,\n",
    "                                      'league_unique': league_unique, 'team_unique': team_unique, 'inactive': False,\n",
    "                                      'stats_thru': thru, 'player_stats': player_stats}\n",
    "\n",
    "            player_insert.append(player_row)\n",
    "            player_competition_insert.append(player_competition_row)\n",
    "            player_stat_insert.append(player_stats)\n",
    "    return [player_insert, player_competition_insert, player_stat_insert]\n",
    "\n",
    "\n",
    "def add_players_to_db(player_stats_csv,  competition_id: str, league_unique: str, thru, supabase_client):\n",
    "    [players, player_competition, player_stats] = generate_players(player_stats_csv, competition_id, league_unique, thru)\n",
    "    supabase.table(\"player\").upsert(players, ignore_duplicates=True,\n",
    "                                  on_conflict=\"player_unique\").execute()\n",
    "    supabase.table(\"player_competition\").upsert(player_competition, ignore_duplicates=False, on_conflict='player_unique,competition_id').execute()\n",
    "    # supabase.table(\"stats_player_precompetitionsnapshot_basketball\").upsert(player_stats, ignore_duplicates=False, on_conflict='player_unique,competition_id').execute()"
   ],
   "metadata": {
    "collapsed": false,
    "ExecuteTime": {
     "end_time": "2024-03-18T03:40:20.538937Z",
     "start_time": "2024-03-18T03:40:20.509512Z"
    }
   }
  },
  {
   "cell_type": "code",
   "execution_count": 12,
   "outputs": [],
   "source": [
    "add_players_to_db(player_stats_csv=\"2024/2024_ncaa_tournament_player_stats.csv\", competition_id=5, league_unique='ncaambb', thru='2023-03-17', supabase_client=supabase)"
   ],
   "metadata": {
    "collapsed": false,
    "ExecuteTime": {
     "end_time": "2024-03-18T03:40:24.591367Z",
     "start_time": "2024-03-18T03:40:23.708607Z"
    }
   }
  },
  {
   "cell_type": "code",
   "execution_count": null,
   "outputs": [],
   "source": [
    "add_picks_to_db:"
   ],
   "metadata": {
    "collapsed": false
   }
  },
  {
   "cell_type": "code",
   "outputs": [
    {
     "ename": "TypeError",
     "evalue": "update_user_by_id() missing 1 required positional argument: 'attributes'",
     "output_type": "error",
     "traceback": [
      "\u001B[0;31m---------------------------------------------------------------------------\u001B[0m",
      "\u001B[0;31mTypeError\u001B[0m                                 Traceback (most recent call last)",
      "Cell \u001B[0;32mIn[13], line 1\u001B[0m\n\u001B[0;32m----> 1\u001B[0m \u001B[43msupabase\u001B[49m\u001B[38;5;241;43m.\u001B[39;49m\u001B[43mauth\u001B[49m\u001B[38;5;241;43m.\u001B[39;49m\u001B[43madmin\u001B[49m\u001B[38;5;241;43m.\u001B[39;49m\u001B[43mupdate_user_by_id\u001B[49m\u001B[43m(\u001B[49m\u001B[43m{\u001B[49m\u001B[38;5;124;43m\"\u001B[39;49m\u001B[38;5;124;43mid\u001B[39;49m\u001B[38;5;124;43m\"\u001B[39;49m\u001B[43m:\u001B[49m\u001B[43m \u001B[49m\u001B[38;5;124;43m\"\u001B[39;49m\u001B[38;5;124;43mmitchellbrooks+test7@gmail.com\u001B[39;49m\u001B[38;5;124;43m\"\u001B[39;49m\u001B[43m,\u001B[49m\u001B[43m \u001B[49m\u001B[38;5;124;43m\"\u001B[39;49m\u001B[38;5;124;43mpassword\u001B[39;49m\u001B[38;5;124;43m\"\u001B[39;49m\u001B[43m:\u001B[49m\u001B[43m \u001B[49m\u001B[38;5;124;43m\"\u001B[39;49m\u001B[38;5;124;43massword1\u001B[39;49m\u001B[38;5;124;43m\"\u001B[39;49m\u001B[43m \u001B[49m\u001B[43m}\u001B[49m\u001B[43m)\u001B[49m\n",
      "\u001B[0;31mTypeError\u001B[0m: update_user_by_id() missing 1 required positional argument: 'attributes'"
     ]
    }
   ],
   "source": [
    "supabase.auth.admin.update_user_by_id({\"id\": \"mitchellbrooks+test7@gmail.com\", \"password\": \"assword1\" })"
   ],
   "metadata": {
    "collapsed": false,
    "ExecuteTime": {
     "end_time": "2024-03-18T04:27:19.573392Z",
     "start_time": "2024-03-18T04:27:19.548780Z"
    }
   },
   "execution_count": 13
  }
 ],
 "metadata": {
  "kernelspec": {
   "display_name": "Python 3",
   "language": "python",
   "name": "python3"
  },
  "language_info": {
   "codemirror_mode": {
    "name": "ipython",
    "version": 2
   },
   "file_extension": ".py",
   "mimetype": "text/x-python",
   "name": "python",
   "nbconvert_exporter": "python",
   "pygments_lexer": "ipython2",
   "version": "2.7.6"
  }
 },
 "nbformat": 4,
 "nbformat_minor": 0
}
