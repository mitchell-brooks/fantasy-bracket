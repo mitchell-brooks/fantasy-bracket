{
 "cells": [
  {
   "cell_type": "code",
   "execution_count": 2,
   "metadata": {
    "collapsed": true
   },
   "outputs": [
    {
     "name": "stdout",
     "output_type": "stream",
     "text": [
      "data=[{'league_unique': 'ncaambb', 'league_name': \"NCAA Men's Basketball\", 'sport': 'basketball', 'womens': False}] count=None\n"
     ]
    }
   ],
   "source": [
    "import os\n",
    "import csv\n",
    "from supabase import create_client, Client\n",
    "import os\n",
    "from dotenv import load_dotenv\n",
    "from pathlib import Path\n",
    "\n",
    "env_path = Path('..') / '.env.local'\n",
    "load_dotenv(dotenv_path=env_path)\n",
    "\n",
    "url = os.getenv(\"NEXT_PUBLIC_SUPABASE_URL\")\n",
    "key = os.getenv(\"NEXT_PUBLIC_SUPABASE_ANON_KEY\")\n",
    "supabase: Client = create_client(url, key)\n",
    "\n",
    "data = supabase.table(\"league\").select(\"*\").execute()\n",
    "print(data)"
   ]
  },
  {
   "cell_type": "code",
   "execution_count": 1,
   "outputs": [],
   "source": [
    "def update_game_schedule(game_schedule_csv):\n",
    "    game_insert = []\n",
    "    with open(game_schedule_csv, 'r', encoding='utf-8-sig') as f:\n",
    "        reader = csv.DictReader(f)\n",
    "        # next(reader)\n",
    "        for row in reader:\n",
    "            print(row)\n",
    "            if row != {'game_date': '', 'team_2_id': '', 'team_1_id': '', 'game_time': '', 'round_num': '', 'competition_id': ''}:\n",
    "                game_insert.append(row)\n",
    "\n",
    "    data = supabase.table(\"game\").upsert(game_insert,\n",
    "                                         # ignore_duplicates=True, on_conflict=\"game_date, team_1_id, team_2_id\"\n",
    "                                         ).execute()\n",
    "    print(data)"
   ],
   "metadata": {
    "collapsed": false
   }
  },
  {
   "cell_type": "code",
   "execution_count": 6,
   "outputs": [
    {
     "name": "stdout",
     "output_type": "stream",
     "text": [
      "{'game_date': '2023-04-03', 'team_2_id': 'san-diego-state', 'team_1_id': 'connecticut', 'game_time': '21:20', 'round_num': '7', 'competition_id': '1'}\n",
      "data=[{'game_id': 102, 'game_date': '2023-04-03', 'team_1_id': 'connecticut', 'team_2_id': 'san-diego-state', 'game_time': '21:20:00', 'round_num': 7, 'competition_id': 1, 'league2_unique': 'ncaambb', 'league1_unique': None}] count=None\n"
     ]
    }
   ],
   "source": [
    "round = \"7\"\n",
    "update_game_schedule(f\"game-schedule-round-{round}-2023-ncaa-tournament.csv\")"
   ],
   "metadata": {
    "collapsed": false
   }
  },
  {
   "cell_type": "code",
   "execution_count": 4,
   "outputs": [],
   "source": [
    "import pandas as pd\n",
    "import datetime\n",
    "def generate_game_scoring_sheet(competition_id: int = 1, date = datetime.date.today()):\n",
    "    data = supabase.table(\"players_in_games_view\").select(\"*\").eq(\"game_date\", date).eq('competition_id', competition_id).execute()\n",
    "    df = pd.DataFrame(data.data)\n",
    "    df['points'] = None\n",
    "    df['lost'] = None\n",
    "    df['inactive'] = None\n",
    "    # df['rebounds'] = 0\n",
    "    # df['assists'] = 0\n",
    "    df.to_csv(f\"{date}-game-scoring-2023-ncaa-tournament.csv\", index=False, columns=['game_time', 'team_unique', 'lost', 'player_unique', 'points','inactive','game_id'])\n",
    "    # 'rebounds', 'assists'])"
   ],
   "metadata": {
    "collapsed": false
   }
  },
  {
   "cell_type": "code",
   "execution_count": 7,
   "outputs": [],
   "source": [
    "date = datetime.date.today()\n",
    "# date = \"2023-04-01\"\n",
    "generate_game_scoring_sheet(date=date)"
   ],
   "metadata": {
    "collapsed": false
   }
  },
  {
   "cell_type": "code",
   "execution_count": 9,
   "outputs": [],
   "source": [
    "def update_scores_from_csv(current_round: int, competition_id: int = 1, game_scoring_csv = f\"{datetime.date.today()}-game-scoring-2023-ncaa-tournament.csv\"):\n",
    "    player_game_insert = []\n",
    "    losing_teams = []\n",
    "    inactive_players = []\n",
    "    team_1 = \"\"\n",
    "    team_2 = \"\"\n",
    "    with open(game_scoring_csv, 'r', encoding='utf-8-sig') as f:\n",
    "        reader = csv.DictReader(f)\n",
    "        # next(reader)\n",
    "        for row in reader:\n",
    "            if row['lost'].upper() == 'L':\n",
    "                losing_teams.append(row['team_unique'])\n",
    "            if row['inactive'].upper() == 'I':\n",
    "                inactive_players.append(row['player_unique'])\n",
    "            if row['points'] != '':\n",
    "                team_2 = team_1\n",
    "                team_1 = row['team_unique']\n",
    "                player_game_row = {\n",
    "                    \"player_unique\": row['player_unique'],\n",
    "                    \"game_id\": row['game_id'],\n",
    "                    \"points\": row['points'],\n",
    "                }\n",
    "                player_game_insert.append(player_game_row)\n",
    "\n",
    "    data = supabase.table(\"player_game\").upsert(player_game_insert,\n",
    "                                         ignore_duplicates=False, on_conflict=\"game_id, player_unique\").execute()\n",
    "    updated = supabase.table(\"competition_updated\").insert({\"competition_id\": competition_id, \"current_round\": current_round}).execute()\n",
    "    for team in losing_teams:\n",
    "        loser_data = supabase.table('team_competition').update({'round_eliminated': current_round}).eq('team_unique', team).eq('competition_id', competition_id).execute()\n",
    "        print(\"losers\")\n",
    "        print(loser_data)\n",
    "    for player in inactive_players:\n",
    "        player_data = supabase.table('player_competition').update({'inactive': True}).eq('player_unique', player).eq('competition_id', competition_id).execute()\n",
    "        print(\"inactive players\")\n",
    "        print(player_data)\n",
    "    print(data)"
   ],
   "metadata": {
    "collapsed": false
   }
  },
  {
   "cell_type": "code",
   "execution_count": 11,
   "outputs": [
    {
     "name": "stdout",
     "output_type": "stream",
     "text": [
      "losers\n",
      "data=[{'team_unique': 'san-diego-state', 'competition_id': 1, 'league_unique': 'ncaambb', 'seed': 5, 'overall_seed': 17, 'region': 'SOUTH', 'round_eliminated': 7, 'round_started': 2, 'team_stats': {'pace': 66.6, 'conference': 'mwc', 'offensive_rating': 107.4, 'assist_percentage': 52.9, 'turnover_percentage': 15.1, 'strength_of_schedule': 8.45, 'free_throw_attempt_rate': 0.337, 'three_point_attempt_rate': 0.356, 'true_shooting_percentage': 0.544, 'effective_field_goal_percentage': 0.507, 'two_point_field_goal_percentage': 0.495, 'three_point_field_goal_percentage': 0.353, 'opp_effective_field_goal_percentage': 0.475}, 'stats_thru': '2023-03-12', 'team_win_loss': {'wins': 27.0, 'losses': 6.0, 'games_played': 33.0, 'conference_wins': 15.0, 'conference_losses': 3.0}}] count=None\n",
      "data=[{'player_unique': 'adama-sanogo-1', 'game_id': 102, 'points': 17, 'rebounds': 0, 'assists': 0, 'blocks': 0}, {'player_unique': 'jordan-hawkins-1', 'game_id': 102, 'points': 16, 'rebounds': 0, 'assists': 0, 'blocks': 0}, {'player_unique': 'tristen-newton-1', 'game_id': 102, 'points': 19, 'rebounds': 0, 'assists': 0, 'blocks': 0}, {'player_unique': 'alex-karaban-1', 'game_id': 102, 'points': 5, 'rebounds': 0, 'assists': 0, 'blocks': 0}, {'player_unique': 'donovan-clingan-1', 'game_id': 102, 'points': 4, 'rebounds': 0, 'assists': 0, 'blocks': 0}, {'player_unique': 'andre-jackson-8', 'game_id': 102, 'points': 3, 'rebounds': 0, 'assists': 0, 'blocks': 0}, {'player_unique': 'joey-calcaterra-1', 'game_id': 102, 'points': 6, 'rebounds': 0, 'assists': 0, 'blocks': 0}, {'player_unique': 'nahiem-alleyne-1', 'game_id': 102, 'points': 6, 'rebounds': 0, 'assists': 0, 'blocks': 0}, {'player_unique': 'hassan-diarra-1', 'game_id': 102, 'points': 0, 'rebounds': 0, 'assists': 0, 'blocks': 0}, {'player_unique': 'richie-springs-1', 'game_id': 102, 'points': 0, 'rebounds': 0, 'assists': 0, 'blocks': 0}, {'player_unique': 'samson-johnson-1', 'game_id': 102, 'points': 0, 'rebounds': 0, 'assists': 0, 'blocks': 0}, {'player_unique': 'apostolos-roumoglou-1', 'game_id': 102, 'points': 0, 'rebounds': 0, 'assists': 0, 'blocks': 0}, {'player_unique': 'andrew-hurley-1', 'game_id': 102, 'points': 0, 'rebounds': 0, 'assists': 0, 'blocks': 0}, {'player_unique': 'yarin-hasson-1', 'game_id': 102, 'points': 0, 'rebounds': 0, 'assists': 0, 'blocks': 0}, {'player_unique': 'emmett-hendry-1', 'game_id': 102, 'points': 0, 'rebounds': 0, 'assists': 0, 'blocks': 0}, {'player_unique': 'andre-johnson-jr-1', 'game_id': 102, 'points': 0, 'rebounds': 0, 'assists': 0, 'blocks': 0}, {'player_unique': 'matt-bradley-1', 'game_id': 102, 'points': 8, 'rebounds': 0, 'assists': 0, 'blocks': 0}, {'player_unique': 'darrion-trammell-1', 'game_id': 102, 'points': 13, 'rebounds': 0, 'assists': 0, 'blocks': 0}, {'player_unique': 'lamont-butler-1', 'game_id': 102, 'points': 13, 'rebounds': 0, 'assists': 0, 'blocks': 0}, {'player_unique': 'jaedon-ledee-1', 'game_id': 102, 'points': 7, 'rebounds': 0, 'assists': 0, 'blocks': 0}, {'player_unique': 'keshad-johnson-1', 'game_id': 102, 'points': 14, 'rebounds': 0, 'assists': 0, 'blocks': 0}, {'player_unique': 'micah-parrish-1', 'game_id': 102, 'points': 0, 'rebounds': 0, 'assists': 0, 'blocks': 0}, {'player_unique': 'nathan-mensah-1', 'game_id': 102, 'points': 1, 'rebounds': 0, 'assists': 0, 'blocks': 0}, {'player_unique': 'adam-seiko-1', 'game_id': 102, 'points': 3, 'rebounds': 0, 'assists': 0, 'blocks': 0}, {'player_unique': 'aguek-arop-1', 'game_id': 102, 'points': 0, 'rebounds': 0, 'assists': 0, 'blocks': 0}, {'player_unique': 'miles-byrd-1', 'game_id': 102, 'points': 0, 'rebounds': 0, 'assists': 0, 'blocks': 0}, {'player_unique': 'elijah-saunders-1', 'game_id': 102, 'points': 0, 'rebounds': 0, 'assists': 0, 'blocks': 0}, {'player_unique': 'demarshay-johnsonjr-1', 'game_id': 102, 'points': 0, 'rebounds': 0, 'assists': 0, 'blocks': 0}, {'player_unique': 'cade-alger-1', 'game_id': 102, 'points': 0, 'rebounds': 0, 'assists': 0, 'blocks': 0}, {'player_unique': 'jared-barnett-1', 'game_id': 102, 'points': 0, 'rebounds': 0, 'assists': 0, 'blocks': 0}, {'player_unique': 'triston-broughton-1', 'game_id': 102, 'points': 0, 'rebounds': 0, 'assists': 0, 'blocks': 0}, {'player_unique': 'tyler-broughton-1', 'game_id': 102, 'points': 0, 'rebounds': 0, 'assists': 0, 'blocks': 0}] count=None\n"
     ]
    }
   ],
   "source": [
    "date = datetime.date.today()\n",
    "current_round=7\n",
    "# date = \"2023-04-01\"\n",
    "update_scores_from_csv(current_round=current_round, game_scoring_csv = f\"{date}-game-scoring-2023-ncaa-tournament.csv\")\n"
   ],
   "metadata": {
    "collapsed": false
   }
  }
 ],
 "metadata": {
  "kernelspec": {
   "display_name": "Python 3",
   "language": "python",
   "name": "python3"
  },
  "language_info": {
   "codemirror_mode": {
    "name": "ipython",
    "version": 2
   },
   "file_extension": ".py",
   "mimetype": "text/x-python",
   "name": "python",
   "nbconvert_exporter": "python",
   "pygments_lexer": "ipython2",
   "version": "2.7.6"
  }
 },
 "nbformat": 4,
 "nbformat_minor": 0
}
