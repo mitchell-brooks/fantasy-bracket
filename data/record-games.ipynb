{
 "cells": [
  {
   "cell_type": "code",
   "execution_count": 1,
   "metadata": {
    "collapsed": true
   },
   "outputs": [
    {
     "name": "stdout",
     "output_type": "stream",
     "text": [
      "data=[{'league_unique': 'ncaambb', 'league_name': \"NCAA Men's Basketball\", 'sport': 'basketball', 'womens': False}] count=None\n"
     ]
    }
   ],
   "source": [
    "import os\n",
    "import csv\n",
    "from supabase import create_client, Client\n",
    "import os\n",
    "from dotenv import load_dotenv\n",
    "from pathlib import Path\n",
    "\n",
    "env_path = Path('..') / '.env.local'\n",
    "load_dotenv(dotenv_path=env_path)\n",
    "\n",
    "url = os.getenv(\"NEXT_PUBLIC_SUPABASE_URL\")\n",
    "key = os.getenv(\"NEXT_PUBLIC_SUPABASE_ANON_KEY\")\n",
    "supabase: Client = create_client(url, key)\n",
    "\n",
    "data = supabase.table(\"league\").select(\"*\").execute()\n",
    "print(data)"
   ]
  },
  {
   "cell_type": "code",
   "execution_count": 13,
   "outputs": [],
   "source": [
    "def update_game_schedule(game_schedule_csv):\n",
    "    game_insert = []\n",
    "    with open(game_schedule_csv, 'r', encoding='utf-8-sig') as f:\n",
    "        reader = csv.DictReader(f)\n",
    "        next(reader)\n",
    "        for row in reader:\n",
    "            game_insert.append(row)\n",
    "\n",
    "    data = supabase.table(\"game\").upsert(game_insert,\n",
    "                                         # ignore_duplicates=True, on_conflict=\"game_date, team_1_id, team_2_id\"\n",
    "                                         ).execute()\n",
    "    print(data)"
   ],
   "metadata": {
    "collapsed": false
   }
  },
  {
   "cell_type": "code",
   "execution_count": 14,
   "outputs": [
    {
     "name": "stdout",
     "output_type": "stream",
     "text": [
      "data=[{'game_id': 1, 'game_date': '2023-03-16', 'team_1_id': 'virginia', 'team_2_id': 'furman', 'game_time': '12:40:00', 'round_num': 2, 'competition_id': 1}, {'game_id': 2, 'game_date': '2023-03-16', 'team_1_id': 'missouri', 'team_2_id': 'utah-state', 'game_time': '13:40:00', 'round_num': 2, 'competition_id': 1}, {'game_id': 3, 'game_date': '2023-03-16', 'team_1_id': 'kansas', 'team_2_id': 'howard', 'game_time': '14:00:00', 'round_num': 2, 'competition_id': 1}, {'game_id': 4, 'game_date': '2023-03-16', 'team_1_id': 'alabama', 'team_2_id': 'texas-am-corpus-christi', 'game_time': '14:45:00', 'round_num': 2, 'competition_id': 1}, {'game_id': 5, 'game_date': '2023-03-16', 'team_1_id': 'san-diego-state', 'team_2_id': 'college-of-charleston', 'game_time': '15:10:00', 'round_num': 2, 'competition_id': 1}, {'game_id': 6, 'game_date': '2023-03-16', 'team_1_id': 'arizona', 'team_2_id': 'princeton', 'game_time': '16:10:00', 'round_num': 2, 'competition_id': 1}, {'game_id': 7, 'game_date': '2023-03-16', 'team_1_id': 'arkansas', 'team_2_id': 'illinois', 'game_time': '16:30:00', 'round_num': 2, 'competition_id': 1}, {'game_id': 8, 'game_date': '2023-03-16', 'team_1_id': 'iowa', 'team_2_id': 'auburn', 'game_time': '18:50:00', 'round_num': 2, 'competition_id': 1}, {'game_id': 9, 'game_date': '2023-03-16', 'team_1_id': 'duke', 'team_2_id': 'oral-roberts', 'game_time': '19:10:00', 'round_num': 2, 'competition_id': 1}, {'game_id': 10, 'game_date': '2023-03-16', 'team_1_id': 'texas', 'team_2_id': 'colgate', 'game_time': '19:25:00', 'round_num': 2, 'competition_id': 1}, {'game_id': 11, 'game_date': '2023-03-16', 'team_1_id': 'northwestern', 'team_2_id': 'boise-state', 'game_time': '19:35:00', 'round_num': 2, 'competition_id': 1}, {'game_id': 12, 'game_date': '2023-03-16', 'team_1_id': 'houston', 'team_2_id': 'northern-kentucky', 'game_time': '21:20:00', 'round_num': 2, 'competition_id': 1}, {'game_id': 13, 'game_date': '2023-03-16', 'team_1_id': 'tennessee', 'team_2_id': 'louisiana-lafayette', 'game_time': '21:40:00', 'round_num': 2, 'competition_id': 1}, {'game_id': 14, 'game_date': '2023-03-16', 'team_1_id': 'texas-am', 'team_2_id': 'penn-state', 'game_time': '21:55:00', 'round_num': 2, 'competition_id': 1}, {'game_id': 15, 'game_date': '2023-03-16', 'team_1_id': 'ucla', 'team_2_id': 'north-carolina-asheville', 'game_time': '22:05:00', 'round_num': 2, 'competition_id': 1}, {'game_id': 16, 'game_date': '2023-03-17', 'team_1_id': 'michigan-state', 'team_2_id': 'southern-california', 'game_time': '12:15:00', 'round_num': 2, 'competition_id': 1}, {'game_id': 17, 'game_date': '2023-03-17', 'team_1_id': 'xavier', 'team_2_id': 'kennesaw-state', 'game_time': '12:40:00', 'round_num': 2, 'competition_id': 1}, {'game_id': 18, 'game_date': '2023-03-17', 'team_1_id': 'baylor', 'team_2_id': 'california-santa-barbara', 'game_time': '13:30:00', 'round_num': 2, 'competition_id': 1}, {'game_id': 19, 'game_date': '2023-03-17', 'team_1_id': 'saint-marys-ca', 'team_2_id': 'virginia-commonwealth', 'game_time': '14:00:00', 'round_num': 2, 'competition_id': 1}, {'game_id': 20, 'game_date': '2023-03-17', 'team_1_id': 'marquette', 'team_2_id': 'vermont', 'game_time': '14:45:00', 'round_num': 2, 'competition_id': 1}, {'game_id': 21, 'game_date': '2023-03-17', 'team_1_id': 'iowa-state', 'team_2_id': 'pittsburgh', 'game_time': '15:10:00', 'round_num': 2, 'competition_id': 1}, {'game_id': 22, 'game_date': '2023-03-17', 'team_1_id': 'creighton', 'team_2_id': 'north-carolina-state', 'game_time': '16:00:00', 'round_num': 2, 'competition_id': 1}, {'game_id': 23, 'game_date': '2023-03-17', 'team_1_id': 'connecticut', 'team_2_id': 'iona', 'game_time': '16:30:00', 'round_num': 2, 'competition_id': 1}, {'game_id': 24, 'game_date': '2023-03-17', 'team_1_id': 'purdue', 'team_2_id': 'fairleigh-dickinson', 'game_time': '18:50:00', 'round_num': 2, 'competition_id': 1}, {'game_id': 25, 'game_date': '2023-03-17', 'team_1_id': 'kentucky', 'team_2_id': 'providence', 'game_time': '19:10:00', 'round_num': 2, 'competition_id': 1}, {'game_id': 26, 'game_date': '2023-03-17', 'team_1_id': 'miami-fl', 'team_2_id': 'drake', 'game_time': '19:25:00', 'round_num': 2, 'competition_id': 1}, {'game_id': 27, 'game_date': '2023-03-17', 'team_1_id': 'gonzaga', 'team_2_id': 'grand-canyon', 'game_time': '19:35:00', 'round_num': 2, 'competition_id': 1}, {'game_id': 28, 'game_date': '2023-03-17', 'team_1_id': 'memphis', 'team_2_id': 'florida-atlantic', 'game_time': '21:20:00', 'round_num': 2, 'competition_id': 1}, {'game_id': 29, 'game_date': '2023-03-17', 'team_1_id': 'kansas-state', 'team_2_id': 'montana-state', 'game_time': '21:40:00', 'round_num': 2, 'competition_id': 1}, {'game_id': 30, 'game_date': '2023-03-17', 'team_1_id': 'indiana', 'team_2_id': 'kent-state', 'game_time': '21:55:00', 'round_num': 2, 'competition_id': 1}, {'game_id': 31, 'game_date': '2023-03-17', 'team_1_id': 'texas-christian', 'team_2_id': 'arizona-state', 'game_time': '22:05:00', 'round_num': 2, 'competition_id': 1}] count=None\n"
     ]
    }
   ],
   "source": [
    "update_game_schedule(\"game-schedule-2023-ncaa-tournament.csv\")"
   ],
   "metadata": {
    "collapsed": false
   }
  }
 ],
 "metadata": {
  "kernelspec": {
   "display_name": "Python 3",
   "language": "python",
   "name": "python3"
  },
  "language_info": {
   "codemirror_mode": {
    "name": "ipython",
    "version": 2
   },
   "file_extension": ".py",
   "mimetype": "text/x-python",
   "name": "python",
   "nbconvert_exporter": "python",
   "pygments_lexer": "ipython2",
   "version": "2.7.6"
  }
 },
 "nbformat": 4,
 "nbformat_minor": 0
}
