{
 "cells": [
  {
   "cell_type": "code",
   "execution_count": 20,
   "metadata": {
    "collapsed": true
   },
   "outputs": [
    {
     "name": "stdout",
     "output_type": "stream",
     "text": [
      "data=[{'league_unique': 'ncaambb', 'league_name': \"NCAA Men's Basketball\", 'sport': 'basketball', 'womens': False}] count=None\n"
     ]
    }
   ],
   "source": [
    "import os\n",
    "import csv\n",
    "from supabase import create_client, Client\n",
    "import os\n",
    "from dotenv import load_dotenv\n",
    "from pathlib import Path\n",
    "\n",
    "env_path = Path('..') / '.env.local'\n",
    "load_dotenv(dotenv_path=env_path)\n",
    "\n",
    "url = os.getenv(\"NEXT_PUBLIC_SUPABASE_URL\")\n",
    "key = os.getenv(\"NEXT_PUBLIC_SUPABASE_ANON_KEY\")\n",
    "supabase: Client = create_client(url, key)\n",
    "\n",
    "data = supabase.table(\"league\").select(\"*\").execute()\n",
    "print(data)"
   ]
  },
  {
   "cell_type": "code",
   "execution_count": 38,
   "outputs": [],
   "source": [
    "def update_game_schedule(game_schedule_csv):\n",
    "    game_insert = []\n",
    "    with open(game_schedule_csv, 'r', encoding='utf-8-sig') as f:\n",
    "        reader = csv.DictReader(f)\n",
    "        # next(reader)\n",
    "        for row in reader:\n",
    "            print(row)\n",
    "            if row != {'game_date': '', 'team_2_id': '', 'team_1_id': '', 'game_time': '', 'round_num': '', 'competition_id': ''}:\n",
    "                game_insert.append(row)\n",
    "\n",
    "    data = supabase.table(\"game\").upsert(game_insert,\n",
    "                                         # ignore_duplicates=True, on_conflict=\"game_date, team_1_id, team_2_id\"\n",
    "                                         ).execute()\n",
    "    print(data)"
   ],
   "metadata": {
    "collapsed": false
   }
  },
  {
   "cell_type": "code",
   "execution_count": 39,
   "outputs": [
    {
     "name": "stdout",
     "output_type": "stream",
     "text": [
      "{'game_date': '2023-03-18', 'team_2_id': 'san-diego-state', 'team_1_id': 'furman', 'game_time': '12:30', 'round_num': '3', 'competition_id': '1'}\n",
      "{'game_date': '2023-03-18', 'team_2_id': 'tennessee', 'team_1_id': 'duke', 'game_time': '14:40', 'round_num': '3', 'competition_id': '1'}\n",
      "{'game_date': '2023-03-18', 'team_2_id': 'kansas', 'team_1_id': 'arkansas', 'game_time': '17:15', 'round_num': '3', 'competition_id': '1'}\n",
      "{'game_date': '2023-03-18', 'team_2_id': 'missouri', 'team_1_id': 'princeton', 'game_time': '18:10', 'round_num': '3', 'competition_id': '1'}\n",
      "{'game_date': '2023-03-18', 'team_2_id': 'houston', 'team_1_id': 'auburn', 'game_time': '19:10', 'round_num': '3', 'competition_id': '1'}\n",
      "{'game_date': '2023-03-18', 'team_2_id': 'texas', 'team_1_id': 'penn-state', 'game_time': '19:45', 'round_num': '3', 'competition_id': '1'}\n",
      "{'game_date': '2023-03-18', 'team_2_id': 'ucla', 'team_1_id': 'northwestern', 'game_time': '20:40', 'round_num': '3', 'competition_id': '1'}\n",
      "{'game_date': '2023-03-18', 'team_2_id': 'alabama', 'team_1_id': 'maryland', 'game_time': '21:40', 'round_num': '3', 'competition_id': '1'}\n",
      "{'game_date': '2023-03-19', 'team_2_id': 'xavier', 'team_1_id': 'pittsburgh', 'game_time': '12:10', 'round_num': '3', 'competition_id': '1'}\n",
      "{'game_date': '2023-03-19', 'team_2_id': 'kansas-state', 'team_1_id': 'kentucky', 'game_time': '14:40', 'round_num': '3', 'competition_id': '1'}\n",
      "{'game_date': '2023-03-19', 'team_2_id': 'marquette', 'team_1_id': 'michigan-state', 'game_time': '17:15', 'round_num': '3', 'competition_id': '1'}\n",
      "{'game_date': '2023-03-19', 'team_2_id': 'connecticut', 'team_1_id': 'saint-marys-ca', 'game_time': '18:10', 'round_num': '3', 'competition_id': '1'}\n",
      "{'game_date': '2023-03-19', 'team_2_id': 'baylor', 'team_1_id': 'creighton', 'game_time': '19:10', 'round_num': '3', 'competition_id': '1'}\n",
      "{'game_date': '2023-03-19', 'team_2_id': 'florida-atlantic', 'team_1_id': 'fairleigh-dickinson', 'game_time': '19:45', 'round_num': '3', 'competition_id': '1'}\n",
      "{'game_date': '2023-03-19', 'team_2_id': 'indiana', 'team_1_id': 'miami-fl', 'game_time': '20:40', 'round_num': '3', 'competition_id': '1'}\n",
      "{'game_date': '2023-03-19', 'team_2_id': 'gonzaga', 'team_1_id': 'texas-christian', 'game_time': '21:40', 'round_num': '3', 'competition_id': '1'}\n",
      "{'game_date': '', 'team_2_id': '', 'team_1_id': '', 'game_time': '', 'round_num': '', 'competition_id': ''}\n",
      "{'game_date': '', 'team_2_id': '', 'team_1_id': '', 'game_time': '', 'round_num': '', 'competition_id': ''}\n",
      "{'game_date': '', 'team_2_id': '', 'team_1_id': '', 'game_time': '', 'round_num': '', 'competition_id': ''}\n",
      "{'game_date': '', 'team_2_id': '', 'team_1_id': '', 'game_time': '', 'round_num': '', 'competition_id': ''}\n",
      "{'game_date': '', 'team_2_id': '', 'team_1_id': '', 'game_time': '', 'round_num': '', 'competition_id': ''}\n",
      "{'game_date': '', 'team_2_id': '', 'team_1_id': '', 'game_time': '', 'round_num': '', 'competition_id': ''}\n",
      "{'game_date': '', 'team_2_id': '', 'team_1_id': '', 'game_time': '', 'round_num': '', 'competition_id': ''}\n",
      "{'game_date': '', 'team_2_id': '', 'team_1_id': '', 'game_time': '', 'round_num': '', 'competition_id': ''}\n",
      "{'game_date': '', 'team_2_id': '', 'team_1_id': '', 'game_time': '', 'round_num': '', 'competition_id': ''}\n",
      "{'game_date': '', 'team_2_id': '', 'team_1_id': '', 'game_time': '', 'round_num': '', 'competition_id': ''}\n",
      "{'game_date': '', 'team_2_id': '', 'team_1_id': '', 'game_time': '', 'round_num': '', 'competition_id': ''}\n",
      "{'game_date': '', 'team_2_id': '', 'team_1_id': '', 'game_time': '', 'round_num': '', 'competition_id': ''}\n",
      "{'game_date': '', 'team_2_id': '', 'team_1_id': '', 'game_time': '', 'round_num': '', 'competition_id': ''}\n",
      "{'game_date': '', 'team_2_id': '', 'team_1_id': '', 'game_time': '', 'round_num': '', 'competition_id': ''}\n",
      "{'game_date': '', 'team_2_id': '', 'team_1_id': '', 'game_time': '', 'round_num': '', 'competition_id': ''}\n",
      "{'game_date': '', 'team_2_id': '', 'team_1_id': '', 'game_time': '', 'round_num': '', 'competition_id': ''}\n",
      "data=[{'game_id': 64, 'game_date': '2023-03-18', 'team_1_id': 'furman', 'team_2_id': 'san-diego-state', 'game_time': '12:30:00', 'round_num': 3, 'competition_id': 1, 'league2_unique': 'ncaambb', 'league1_unique': None}, {'game_id': 65, 'game_date': '2023-03-18', 'team_1_id': 'duke', 'team_2_id': 'tennessee', 'game_time': '14:40:00', 'round_num': 3, 'competition_id': 1, 'league2_unique': 'ncaambb', 'league1_unique': None}, {'game_id': 66, 'game_date': '2023-03-18', 'team_1_id': 'arkansas', 'team_2_id': 'kansas', 'game_time': '17:15:00', 'round_num': 3, 'competition_id': 1, 'league2_unique': 'ncaambb', 'league1_unique': None}, {'game_id': 67, 'game_date': '2023-03-18', 'team_1_id': 'princeton', 'team_2_id': 'missouri', 'game_time': '18:10:00', 'round_num': 3, 'competition_id': 1, 'league2_unique': 'ncaambb', 'league1_unique': None}, {'game_id': 68, 'game_date': '2023-03-18', 'team_1_id': 'auburn', 'team_2_id': 'houston', 'game_time': '19:10:00', 'round_num': 3, 'competition_id': 1, 'league2_unique': 'ncaambb', 'league1_unique': None}, {'game_id': 69, 'game_date': '2023-03-18', 'team_1_id': 'penn-state', 'team_2_id': 'texas', 'game_time': '19:45:00', 'round_num': 3, 'competition_id': 1, 'league2_unique': 'ncaambb', 'league1_unique': None}, {'game_id': 70, 'game_date': '2023-03-18', 'team_1_id': 'northwestern', 'team_2_id': 'ucla', 'game_time': '20:40:00', 'round_num': 3, 'competition_id': 1, 'league2_unique': 'ncaambb', 'league1_unique': None}, {'game_id': 71, 'game_date': '2023-03-18', 'team_1_id': 'maryland', 'team_2_id': 'alabama', 'game_time': '21:40:00', 'round_num': 3, 'competition_id': 1, 'league2_unique': 'ncaambb', 'league1_unique': None}, {'game_id': 72, 'game_date': '2023-03-19', 'team_1_id': 'pittsburgh', 'team_2_id': 'xavier', 'game_time': '12:10:00', 'round_num': 3, 'competition_id': 1, 'league2_unique': 'ncaambb', 'league1_unique': None}, {'game_id': 73, 'game_date': '2023-03-19', 'team_1_id': 'kentucky', 'team_2_id': 'kansas-state', 'game_time': '14:40:00', 'round_num': 3, 'competition_id': 1, 'league2_unique': 'ncaambb', 'league1_unique': None}, {'game_id': 74, 'game_date': '2023-03-19', 'team_1_id': 'michigan-state', 'team_2_id': 'marquette', 'game_time': '17:15:00', 'round_num': 3, 'competition_id': 1, 'league2_unique': 'ncaambb', 'league1_unique': None}, {'game_id': 75, 'game_date': '2023-03-19', 'team_1_id': 'saint-marys-ca', 'team_2_id': 'connecticut', 'game_time': '18:10:00', 'round_num': 3, 'competition_id': 1, 'league2_unique': 'ncaambb', 'league1_unique': None}, {'game_id': 76, 'game_date': '2023-03-19', 'team_1_id': 'creighton', 'team_2_id': 'baylor', 'game_time': '19:10:00', 'round_num': 3, 'competition_id': 1, 'league2_unique': 'ncaambb', 'league1_unique': None}, {'game_id': 77, 'game_date': '2023-03-19', 'team_1_id': 'fairleigh-dickinson', 'team_2_id': 'florida-atlantic', 'game_time': '19:45:00', 'round_num': 3, 'competition_id': 1, 'league2_unique': 'ncaambb', 'league1_unique': None}, {'game_id': 78, 'game_date': '2023-03-19', 'team_1_id': 'miami-fl', 'team_2_id': 'indiana', 'game_time': '20:40:00', 'round_num': 3, 'competition_id': 1, 'league2_unique': 'ncaambb', 'league1_unique': None}, {'game_id': 79, 'game_date': '2023-03-19', 'team_1_id': 'texas-christian', 'team_2_id': 'gonzaga', 'game_time': '21:40:00', 'round_num': 3, 'competition_id': 1, 'league2_unique': 'ncaambb', 'league1_unique': None}] count=None\n"
     ]
    }
   ],
   "source": [
    "round = \"3\"\n",
    "update_game_schedule(f\"game-schedule-round-{round}-2023-ncaa-tournament.csv\")"
   ],
   "metadata": {
    "collapsed": false
   }
  },
  {
   "cell_type": "code",
   "execution_count": 59,
   "outputs": [],
   "source": [
    "import pandas as pd\n",
    "import datetime\n",
    "def generate_game_scoring_sheet(competition_id: int = 1, date = datetime.date.today()):\n",
    "    data = supabase.table(\"players_in_games_view\").select(\"*\").eq(\"game_date\", date).eq('competition_id', competition_id).execute()\n",
    "    df = pd.DataFrame(data.data)\n",
    "    df['points'] = None\n",
    "    df['lost'] = None\n",
    "    df['inactive'] = None\n",
    "    # df['rebounds'] = 0\n",
    "    # df['assists'] = 0\n",
    "    df.to_csv(f\"{date}-game-scoring-2023-ncaa-tournament-losers.csv\", index=False, columns=['game_time', 'team_unique', 'lost', 'player_unique', 'points','inactive','game_id'])\n",
    "    # 'rebounds', 'assists'])"
   ],
   "metadata": {
    "collapsed": false
   }
  },
  {
   "cell_type": "code",
   "execution_count": 61,
   "outputs": [],
   "source": [
    "# date = datetime.date.today()\n",
    "date = \"2023-03-17\"\n",
    "generate_game_scoring_sheet(date=date)"
   ],
   "metadata": {
    "collapsed": false
   }
  },
  {
   "cell_type": "code",
   "execution_count": 65,
   "outputs": [],
   "source": [
    "def update_scores_from_csv(current_round: int, competition_id: int = 1, game_scoring_csv = f\"{datetime.date.today()}-game-scoring-2023-ncaa-tournament.csv\"):\n",
    "    player_game_insert = []\n",
    "    losing_teams = []\n",
    "    inactive_players = []\n",
    "    team_1 = \"\"\n",
    "    team_2 = \"\"\n",
    "    with open(game_scoring_csv, 'r', encoding='utf-8-sig') as f:\n",
    "        reader = csv.DictReader(f)\n",
    "        next(reader)\n",
    "        for row in reader:\n",
    "            if row['lost'].upper() == 'L':\n",
    "                losing_teams.append(row['team_unique'])\n",
    "            if row['inactive'].upper() == 'I':\n",
    "                inactive_players.append(row['player_unique'])\n",
    "            if row['points'] != '':\n",
    "                team_2 = team_1\n",
    "                team_1 = row['team_unique']\n",
    "                player_game_row = {\n",
    "                    \"player_unique\": row['player_unique'],\n",
    "                    \"game_id\": row['game_id'],\n",
    "                    \"points\": row['points'],\n",
    "                }\n",
    "                player_game_insert.append(player_game_row)\n",
    "\n",
    "    data = supabase.table(\"player_game\").upsert(player_game_insert,\n",
    "                                         ignore_duplicates=False, on_conflict=\"game_id, player_unique\").execute()\n",
    "    updated = supabase.table(\"competition_updated\").insert({\"competition_id\": competition_id, \"current_round\": current_round}).execute()\n",
    "    for team in losing_teams:\n",
    "        loser_data = supabase.table('team_competition').update({'round_eliminated': current_round}).eq('team_unique', team).eq('competition_id', competition_id).execute()\n",
    "        print(\"losers\")\n",
    "        print(loser_data)\n",
    "    for player in inactive_players:\n",
    "        player_data = supabase.table('player_competition').update({'inactive': True}).eq('player_unique', player).eq('competition_id', competition_id).execute()\n",
    "        print(\"inactive players\")\n",
    "        print(player_data)\n",
    "    print(data)"
   ],
   "metadata": {
    "collapsed": false
   }
  },
  {
   "cell_type": "code",
   "execution_count": 74,
   "outputs": [
    {
     "name": "stdout",
     "output_type": "stream",
     "text": [
      "losers\n",
      "data=[{'team_unique': 'duke', 'competition_id': 1, 'league_unique': 'ncaambb', 'seed': 5, 'overall_seed': 18, 'region': 'EAST', 'round_eliminated': 3, 'round_started': 2, 'team_stats': {'pace': 65.7, 'conference': 'acc', 'offensive_rating': 110.0, 'assist_percentage': 56.9, 'turnover_percentage': 15.4, 'strength_of_schedule': 7.03, 'free_throw_attempt_rate': 0.308, 'three_point_attempt_rate': 0.354, 'true_shooting_percentage': 0.549, 'effective_field_goal_percentage': 0.511, 'two_point_field_goal_percentage': 0.514, 'three_point_field_goal_percentage': 0.336, 'opp_effective_field_goal_percentage': 0.463}, 'stats_thru': '2023-03-12', 'team_win_loss': {'wins': 26.0, 'losses': 8.0, 'games_played': 34.0, 'conference_wins': 14.0, 'conference_losses': 6.0}}] count=None\n",
      "losers\n",
      "data=[{'team_unique': 'kansas', 'competition_id': 1, 'league_unique': 'ncaambb', 'seed': 1, 'overall_seed': 3, 'region': 'WEST', 'round_eliminated': 3, 'round_started': 2, 'team_stats': {'pace': 70.1, 'conference': 'big-12', 'offensive_rating': 106.2, 'assist_percentage': 59.5, 'turnover_percentage': 15.4, 'strength_of_schedule': 12.81, 'free_throw_attempt_rate': 0.298, 'three_point_attempt_rate': 0.341, 'true_shooting_percentage': 0.553, 'effective_field_goal_percentage': 0.524, 'two_point_field_goal_percentage': 0.529, 'three_point_field_goal_percentage': 0.344, 'opp_effective_field_goal_percentage': 0.471}, 'stats_thru': '2023-03-12', 'team_win_loss': {'wins': 27.0, 'losses': 7.0, 'games_played': 34.0, 'conference_wins': 13.0, 'conference_losses': 5.0}}] count=None\n",
      "losers\n",
      "data=[{'team_unique': 'missouri', 'competition_id': 1, 'league_unique': 'ncaambb', 'seed': 7, 'overall_seed': 27, 'region': 'SOUTH', 'round_eliminated': 3, 'round_started': 2, 'team_stats': {'pace': 70.2, 'conference': 'sec', 'offensive_rating': 112.3, 'assist_percentage': 56.8, 'turnover_percentage': 14.2, 'strength_of_schedule': 7.28, 'free_throw_attempt_rate': 0.295, 'three_point_attempt_rate': 0.433, 'true_shooting_percentage': 0.582, 'effective_field_goal_percentage': 0.551, 'two_point_field_goal_percentage': 0.559, 'three_point_field_goal_percentage': 0.361, 'opp_effective_field_goal_percentage': 0.523}, 'stats_thru': '2023-03-12', 'team_win_loss': {'wins': 24.0, 'losses': 9.0, 'games_played': 33.0, 'conference_wins': 11.0, 'conference_losses': 7.0}}] count=None\n",
      "losers\n",
      "data=[{'team_unique': 'auburn', 'competition_id': 1, 'league_unique': 'ncaambb', 'seed': 9, 'overall_seed': 35, 'region': 'MIDWEST', 'round_eliminated': 3, 'round_started': 2, 'team_stats': {'pace': 68.7, 'conference': 'sec', 'offensive_rating': 105.4, 'assist_percentage': 55.0, 'turnover_percentage': 15.4, 'strength_of_schedule': 9.27, 'free_throw_attempt_rate': 0.355, 'three_point_attempt_rate': 0.354, 'true_shooting_percentage': 0.531, 'effective_field_goal_percentage': 0.496, 'two_point_field_goal_percentage': 0.51, 'three_point_field_goal_percentage': 0.314, 'opp_effective_field_goal_percentage': 0.456}, 'stats_thru': '2023-03-12', 'team_win_loss': {'wins': 20.0, 'losses': 12.0, 'games_played': 32.0, 'conference_wins': 10.0, 'conference_losses': 8.0}}] count=None\n",
      "losers\n",
      "data=[{'team_unique': 'penn-state', 'competition_id': 1, 'league_unique': 'ncaambb', 'seed': 10, 'overall_seed': 38, 'region': 'MIDWEST', 'round_eliminated': 3, 'round_started': 2, 'team_stats': {'pace': 64.5, 'conference': 'big-ten', 'offensive_rating': 110.4, 'assist_percentage': 52.4, 'turnover_percentage': 12.5, 'strength_of_schedule': 8.59, 'free_throw_attempt_rate': 0.212, 'three_point_attempt_rate': 0.474, 'true_shooting_percentage': 0.576, 'effective_field_goal_percentage': 0.557, 'two_point_field_goal_percentage': 0.535, 'three_point_field_goal_percentage': 0.387, 'opp_effective_field_goal_percentage': 0.494}, 'stats_thru': '2023-03-12', 'team_win_loss': {'wins': 22.0, 'losses': 12.0, 'games_played': 34.0, 'conference_wins': 10.0, 'conference_losses': 10.0}}] count=None\n",
      "losers\n",
      "data=[{'team_unique': 'northwestern', 'competition_id': 1, 'league_unique': 'ncaambb', 'seed': 7, 'overall_seed': 28, 'region': 'WEST', 'round_eliminated': 3, 'round_started': 2, 'team_stats': {'pace': 65.3, 'conference': 'big-ten', 'offensive_rating': 102.8, 'assist_percentage': 55.0, 'turnover_percentage': 12.8, 'strength_of_schedule': 8.41, 'free_throw_attempt_rate': 0.297, 'three_point_attempt_rate': 0.412, 'true_shooting_percentage': 0.511, 'effective_field_goal_percentage': 0.472, 'two_point_field_goal_percentage': 0.465, 'three_point_field_goal_percentage': 0.321, 'opp_effective_field_goal_percentage': 0.484}, 'stats_thru': '2023-03-12', 'team_win_loss': {'wins': 21.0, 'losses': 11.0, 'games_played': 32.0, 'conference_wins': 12.0, 'conference_losses': 8.0}}] count=None\n",
      "losers\n",
      "data=[{'team_unique': 'maryland', 'competition_id': 1, 'league_unique': 'ncaambb', 'seed': 8, 'overall_seed': 31, 'region': 'SOUTH', 'round_eliminated': 3, 'round_started': 2, 'team_stats': {'pace': 64.5, 'conference': 'big-ten', 'offensive_rating': 108.6, 'assist_percentage': 46.3, 'turnover_percentage': 14.1, 'strength_of_schedule': 7.9, 'free_throw_attempt_rate': 0.338, 'three_point_attempt_rate': 0.375, 'true_shooting_percentage': 0.548, 'effective_field_goal_percentage': 0.511, 'two_point_field_goal_percentage': 0.52, 'three_point_field_goal_percentage': 0.33, 'opp_effective_field_goal_percentage': 0.479}, 'stats_thru': '2023-03-12', 'team_win_loss': {'wins': 21.0, 'losses': 12.0, 'games_played': 33.0, 'conference_wins': 11.0, 'conference_losses': 9.0}}] count=None\n",
      "inactive players\n",
      "data=[{'player_unique': 'zakai-zeigler-1', 'competition_id': 1, 'team_unique': 'tennessee', 'inactive': True, 'note': None, 'league_unique': 'ncaambb', 'player_stats': {'blocks': 6.0, 'points': 321.0, 'steals': 59.0, 'assists': 161.0, 'rebounds': 82, 'turnovers': 68.0, 'field_goals': 105.0, 'free_throws': 60.0, 'two_pointers': 54.0, 'minutes_played': 864.0, 'personal_fouls': 67.0, 'three_pointers': 51.0, 'usage_percentage': 22.4, 'defensive_rebounds': 72.0, 'offensive_rebounds': 10.0, 'two_point_attempts': 116.0, 'field_goal_attempts': 280.0, 'free_throw_attempts': 72.0, 'three_point_attempts': 164.0, 'two_point_percentage': 0.466, 'field_goal_percentage': 0.375, 'free_throw_percentage': 0.833, 'three_point_percentage': 0.311, 'free_throw_attempt_rate': 0.257, 'player_efficiency_rating': 17.7, 'true_shooting_percentage': 0.511, 'effective_field_goal_percentage': 0.466}, 'stats_thru': '2023-03-12'}] count=None\n",
      "data=[{'player_unique': 'jalen-slawson-1', 'game_id': 64, 'points': 8, 'rebounds': 0, 'assists': 0, 'blocks': 0}, {'player_unique': 'jp-pegues-1', 'game_id': 64, 'points': 10, 'rebounds': 0, 'assists': 0, 'blocks': 0}, {'player_unique': 'marcus-foster-2', 'game_id': 64, 'points': 5, 'rebounds': 0, 'assists': 0, 'blocks': 0}, {'player_unique': 'garrett-hien-1', 'game_id': 64, 'points': 3, 'rebounds': 0, 'assists': 0, 'blocks': 0}, {'player_unique': 'ben-vanderwal-1', 'game_id': 64, 'points': 0, 'rebounds': 0, 'assists': 0, 'blocks': 0}, {'player_unique': 'alex-williams-3', 'game_id': 64, 'points': 11, 'rebounds': 0, 'assists': 0, 'blocks': 0}, {'player_unique': 'tyrese-hughey-1', 'game_id': 64, 'points': 0, 'rebounds': 0, 'assists': 0, 'blocks': 0}, {'player_unique': 'carter-whitt-1', 'game_id': 64, 'points': 0, 'rebounds': 0, 'assists': 0, 'blocks': 0}, {'player_unique': 'joe-anderson-4', 'game_id': 64, 'points': 0, 'rebounds': 0, 'assists': 0, 'blocks': 0}, {'player_unique': 'jonny-lawrence-1', 'game_id': 64, 'points': 0, 'rebounds': 0, 'assists': 0, 'blocks': 0}, {'player_unique': 'rett-lister-1', 'game_id': 64, 'points': 0, 'rebounds': 0, 'assists': 0, 'blocks': 0}, {'player_unique': 'blake-harris-1', 'game_id': 64, 'points': 0, 'rebounds': 0, 'assists': 0, 'blocks': 0}, {'player_unique': 'matt-bradley-1', 'game_id': 64, 'points': 10, 'rebounds': 0, 'assists': 0, 'blocks': 0}, {'player_unique': 'darrion-trammell-1', 'game_id': 64, 'points': 13, 'rebounds': 0, 'assists': 0, 'blocks': 0}, {'player_unique': 'lamont-butler-1', 'game_id': 64, 'points': 12, 'rebounds': 0, 'assists': 0, 'blocks': 0}, {'player_unique': 'jaedon-ledee-1', 'game_id': 64, 'points': 2, 'rebounds': 0, 'assists': 0, 'blocks': 0}, {'player_unique': 'keshad-johnson-1', 'game_id': 64, 'points': 7, 'rebounds': 0, 'assists': 0, 'blocks': 0}, {'player_unique': 'micah-parrish-1', 'game_id': 64, 'points': 16, 'rebounds': 0, 'assists': 0, 'blocks': 0}, {'player_unique': 'nathan-mensah-1', 'game_id': 64, 'points': 6, 'rebounds': 0, 'assists': 0, 'blocks': 0}, {'player_unique': 'adam-seiko-1', 'game_id': 64, 'points': 2, 'rebounds': 0, 'assists': 0, 'blocks': 0}, {'player_unique': 'aguek-arop-1', 'game_id': 64, 'points': 4, 'rebounds': 0, 'assists': 0, 'blocks': 0}, {'player_unique': 'miles-byrd-1', 'game_id': 64, 'points': 0, 'rebounds': 0, 'assists': 0, 'blocks': 0}, {'player_unique': 'elijah-saunders-1', 'game_id': 64, 'points': 0, 'rebounds': 0, 'assists': 0, 'blocks': 0}, {'player_unique': 'demarshay-johnsonjr-1', 'game_id': 64, 'points': 0, 'rebounds': 0, 'assists': 0, 'blocks': 0}, {'player_unique': 'cade-alger-1', 'game_id': 64, 'points': 0, 'rebounds': 0, 'assists': 0, 'blocks': 0}, {'player_unique': 'jared-barnett-1', 'game_id': 64, 'points': 3, 'rebounds': 0, 'assists': 0, 'blocks': 0}, {'player_unique': 'triston-broughton-1', 'game_id': 64, 'points': 0, 'rebounds': 0, 'assists': 0, 'blocks': 0}, {'player_unique': 'tyler-broughton-1', 'game_id': 64, 'points': 0, 'rebounds': 0, 'assists': 0, 'blocks': 0}, {'player_unique': 'kyle-filipowski-1', 'game_id': 65, 'points': 13, 'rebounds': 0, 'assists': 0, 'blocks': 0}, {'player_unique': 'jeremy-roach-2', 'game_id': 65, 'points': 13, 'rebounds': 0, 'assists': 0, 'blocks': 0}, {'player_unique': 'tyrese-proctor-1', 'game_id': 65, 'points': 16, 'rebounds': 0, 'assists': 0, 'blocks': 0}, {'player_unique': 'mark-mitchell-4', 'game_id': 65, 'points': 0, 'rebounds': 0, 'assists': 0, 'blocks': 0}, {'player_unique': 'ryan-young-2', 'game_id': 65, 'points': 0, 'rebounds': 0, 'assists': 0, 'blocks': 0}, {'player_unique': 'dariq-whitehead-1', 'game_id': 65, 'points': 8, 'rebounds': 0, 'assists': 0, 'blocks': 0}, {'player_unique': 'dereck-lively-ii-1', 'game_id': 65, 'points': 0, 'rebounds': 0, 'assists': 0, 'blocks': 0}, {'player_unique': 'jacob-grandison-1', 'game_id': 65, 'points': 2, 'rebounds': 0, 'assists': 0, 'blocks': 0}, {'player_unique': 'jaylen-blakes-1', 'game_id': 65, 'points': 0, 'rebounds': 0, 'assists': 0, 'blocks': 0}, {'player_unique': 'jaden-schutt-1', 'game_id': 65, 'points': 0, 'rebounds': 0, 'assists': 0, 'blocks': 0}, {'player_unique': 'christian-reeves-1', 'game_id': 65, 'points': 0, 'rebounds': 0, 'assists': 0, 'blocks': 0}, {'player_unique': 'kate-catchings-1', 'game_id': 65, 'points': 0, 'rebounds': 0, 'assists': 0, 'blocks': 0}, {'player_unique': 'stanley-borden-1', 'game_id': 65, 'points': 0, 'rebounds': 0, 'assists': 0, 'blocks': 0}, {'player_unique': 'spencer-hubbard-1', 'game_id': 65, 'points': 0, 'rebounds': 0, 'assists': 0, 'blocks': 0}, {'player_unique': 'max-johns-1', 'game_id': 65, 'points': 0, 'rebounds': 0, 'assists': 0, 'blocks': 0}, {'player_unique': 'santiago-vescovi-1', 'game_id': 65, 'points': 14, 'rebounds': 0, 'assists': 0, 'blocks': 0}, {'player_unique': 'olivier-nkamhoua-1', 'game_id': 65, 'points': 27, 'rebounds': 0, 'assists': 0, 'blocks': 0}, {'player_unique': 'zakai-zeigler-1', 'game_id': 65, 'points': 0, 'rebounds': 0, 'assists': 0, 'blocks': 0}, {'player_unique': 'julian-phillips-1', 'game_id': 65, 'points': 4, 'rebounds': 0, 'assists': 0, 'blocks': 0}, {'player_unique': 'tyreke-key-1', 'game_id': 65, 'points': 3, 'rebounds': 0, 'assists': 0, 'blocks': 0}, {'player_unique': 'josiah-jordan-james-1', 'game_id': 65, 'points': 7, 'rebounds': 0, 'assists': 0, 'blocks': 0}, {'player_unique': 'jonas-aidoo-1', 'game_id': 65, 'points': 8, 'rebounds': 0, 'assists': 0, 'blocks': 0}, {'player_unique': 'uros-plavsic-1', 'game_id': 65, 'points': 0, 'rebounds': 0, 'assists': 0, 'blocks': 0}, {'player_unique': 'jahmai-mashack-1', 'game_id': 65, 'points': 2, 'rebounds': 0, 'assists': 0, 'blocks': 0}, {'player_unique': 'tobe-awaka-1', 'game_id': 65, 'points': 0, 'rebounds': 0, 'assists': 0, 'blocks': 0}, {'player_unique': 'bj-edwards-2', 'game_id': 65, 'points': 0, 'rebounds': 0, 'assists': 0, 'blocks': 0}, {'player_unique': 'isaiah-sulack-1', 'game_id': 65, 'points': 0, 'rebounds': 0, 'assists': 0, 'blocks': 0}, {'player_unique': 'colin-coyne-1', 'game_id': 65, 'points': 0, 'rebounds': 0, 'assists': 0, 'blocks': 0}, {'player_unique': 'kent-gilbert-1', 'game_id': 65, 'points': 0, 'rebounds': 0, 'assists': 0, 'blocks': 0}, {'player_unique': 'alec-kegler-1', 'game_id': 65, 'points': 0, 'rebounds': 0, 'assists': 0, 'blocks': 0}, {'player_unique': 'ricky-counciliv-1', 'game_id': 66, 'points': 21, 'rebounds': 0, 'assists': 0, 'blocks': 0}, {'player_unique': 'anthony-black-1', 'game_id': 66, 'points': 4, 'rebounds': 0, 'assists': 0, 'blocks': 0}, {'player_unique': 'davonte-davis-1', 'game_id': 66, 'points': 25, 'rebounds': 0, 'assists': 0, 'blocks': 0}, {'player_unique': 'jordan-walsh-1', 'game_id': 66, 'points': 10, 'rebounds': 0, 'assists': 0, 'blocks': 0}, {'player_unique': 'makhi-mitchell-1', 'game_id': 66, 'points': 6, 'rebounds': 0, 'assists': 0, 'blocks': 0}, {'player_unique': 'nick-smith-jr-1', 'game_id': 66, 'points': 0, 'rebounds': 0, 'assists': 0, 'blocks': 0}, {'player_unique': 'jalen-graham-1', 'game_id': 66, 'points': 2, 'rebounds': 0, 'assists': 0, 'blocks': 0}, {'player_unique': 'makhel-mitchell-1', 'game_id': 66, 'points': 0, 'rebounds': 0, 'assists': 0, 'blocks': 0}, {'player_unique': 'trevon-brazile-1', 'game_id': 66, 'points': 0, 'rebounds': 0, 'assists': 0, 'blocks': 0}, {'player_unique': 'joseph-pinion-1', 'game_id': 66, 'points': 0, 'rebounds': 0, 'assists': 0, 'blocks': 0}, {'player_unique': 'kamani-johnson-1', 'game_id': 66, 'points': 4, 'rebounds': 0, 'assists': 0, 'blocks': 0}, {'player_unique': 'derrian-ford-1', 'game_id': 66, 'points': 0, 'rebounds': 0, 'assists': 0, 'blocks': 0}, {'player_unique': 'cade-arbogast-1', 'game_id': 66, 'points': 0, 'rebounds': 0, 'assists': 0, 'blocks': 0}, {'player_unique': 'lawson-blake-1', 'game_id': 66, 'points': 0, 'rebounds': 0, 'assists': 0, 'blocks': 0}, {'player_unique': 'barry-dunning-jr-1', 'game_id': 66, 'points': 0, 'rebounds': 0, 'assists': 0, 'blocks': 0}, {'player_unique': 'jalen-wilson-1', 'game_id': 66, 'points': 20, 'rebounds': 0, 'assists': 0, 'blocks': 0}, {'player_unique': 'gradey-dick-1', 'game_id': 66, 'points': 7, 'rebounds': 0, 'assists': 0, 'blocks': 0}, {'player_unique': 'kj-adamsjr-1', 'game_id': 66, 'points': 14, 'rebounds': 0, 'assists': 0, 'blocks': 0}, {'player_unique': 'kevin-mccullar-1', 'game_id': 66, 'points': 13, 'rebounds': 0, 'assists': 0, 'blocks': 0}, {'player_unique': 'dajuan-harris-1', 'game_id': 66, 'points': 12, 'rebounds': 0, 'assists': 0, 'blocks': 0}, {'player_unique': 'joseph-yesufu-1', 'game_id': 66, 'points': 3, 'rebounds': 0, 'assists': 0, 'blocks': 0}, {'player_unique': 'ernest-udeh-jr-1', 'game_id': 66, 'points': 0, 'rebounds': 0, 'assists': 0, 'blocks': 0}, {'player_unique': 'bob-pettiford-1', 'game_id': 66, 'points': 2, 'rebounds': 0, 'assists': 0, 'blocks': 0}, {'player_unique': 'mj-rice-1', 'game_id': 66, 'points': 0, 'rebounds': 0, 'assists': 0, 'blocks': 0}, {'player_unique': 'zuby-ejiofor-1', 'game_id': 66, 'points': 0, 'rebounds': 0, 'assists': 0, 'blocks': 0}, {'player_unique': 'zach-clemence-1', 'game_id': 66, 'points': 0, 'rebounds': 0, 'assists': 0, 'blocks': 0}, {'player_unique': 'michael-jankovich-1', 'game_id': 66, 'points': 0, 'rebounds': 0, 'assists': 0, 'blocks': 0}, {'player_unique': 'cam-martin-1', 'game_id': 66, 'points': 0, 'rebounds': 0, 'assists': 0, 'blocks': 0}, {'player_unique': 'kyle-cuffejr-1', 'game_id': 66, 'points': 0, 'rebounds': 0, 'assists': 0, 'blocks': 0}, {'player_unique': 'dillon-wilhite-1', 'game_id': 66, 'points': 0, 'rebounds': 0, 'assists': 0, 'blocks': 0}, {'player_unique': 'kobe-brown-1', 'game_id': 67, 'points': 12, 'rebounds': 0, 'assists': 0, 'blocks': 0}, {'player_unique': 'dmoi-hodge-1', 'game_id': 67, 'points': 2, 'rebounds': 0, 'assists': 0, 'blocks': 0}, {'player_unique': 'deandre-gholston-1', 'game_id': 67, 'points': 19, 'rebounds': 0, 'assists': 0, 'blocks': 0}, {'player_unique': 'noah-carter-1', 'game_id': 67, 'points': 14, 'rebounds': 0, 'assists': 0, 'blocks': 0}, {'player_unique': 'nick-honor-1', 'game_id': 67, 'points': 8, 'rebounds': 0, 'assists': 0, 'blocks': 0}, {'player_unique': 'sean-east-1', 'game_id': 67, 'points': 8, 'rebounds': 0, 'assists': 0, 'blocks': 0}, {'player_unique': 'isiaih-mosley-1', 'game_id': 67, 'points': 0, 'rebounds': 0, 'assists': 0, 'blocks': 0}, {'player_unique': 'tre-gomillion-1', 'game_id': 67, 'points': 0, 'rebounds': 0, 'assists': 0, 'blocks': 0}, {'player_unique': 'aidan-shaw-1', 'game_id': 67, 'points': 0, 'rebounds': 0, 'assists': 0, 'blocks': 0}, {'player_unique': 'mohamed-diarra-1', 'game_id': 67, 'points': 0, 'rebounds': 0, 'assists': 0, 'blocks': 0}, {'player_unique': 'ronnie-degrayiii-1', 'game_id': 67, 'points': 0, 'rebounds': 0, 'assists': 0, 'blocks': 0}, {'player_unique': 'kaleb-brown-1', 'game_id': 67, 'points': 0, 'rebounds': 0, 'assists': 0, 'blocks': 0}, {'player_unique': 'ben-sternberg-1', 'game_id': 67, 'points': 0, 'rebounds': 0, 'assists': 0, 'blocks': 0}, {'player_unique': 'mabor-majak-1', 'game_id': 67, 'points': 0, 'rebounds': 0, 'assists': 0, 'blocks': 0}, {'player_unique': 'jackson-francois-1', 'game_id': 67, 'points': 0, 'rebounds': 0, 'assists': 0, 'blocks': 0}, {'player_unique': 'tosan-evbuomwan-1', 'game_id': 67, 'points': 9, 'rebounds': 0, 'assists': 0, 'blocks': 0}, {'player_unique': 'ryan-langborg-1', 'game_id': 67, 'points': 22, 'rebounds': 0, 'assists': 0, 'blocks': 0}, {'player_unique': 'matt-allocco-1', 'game_id': 67, 'points': 10, 'rebounds': 0, 'assists': 0, 'blocks': 0}, {'player_unique': 'caden-pierce-1', 'game_id': 67, 'points': 9, 'rebounds': 0, 'assists': 0, 'blocks': 0}, {'player_unique': 'keeshawn-kellman-1', 'game_id': 67, 'points': 8, 'rebounds': 0, 'assists': 0, 'blocks': 0}, {'player_unique': 'blake-peters-1', 'game_id': 67, 'points': 17, 'rebounds': 0, 'assists': 0, 'blocks': 0}, {'player_unique': 'xaivian-lee-1', 'game_id': 67, 'points': 0, 'rebounds': 0, 'assists': 0, 'blocks': 0}, {'player_unique': 'deven-austin-1', 'game_id': 67, 'points': 0, 'rebounds': 0, 'assists': 0, 'blocks': 0}, {'player_unique': 'zach-martini-1', 'game_id': 67, 'points': 3, 'rebounds': 0, 'assists': 0, 'blocks': 0}, {'player_unique': 'jack-scott-1', 'game_id': 67, 'points': 0, 'rebounds': 0, 'assists': 0, 'blocks': 0}, {'player_unique': 'jacob-oconnell-1', 'game_id': 67, 'points': 0, 'rebounds': 0, 'assists': 0, 'blocks': 0}, {'player_unique': 'konrad-kiszka-1', 'game_id': 67, 'points': 0, 'rebounds': 0, 'assists': 0, 'blocks': 0}, {'player_unique': 'philip-byriel-1', 'game_id': 67, 'points': 0, 'rebounds': 0, 'assists': 0, 'blocks': 0}, {'player_unique': 'vernon-collins-1', 'game_id': 67, 'points': 0, 'rebounds': 0, 'assists': 0, 'blocks': 0}, {'player_unique': 'leyi-adebayo-1', 'game_id': 67, 'points': 0, 'rebounds': 0, 'assists': 0, 'blocks': 0}, {'player_unique': 'wendell-greenjr-1', 'game_id': 68, 'points': 9, 'rebounds': 0, 'assists': 0, 'blocks': 0}, {'player_unique': 'johni-broome-1', 'game_id': 68, 'points': 14, 'rebounds': 0, 'assists': 0, 'blocks': 0}, {'player_unique': 'jaylin-williams-1', 'game_id': 68, 'points': 14, 'rebounds': 0, 'assists': 0, 'blocks': 0}, {'player_unique': 'allen-flanigan-1', 'game_id': 68, 'points': 10, 'rebounds': 0, 'assists': 0, 'blocks': 0}, {'player_unique': 'kd-johnson-1', 'game_id': 68, 'points': 8, 'rebounds': 0, 'assists': 0, 'blocks': 0}, {'player_unique': 'dylan-cardwell-1', 'game_id': 68, 'points': 2, 'rebounds': 0, 'assists': 0, 'blocks': 0}, {'player_unique': 'chris-moore-10', 'game_id': 68, 'points': 0, 'rebounds': 0, 'assists': 0, 'blocks': 0}, {'player_unique': 'zep-jasper-1', 'game_id': 68, 'points': 1, 'rebounds': 0, 'assists': 0, 'blocks': 0}, {'player_unique': 'tre-donaldson-1', 'game_id': 68, 'points': 6, 'rebounds': 0, 'assists': 0, 'blocks': 0}, {'player_unique': 'yohan-traore-1', 'game_id': 68, 'points': 0, 'rebounds': 0, 'assists': 0, 'blocks': 0}, {'player_unique': 'lior-berman-1', 'game_id': 68, 'points': 0, 'rebounds': 0, 'assists': 0, 'blocks': 0}, {'player_unique': 'chance-westry-1', 'game_id': 68, 'points': 0, 'rebounds': 0, 'assists': 0, 'blocks': 0}, {'player_unique': 'babatunde-akingbola-1', 'game_id': 68, 'points': 0, 'rebounds': 0, 'assists': 0, 'blocks': 0}, {'player_unique': 'jalen-harper-1', 'game_id': 68, 'points': 0, 'rebounds': 0, 'assists': 0, 'blocks': 0}, {'player_unique': 'chandler-leopard-1', 'game_id': 68, 'points': 0, 'rebounds': 0, 'assists': 0, 'blocks': 0}, {'player_unique': 'carter-sobera-1', 'game_id': 68, 'points': 0, 'rebounds': 0, 'assists': 0, 'blocks': 0}, {'player_unique': 'marcus-sasser-1', 'game_id': 68, 'points': 22, 'rebounds': 0, 'assists': 0, 'blocks': 0}, {'player_unique': 'jarace-walker-1', 'game_id': 68, 'points': 7, 'rebounds': 0, 'assists': 0, 'blocks': 0}, {'player_unique': 'jwan-roberts-1', 'game_id': 68, 'points': 6, 'rebounds': 0, 'assists': 0, 'blocks': 0}, {'player_unique': 'jamal-shead-1', 'game_id': 68, 'points': 10, 'rebounds': 0, 'assists': 0, 'blocks': 0}, {'player_unique': 'tramon-mark-1', 'game_id': 68, 'points': 26, 'rebounds': 0, 'assists': 0, 'blocks': 0}, {'player_unique': 'emanuel-sharp-1', 'game_id': 68, 'points': 7, 'rebounds': 0, 'assists': 0, 'blocks': 0}, {'player_unique': 'javier-francis-1', 'game_id': 68, 'points': 0, 'rebounds': 0, 'assists': 0, 'blocks': 0}, {'player_unique': 'terrance-arceneaux-1', 'game_id': 68, 'points': 0, 'rebounds': 0, 'assists': 0, 'blocks': 0}, {'player_unique': 'reggie-chaney-1', 'game_id': 68, 'points': 3, 'rebounds': 0, 'assists': 0, 'blocks': 0}, {'player_unique': 'ramon-walkerjr-1', 'game_id': 68, 'points': 0, 'rebounds': 0, 'assists': 0, 'blocks': 0}, {'player_unique': 'ryan-elvin-1', 'game_id': 68, 'points': 0, 'rebounds': 0, 'assists': 0, 'blocks': 0}, {'player_unique': 'sadarius-bowser-1', 'game_id': 68, 'points': 0, 'rebounds': 0, 'assists': 0, 'blocks': 0}, {'player_unique': 'jalen-pickett-1', 'game_id': 69, 'points': 11, 'rebounds': 0, 'assists': 0, 'blocks': 0}, {'player_unique': 'seth-lundy-1', 'game_id': 69, 'points': 11, 'rebounds': 0, 'assists': 0, 'blocks': 0}, {'player_unique': 'andrew-funk-1', 'game_id': 69, 'points': 12, 'rebounds': 0, 'assists': 0, 'blocks': 0}, {'player_unique': 'camren-wynter-1', 'game_id': 69, 'points': 16, 'rebounds': 0, 'assists': 0, 'blocks': 0}, {'player_unique': 'myles-dread-1', 'game_id': 69, 'points': 12, 'rebounds': 0, 'assists': 0, 'blocks': 0}, {'player_unique': 'kebba-njie-1', 'game_id': 69, 'points': 0, 'rebounds': 0, 'assists': 0, 'blocks': 0}, {'player_unique': 'kanye-clary-1', 'game_id': 69, 'points': 2, 'rebounds': 0, 'assists': 0, 'blocks': 0}, {'player_unique': 'evan-mahaffey-1', 'game_id': 69, 'points': 2, 'rebounds': 0, 'assists': 0, 'blocks': 0}, {'player_unique': 'mikey-henn-1', 'game_id': 69, 'points': 0, 'rebounds': 0, 'assists': 0, 'blocks': 0}, {'player_unique': 'dallion-johnson-1', 'game_id': 69, 'points': 0, 'rebounds': 0, 'assists': 0, 'blocks': 0}, {'player_unique': 'caleb-dorsey-1', 'game_id': 69, 'points': 0, 'rebounds': 0, 'assists': 0, 'blocks': 0}, {'player_unique': 'jameel-brown-1', 'game_id': 69, 'points': 0, 'rebounds': 0, 'assists': 0, 'blocks': 0}, {'player_unique': 'demetrius-lilley-1', 'game_id': 69, 'points': 0, 'rebounds': 0, 'assists': 0, 'blocks': 0}, {'player_unique': 'andy-christos-1', 'game_id': 69, 'points': 0, 'rebounds': 0, 'assists': 0, 'blocks': 0}, {'player_unique': 'dan-conlan-1', 'game_id': 69, 'points': 0, 'rebounds': 0, 'assists': 0, 'blocks': 0}, {'player_unique': 'ishaan-jagiasi-1', 'game_id': 69, 'points': 0, 'rebounds': 0, 'assists': 0, 'blocks': 0}, {'player_unique': 'marcus-carr-2', 'game_id': 69, 'points': 10, 'rebounds': 0, 'assists': 0, 'blocks': 0}, {'player_unique': 'jabari-rice-1', 'game_id': 69, 'points': 13, 'rebounds': 0, 'assists': 0, 'blocks': 0}, {'player_unique': 'tyrese-hunter-1', 'game_id': 69, 'points': 6, 'rebounds': 0, 'assists': 0, 'blocks': 0}, {'player_unique': 'timmy-allen-1', 'game_id': 69, 'points': 9, 'rebounds': 0, 'assists': 0, 'blocks': 0}, {'player_unique': 'dylan-disu-1', 'game_id': 69, 'points': 28, 'rebounds': 0, 'assists': 0, 'blocks': 0}, {'player_unique': 'christian-bishop-1', 'game_id': 69, 'points': 3, 'rebounds': 0, 'assists': 0, 'blocks': 0}, {'player_unique': 'arterio-morris-1', 'game_id': 69, 'points': 0, 'rebounds': 0, 'assists': 0, 'blocks': 0}, {'player_unique': 'brock-cunningham-1', 'game_id': 69, 'points': 0, 'rebounds': 0, 'assists': 0, 'blocks': 0}, {'player_unique': 'dillon-mitchell-1', 'game_id': 69, 'points': 2, 'rebounds': 0, 'assists': 0, 'blocks': 0}, {'player_unique': 'alex-anamekwe-1', 'game_id': 69, 'points': 0, 'rebounds': 0, 'assists': 0, 'blocks': 0}, {'player_unique': 'cole-bott-1', 'game_id': 69, 'points': 0, 'rebounds': 0, 'assists': 0, 'blocks': 0}, {'player_unique': 'gavin-perryman-1', 'game_id': 69, 'points': 0, 'rebounds': 0, 'assists': 0, 'blocks': 0}, {'player_unique': 'boo-buie-1', 'game_id': 70, 'points': 18, 'rebounds': 0, 'assists': 0, 'blocks': 0}, {'player_unique': 'chase-audige-1', 'game_id': 70, 'points': 16, 'rebounds': 0, 'assists': 0, 'blocks': 0}, {'player_unique': 'ty-berry-1', 'game_id': 70, 'points': 3, 'rebounds': 0, 'assists': 0, 'blocks': 0}, {'player_unique': 'robbie-beran-1', 'game_id': 70, 'points': 3, 'rebounds': 0, 'assists': 0, 'blocks': 0}, {'player_unique': 'brooks-barnhizer-1', 'game_id': 70, 'points': 4, 'rebounds': 0, 'assists': 0, 'blocks': 0}, {'player_unique': 'matthew-nicholson-1', 'game_id': 70, 'points': 17, 'rebounds': 0, 'assists': 0, 'blocks': 0}, {'player_unique': 'tydus-verhoeven-1', 'game_id': 70, 'points': 0, 'rebounds': 0, 'assists': 0, 'blocks': 0}, {'player_unique': 'julian-roperii-1', 'game_id': 70, 'points': 0, 'rebounds': 0, 'assists': 0, 'blocks': 0}, {'player_unique': 'nick-martinelli-1', 'game_id': 70, 'points': 2, 'rebounds': 0, 'assists': 0, 'blocks': 0}, {'player_unique': 'luke-hunger-1', 'game_id': 70, 'points': 0, 'rebounds': 0, 'assists': 0, 'blocks': 0}, {'player_unique': 'roy-dixoniii-1', 'game_id': 70, 'points': 0, 'rebounds': 0, 'assists': 0, 'blocks': 0}, {'player_unique': 'blake-smith-3', 'game_id': 70, 'points': 0, 'rebounds': 0, 'assists': 0, 'blocks': 0}, {'player_unique': 'jaime-jaquezjr-1', 'game_id': 70, 'points': 24, 'rebounds': 0, 'assists': 0, 'blocks': 0}, {'player_unique': 'tyger-campbell-1', 'game_id': 70, 'points': 12, 'rebounds': 0, 'assists': 0, 'blocks': 0}, {'player_unique': 'jaylen-clark-1', 'game_id': 70, 'points': 0, 'rebounds': 0, 'assists': 0, 'blocks': 0}, {'player_unique': 'david-singleton-2', 'game_id': 70, 'points': 5, 'rebounds': 0, 'assists': 0, 'blocks': 0}, {'player_unique': 'amari-bailey-1', 'game_id': 70, 'points': 14, 'rebounds': 0, 'assists': 0, 'blocks': 0}, {'player_unique': 'adem-bona-1', 'game_id': 70, 'points': 6, 'rebounds': 0, 'assists': 0, 'blocks': 0}, {'player_unique': 'dylan-andrews-1', 'game_id': 70, 'points': 5, 'rebounds': 0, 'assists': 0, 'blocks': 0}, {'player_unique': 'kenneth-nwuba-1', 'game_id': 70, 'points': 2, 'rebounds': 0, 'assists': 0, 'blocks': 0}, {'player_unique': 'mac-etienne-1', 'game_id': 70, 'points': 0, 'rebounds': 0, 'assists': 0, 'blocks': 0}, {'player_unique': 'abramo-canka-1', 'game_id': 70, 'points': 0, 'rebounds': 0, 'assists': 0, 'blocks': 0}, {'player_unique': 'will-mcclendon-1', 'game_id': 70, 'points': 0, 'rebounds': 0, 'assists': 0, 'blocks': 0}, {'player_unique': 'russell-stong-1', 'game_id': 70, 'points': 0, 'rebounds': 0, 'assists': 0, 'blocks': 0}, {'player_unique': 'evan-manjikian-1', 'game_id': 70, 'points': 0, 'rebounds': 0, 'assists': 0, 'blocks': 0}, {'player_unique': 'logan-cremonesi-1', 'game_id': 70, 'points': 0, 'rebounds': 0, 'assists': 0, 'blocks': 0}, {'player_unique': 'brandon-miller-3', 'game_id': 71, 'points': 19, 'rebounds': 0, 'assists': 0, 'blocks': 0}, {'player_unique': 'mark-sears-1', 'game_id': 71, 'points': 6, 'rebounds': 0, 'assists': 0, 'blocks': 0}, {'player_unique': 'noah-clowney-1', 'game_id': 71, 'points': 5, 'rebounds': 0, 'assists': 0, 'blocks': 0}, {'player_unique': 'jahvon-quinerly-1', 'game_id': 71, 'points': 22, 'rebounds': 0, 'assists': 0, 'blocks': 0}, {'player_unique': 'jaden-bradley-1', 'game_id': 71, 'points': 0, 'rebounds': 0, 'assists': 0, 'blocks': 0}, {'player_unique': 'rylan-griffen-1', 'game_id': 71, 'points': 0, 'rebounds': 0, 'assists': 0, 'blocks': 0}, {'player_unique': 'charles-bediako-1', 'game_id': 71, 'points': 10, 'rebounds': 0, 'assists': 0, 'blocks': 0}, {'player_unique': 'noah-gurley-1', 'game_id': 71, 'points': 2, 'rebounds': 0, 'assists': 0, 'blocks': 0}, {'player_unique': 'nimari-burnett-1', 'game_id': 71, 'points': 3, 'rebounds': 0, 'assists': 0, 'blocks': 0}, {'player_unique': 'nick-pringle-2', 'game_id': 71, 'points': 3, 'rebounds': 0, 'assists': 0, 'blocks': 0}, {'player_unique': 'dominick-welch-1', 'game_id': 71, 'points': 0, 'rebounds': 0, 'assists': 0, 'blocks': 0}, {'player_unique': 'delaney-heard-1', 'game_id': 71, 'points': 2, 'rebounds': 0, 'assists': 0, 'blocks': 0}, {'player_unique': 'darius-miles-1', 'game_id': 71, 'points': 0, 'rebounds': 0, 'assists': 0, 'blocks': 0}, {'player_unique': 'adam-cottrell-1', 'game_id': 71, 'points': 0, 'rebounds': 0, 'assists': 0, 'blocks': 0}, {'player_unique': 'jaden-quinerly-1', 'game_id': 71, 'points': 1, 'rebounds': 0, 'assists': 0, 'blocks': 0}, {'player_unique': 'max-scharnowski-1', 'game_id': 71, 'points': 0, 'rebounds': 0, 'assists': 0, 'blocks': 0}, {'player_unique': 'jahmir-young-1', 'game_id': 71, 'points': 12, 'rebounds': 0, 'assists': 0, 'blocks': 0}, {'player_unique': 'hakim-hart-1', 'game_id': 71, 'points': 4, 'rebounds': 0, 'assists': 0, 'blocks': 0}, {'player_unique': 'donta-scott-1', 'game_id': 71, 'points': 3, 'rebounds': 0, 'assists': 0, 'blocks': 0}, {'player_unique': 'julian-reese-1', 'game_id': 71, 'points': 14, 'rebounds': 0, 'assists': 0, 'blocks': 0}, {'player_unique': 'donald-carey-1', 'game_id': 71, 'points': 8, 'rebounds': 0, 'assists': 0, 'blocks': 0}, {'player_unique': 'ian-martinez-2', 'game_id': 71, 'points': 7, 'rebounds': 0, 'assists': 0, 'blocks': 0}, {'player_unique': 'patrick-emilien-1', 'game_id': 71, 'points': 1, 'rebounds': 0, 'assists': 0, 'blocks': 0}, {'player_unique': 'jahari-long-1', 'game_id': 71, 'points': 0, 'rebounds': 0, 'assists': 0, 'blocks': 0}, {'player_unique': 'noah-batchelor-1', 'game_id': 71, 'points': 0, 'rebounds': 0, 'assists': 0, 'blocks': 0}, {'player_unique': 'ike-cornish-1', 'game_id': 71, 'points': 1, 'rebounds': 0, 'assists': 0, 'blocks': 0}, {'player_unique': 'caelum-swanton-rodger-1', 'game_id': 71, 'points': 1, 'rebounds': 0, 'assists': 0, 'blocks': 0}, {'player_unique': 'carson-dick-1', 'game_id': 71, 'points': 0, 'rebounds': 0, 'assists': 0, 'blocks': 0}, {'player_unique': 'pavlo-dziuba-1', 'game_id': 71, 'points': 0, 'rebounds': 0, 'assists': 0, 'blocks': 0}, {'player_unique': 'brett-karkus-1', 'game_id': 71, 'points': 0, 'rebounds': 0, 'assists': 0, 'blocks': 0}, {'player_unique': 'arnaud-revaz-1', 'game_id': 71, 'points': 0, 'rebounds': 0, 'assists': 0, 'blocks': 0}] count=None\n"
     ]
    }
   ],
   "source": [
    "# date = datetime.date.today()\n",
    "current_round=3\n",
    "date = \"2023-03-18\"\n",
    "update_scores_from_csv(current_round=current_round, game_scoring_csv = f\"{date}-game-scoring-2023-ncaa-tournament.csv\")\n"
   ],
   "metadata": {
    "collapsed": false
   }
  }
 ],
 "metadata": {
  "kernelspec": {
   "display_name": "Python 3",
   "language": "python",
   "name": "python3"
  },
  "language_info": {
   "codemirror_mode": {
    "name": "ipython",
    "version": 2
   },
   "file_extension": ".py",
   "mimetype": "text/x-python",
   "name": "python",
   "nbconvert_exporter": "python",
   "pygments_lexer": "ipython2",
   "version": "2.7.6"
  }
 },
 "nbformat": 4,
 "nbformat_minor": 0
}
