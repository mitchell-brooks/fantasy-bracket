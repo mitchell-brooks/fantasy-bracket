{
 "cells": [
  {
   "cell_type": "code",
   "execution_count": 1,
   "metadata": {
    "collapsed": true,
    "ExecuteTime": {
     "end_time": "2024-03-29T21:43:27.364346Z",
     "start_time": "2024-03-29T21:43:26.551850Z"
    }
   },
   "outputs": [
    {
     "name": "stdout",
     "output_type": "stream",
     "text": [
      "data=[{'league_unique': 'ncaambb', 'league_name': \"NCAA Men's Basketball\", 'sport': 'basketball', 'womens': False}] count=None\n"
     ]
    }
   ],
   "source": [
    "import os\n",
    "import csv\n",
    "from supabase import create_client, Client\n",
    "import os\n",
    "import datetime\n",
    "from dotenv import load_dotenv\n",
    "from pathlib import Path\n",
    "\n",
    "env_path = Path('..') / '.env.local'\n",
    "load_dotenv(dotenv_path=env_path)\n",
    "\n",
    "url = os.getenv(\"NEXT_PUBLIC_SUPABASE_URL\")\n",
    "key = os.getenv(\"NEXT_PUBLIC_SUPABASE_ANON_KEY\")\n",
    "supabase: Client = create_client(url, key)\n",
    "\n",
    "data = supabase.table(\"league\").select(\"*\").execute()\n",
    "print(data)"
   ]
  },
  {
   "cell_type": "code",
   "outputs": [],
   "source": [
    "COMPETITION_ID = 5\n",
    "POOL_ID = 14\n",
    "TODAY = datetime.date.today()\n",
    "# TODAY = \"2024-03-28\"\n",
    "CURRENT_ROUND = 5\n"
   ],
   "metadata": {
    "collapsed": false,
    "ExecuteTime": {
     "end_time": "2024-03-30T15:44:33.136715Z",
     "start_time": "2024-03-30T15:44:33.133889Z"
    }
   },
   "execution_count": 18
  },
  {
   "cell_type": "code",
   "execution_count": 14,
   "outputs": [],
   "source": [
    "def update_game_schedule(game_schedule_csv):\n",
    "    game_insert = []\n",
    "    with open(game_schedule_csv, 'r', encoding='utf-8-sig') as f:\n",
    "        reader = csv.DictReader(f)\n",
    "        # next(reader)\n",
    "        for row in reader:\n",
    "            print(row)\n",
    "            if row != {'game_date': '', 'team_2_id': '', 'team_1_id': '', 'game_time': '', 'round_num': '', 'competition_id': ''}:\n",
    "                game_insert.append(row)\n",
    "\n",
    "    data = supabase.table(\"game\").upsert(game_insert,\n",
    "                                         # ignore_duplicates=True, on_conflict=\"game_date, team_1_id, team_2_id\"\n",
    "                                         ).execute()\n",
    "    print(data)"
   ],
   "metadata": {
    "collapsed": false,
    "ExecuteTime": {
     "end_time": "2024-03-30T15:43:43.758661Z",
     "start_time": "2024-03-30T15:43:43.753973Z"
    }
   }
  },
  {
   "cell_type": "code",
   "execution_count": 15,
   "outputs": [
    {
     "name": "stdout",
     "output_type": "stream",
     "text": [
      "{'game_date': '2024-03-30', 'team_2_id': 'illinois', 'team_1_id': 'connecticut', 'game_time': '18:09', 'round_num': '5', 'competition_id': '5'}\n",
      "{'game_date': '2024-03-30', 'team_2_id': 'clemson', 'team_1_id': 'alabama', 'game_time': '20:49', 'round_num': '5', 'competition_id': '5'}\n",
      "{'game_date': '2024-03-31', 'team_2_id': 'purdue', 'team_1_id': 'tennessee', 'game_time': '14:20', 'round_num': '5', 'competition_id': '5'}\n",
      "{'game_date': '2024-03-31', 'team_2_id': 'duke', 'team_1_id': 'north-carolina-state', 'game_time': '17:05', 'round_num': '5', 'competition_id': '5'}\n",
      "data=[{'game_id': 259, 'game_date': '2024-03-30', 'team_1_id': 'connecticut', 'team_2_id': 'illinois', 'game_time': '18:09:00', 'round_num': 5, 'competition_id': 5, 'league2_unique': 'ncaambb', 'league1_unique': None}, {'game_id': 260, 'game_date': '2024-03-30', 'team_1_id': 'alabama', 'team_2_id': 'clemson', 'game_time': '20:49:00', 'round_num': 5, 'competition_id': 5, 'league2_unique': 'ncaambb', 'league1_unique': None}, {'game_id': 261, 'game_date': '2024-03-31', 'team_1_id': 'tennessee', 'team_2_id': 'purdue', 'game_time': '14:20:00', 'round_num': 5, 'competition_id': 5, 'league2_unique': 'ncaambb', 'league1_unique': None}, {'game_id': 262, 'game_date': '2024-03-31', 'team_1_id': 'north-carolina-state', 'team_2_id': 'duke', 'game_time': '17:05:00', 'round_num': 5, 'competition_id': 5, 'league2_unique': 'ncaambb', 'league1_unique': None}] count=None\n"
     ]
    }
   ],
   "source": [
    "round = CURRENT_ROUND\n",
    "update_game_schedule(f\"2024/game-schedule-round-{round}-2024-ncaa-tournament.csv\")"
   ],
   "metadata": {
    "collapsed": false,
    "ExecuteTime": {
     "end_time": "2024-03-30T15:43:48.866431Z",
     "start_time": "2024-03-30T15:43:48.582957Z"
    }
   }
  },
  {
   "cell_type": "code",
   "execution_count": 16,
   "outputs": [],
   "source": [
    "import pandas as pd\n",
    "import datetime\n",
    "def generate_game_scoring_sheet(competition_id: int = COMPETITION_ID, date = datetime.date.today()):\n",
    "    data = supabase.table(\"players_in_games_view\").select(\"*\").eq(\"game_date\", date).eq('competition_id', competition_id).execute()\n",
    "    print(data)\n",
    "    df = pd.DataFrame(data.data)\n",
    "    df['points'] = None\n",
    "    df['lost'] = None\n",
    "    df['inactive'] = None\n",
    "    # df['rebounds'] = 0\n",
    "    # df['assists'] = 0\n",
    "    df.to_csv(f\"2024/{date}-game-scoring-2024-ncaa-tournament.csv\", index=False, columns=['game_time', 'team_unique', 'lost', 'player_unique', 'points','inactive','game_id'])\n",
    "    # 'rebounds', 'assists'])"
   ],
   "metadata": {
    "collapsed": false,
    "ExecuteTime": {
     "end_time": "2024-03-30T15:44:00.356234Z",
     "start_time": "2024-03-30T15:44:00.351426Z"
    }
   }
  },
  {
   "cell_type": "code",
   "execution_count": 20,
   "outputs": [
    {
     "name": "stdout",
     "output_type": "stream",
     "text": [
      "data=[{'player_unique': 'zach-edey-1', 'team_unique': 'purdue', 'game_id': 261, 'game_date': '2024-03-31', 'game_time': '14:20:00', 'round_num': 5, 'competition_id': 5}, {'player_unique': 'braden-smith-1', 'team_unique': 'purdue', 'game_id': 261, 'game_date': '2024-03-31', 'game_time': '14:20:00', 'round_num': 5, 'competition_id': 5}, {'player_unique': 'lance-jones-1', 'team_unique': 'purdue', 'game_id': 261, 'game_date': '2024-03-31', 'game_time': '14:20:00', 'round_num': 5, 'competition_id': 5}, {'player_unique': 'fletcher-loyer-1', 'team_unique': 'purdue', 'game_id': 261, 'game_date': '2024-03-31', 'game_time': '14:20:00', 'round_num': 5, 'competition_id': 5}, {'player_unique': 'mason-gillis-1', 'team_unique': 'purdue', 'game_id': 261, 'game_date': '2024-03-31', 'game_time': '14:20:00', 'round_num': 5, 'competition_id': 5}, {'player_unique': 'trey-kaufman-renn-1', 'team_unique': 'purdue', 'game_id': 261, 'game_date': '2024-03-31', 'game_time': '14:20:00', 'round_num': 5, 'competition_id': 5}, {'player_unique': 'camden-heide-1', 'team_unique': 'purdue', 'game_id': 261, 'game_date': '2024-03-31', 'game_time': '14:20:00', 'round_num': 5, 'competition_id': 5}, {'player_unique': 'myles-colvin-2', 'team_unique': 'purdue', 'game_id': 261, 'game_date': '2024-03-31', 'game_time': '14:20:00', 'round_num': 5, 'competition_id': 5}, {'player_unique': 'caleb-furst-1', 'team_unique': 'purdue', 'game_id': 261, 'game_date': '2024-03-31', 'game_time': '14:20:00', 'round_num': 5, 'competition_id': 5}, {'player_unique': 'will-berg-1', 'team_unique': 'purdue', 'game_id': 261, 'game_date': '2024-03-31', 'game_time': '14:20:00', 'round_num': 5, 'competition_id': 5}, {'player_unique': 'ethan-morton-1', 'team_unique': 'purdue', 'game_id': 261, 'game_date': '2024-03-31', 'game_time': '14:20:00', 'round_num': 5, 'competition_id': 5}, {'player_unique': 'brian-waddell-1', 'team_unique': 'purdue', 'game_id': 261, 'game_date': '2024-03-31', 'game_time': '14:20:00', 'round_num': 5, 'competition_id': 5}, {'player_unique': 'sam-king-2', 'team_unique': 'purdue', 'game_id': 261, 'game_date': '2024-03-31', 'game_time': '14:20:00', 'round_num': 5, 'competition_id': 5}, {'player_unique': 'carson-barrett-1', 'team_unique': 'purdue', 'game_id': 261, 'game_date': '2024-03-31', 'game_time': '14:20:00', 'round_num': 5, 'competition_id': 5}, {'player_unique': 'chase-martin-1', 'team_unique': 'purdue', 'game_id': 261, 'game_date': '2024-03-31', 'game_time': '14:20:00', 'round_num': 5, 'competition_id': 5}, {'player_unique': 'josh-furst-1', 'team_unique': 'purdue', 'game_id': 261, 'game_date': '2024-03-31', 'game_time': '14:20:00', 'round_num': 5, 'competition_id': 5}, {'player_unique': 'jace-rayl-1', 'team_unique': 'purdue', 'game_id': 261, 'game_date': '2024-03-31', 'game_time': '14:20:00', 'round_num': 5, 'competition_id': 5}, {'player_unique': 'dalton-knecht-1', 'team_unique': 'tennessee', 'game_id': 261, 'game_date': '2024-03-31', 'game_time': '14:20:00', 'round_num': 5, 'competition_id': 5}, {'player_unique': 'jonas-aidoo-1', 'team_unique': 'tennessee', 'game_id': 261, 'game_date': '2024-03-31', 'game_time': '14:20:00', 'round_num': 5, 'competition_id': 5}, {'player_unique': 'zakai-zeigler-1', 'team_unique': 'tennessee', 'game_id': 261, 'game_date': '2024-03-31', 'game_time': '14:20:00', 'round_num': 5, 'competition_id': 5}, {'player_unique': 'josiah-jordan-james-1', 'team_unique': 'tennessee', 'game_id': 261, 'game_date': '2024-03-31', 'game_time': '14:20:00', 'round_num': 5, 'competition_id': 5}, {'player_unique': 'jordan-gainey-1', 'team_unique': 'tennessee', 'game_id': 261, 'game_date': '2024-03-31', 'game_time': '14:20:00', 'round_num': 5, 'competition_id': 5}, {'player_unique': 'santiago-vescovi-1', 'team_unique': 'tennessee', 'game_id': 261, 'game_date': '2024-03-31', 'game_time': '14:20:00', 'round_num': 5, 'competition_id': 5}, {'player_unique': 'tobe-awaka-1', 'team_unique': 'tennessee', 'game_id': 261, 'game_date': '2024-03-31', 'game_time': '14:20:00', 'round_num': 5, 'competition_id': 5}, {'player_unique': 'jahmai-mashack-1', 'team_unique': 'tennessee', 'game_id': 261, 'game_date': '2024-03-31', 'game_time': '14:20:00', 'round_num': 5, 'competition_id': 5}, {'player_unique': 'jp-estrella-2', 'team_unique': 'tennessee', 'game_id': 261, 'game_date': '2024-03-31', 'game_time': '14:20:00', 'round_num': 5, 'competition_id': 5}, {'player_unique': 'freddie-dilione-v-1', 'team_unique': 'tennessee', 'game_id': 261, 'game_date': '2024-03-31', 'game_time': '14:20:00', 'round_num': 5, 'competition_id': 5}, {'player_unique': 'cameron-carr-2', 'team_unique': 'tennessee', 'game_id': 261, 'game_date': '2024-03-31', 'game_time': '14:20:00', 'round_num': 5, 'competition_id': 5}, {'player_unique': 'cade-phillips-1', 'team_unique': 'tennessee', 'game_id': 261, 'game_date': '2024-03-31', 'game_time': '14:20:00', 'round_num': 5, 'competition_id': 5}, {'player_unique': 'dj-jefferson-1', 'team_unique': 'tennessee', 'game_id': 261, 'game_date': '2024-03-31', 'game_time': '14:20:00', 'round_num': 5, 'competition_id': 5}, {'player_unique': 'colin-coyne-1', 'team_unique': 'tennessee', 'game_id': 261, 'game_date': '2024-03-31', 'game_time': '14:20:00', 'round_num': 5, 'competition_id': 5}, {'player_unique': 'grant-hurst-1', 'team_unique': 'tennessee', 'game_id': 261, 'game_date': '2024-03-31', 'game_time': '14:20:00', 'round_num': 5, 'competition_id': 5}, {'player_unique': 'kaylan-makan-1', 'team_unique': 'tennessee', 'game_id': 261, 'game_date': '2024-03-31', 'game_time': '14:20:00', 'round_num': 5, 'competition_id': 5}, {'player_unique': 'kyle-filipowski-1', 'team_unique': 'duke', 'game_id': 262, 'game_date': '2024-03-31', 'game_time': '17:05:00', 'round_num': 5, 'competition_id': 5}, {'player_unique': 'jeremy-roach-2', 'team_unique': 'duke', 'game_id': 262, 'game_date': '2024-03-31', 'game_time': '17:05:00', 'round_num': 5, 'competition_id': 5}, {'player_unique': 'jared-mccain-2', 'team_unique': 'duke', 'game_id': 262, 'game_date': '2024-03-31', 'game_time': '17:05:00', 'round_num': 5, 'competition_id': 5}, {'player_unique': 'mark-mitchell-4', 'team_unique': 'duke', 'game_id': 262, 'game_date': '2024-03-31', 'game_time': '17:05:00', 'round_num': 5, 'competition_id': 5}, {'player_unique': 'tyrese-proctor-1', 'team_unique': 'duke', 'game_id': 262, 'game_date': '2024-03-31', 'game_time': '17:05:00', 'round_num': 5, 'competition_id': 5}, {'player_unique': 'caleb-foster-2', 'team_unique': 'duke', 'game_id': 262, 'game_date': '2024-03-31', 'game_time': '17:05:00', 'round_num': 5, 'competition_id': 5}, {'player_unique': 'ryan-young-2', 'team_unique': 'duke', 'game_id': 262, 'game_date': '2024-03-31', 'game_time': '17:05:00', 'round_num': 5, 'competition_id': 5}, {'player_unique': 'sean-stewart-2', 'team_unique': 'duke', 'game_id': 262, 'game_date': '2024-03-31', 'game_time': '17:05:00', 'round_num': 5, 'competition_id': 5}, {'player_unique': 'tj-power-2', 'team_unique': 'duke', 'game_id': 262, 'game_date': '2024-03-31', 'game_time': '17:05:00', 'round_num': 5, 'competition_id': 5}, {'player_unique': 'jaylen-blakes-1', 'team_unique': 'duke', 'game_id': 262, 'game_date': '2024-03-31', 'game_time': '17:05:00', 'round_num': 5, 'competition_id': 5}, {'player_unique': 'spencer-hubbard-1', 'team_unique': 'duke', 'game_id': 262, 'game_date': '2024-03-31', 'game_time': '17:05:00', 'round_num': 5, 'competition_id': 5}, {'player_unique': 'christian-reeves-1', 'team_unique': 'duke', 'game_id': 262, 'game_date': '2024-03-31', 'game_time': '17:05:00', 'round_num': 5, 'competition_id': 5}, {'player_unique': 'neal-begovich-1', 'team_unique': 'duke', 'game_id': 262, 'game_date': '2024-03-31', 'game_time': '17:05:00', 'round_num': 5, 'competition_id': 5}, {'player_unique': 'dj-horne-1', 'team_unique': 'north-carolina-state', 'game_id': 262, 'game_date': '2024-03-31', 'game_time': '17:05:00', 'round_num': 5, 'competition_id': 5}, {'player_unique': 'dj-burns-1', 'team_unique': 'north-carolina-state', 'game_id': 262, 'game_date': '2024-03-31', 'game_time': '17:05:00', 'round_num': 5, 'competition_id': 5}, {'player_unique': 'jayden-taylor-1', 'team_unique': 'north-carolina-state', 'game_id': 262, 'game_date': '2024-03-31', 'game_time': '17:05:00', 'round_num': 5, 'competition_id': 5}, {'player_unique': 'casey-morsell-1', 'team_unique': 'north-carolina-state', 'game_id': 262, 'game_date': '2024-03-31', 'game_time': '17:05:00', 'round_num': 5, 'competition_id': 5}, {'player_unique': 'mohamed-diarra-1', 'team_unique': 'north-carolina-state', 'game_id': 262, 'game_date': '2024-03-31', 'game_time': '17:05:00', 'round_num': 5, 'competition_id': 5}, {'player_unique': 'michael-oconnell-3', 'team_unique': 'north-carolina-state', 'game_id': 262, 'game_date': '2024-03-31', 'game_time': '17:05:00', 'round_num': 5, 'competition_id': 5}, {'player_unique': 'ben-middlebrooks-1', 'team_unique': 'north-carolina-state', 'game_id': 262, 'game_date': '2024-03-31', 'game_time': '17:05:00', 'round_num': 5, 'competition_id': 5}, {'player_unique': 'dennis-parker-jr-1', 'team_unique': 'north-carolina-state', 'game_id': 262, 'game_date': '2024-03-31', 'game_time': '17:05:00', 'round_num': 5, 'competition_id': 5}, {'player_unique': 'mj-rice-1', 'team_unique': 'north-carolina-state', 'game_id': 262, 'game_date': '2024-03-31', 'game_time': '17:05:00', 'round_num': 5, 'competition_id': 5}, {'player_unique': 'breon-pass-1', 'team_unique': 'north-carolina-state', 'game_id': 262, 'game_date': '2024-03-31', 'game_time': '17:05:00', 'round_num': 5, 'competition_id': 5}, {'player_unique': 'lj-thomas-1', 'team_unique': 'north-carolina-state', 'game_id': 262, 'game_date': '2024-03-31', 'game_time': '17:05:00', 'round_num': 5, 'competition_id': 5}, {'player_unique': 'kam-woods-1', 'team_unique': 'north-carolina-state', 'game_id': 262, 'game_date': '2024-03-31', 'game_time': '17:05:00', 'round_num': 5, 'competition_id': 5}, {'player_unique': 'ernest-ross-1', 'team_unique': 'north-carolina-state', 'game_id': 262, 'game_date': '2024-03-31', 'game_time': '17:05:00', 'round_num': 5, 'competition_id': 5}, {'player_unique': 'kj-keatts-1', 'team_unique': 'north-carolina-state', 'game_id': 262, 'game_date': '2024-03-31', 'game_time': '17:05:00', 'round_num': 5, 'competition_id': 5}, {'player_unique': 'alex-nunnally-1', 'team_unique': 'north-carolina-state', 'game_id': 262, 'game_date': '2024-03-31', 'game_time': '17:05:00', 'round_num': 5, 'competition_id': 5}, {'player_unique': 'jordan-snell-1', 'team_unique': 'north-carolina-state', 'game_id': 262, 'game_date': '2024-03-31', 'game_time': '17:05:00', 'round_num': 5, 'competition_id': 5}] count=None\n"
     ]
    }
   ],
   "source": [
    "# date = datetime.date.today()\n",
    "# date = \"2024-03-28\"\n",
    "date = TODAY\n",
    "date= \"2024-03-31\"\n",
    "generate_game_scoring_sheet(competition_id=COMPETITION_ID, date=date)"
   ],
   "metadata": {
    "collapsed": false,
    "ExecuteTime": {
     "end_time": "2024-03-30T15:45:07.615997Z",
     "start_time": "2024-03-30T15:45:07.417420Z"
    }
   }
  },
  {
   "cell_type": "code",
   "outputs": [
    {
     "name": "stdout",
     "output_type": "stream",
     "text": [
      "2024-03-23\n"
     ]
    }
   ],
   "source": [
    "print(TODAY)"
   ],
   "metadata": {
    "collapsed": false,
    "ExecuteTime": {
     "end_time": "2024-03-24T02:19:10.507806Z",
     "start_time": "2024-03-24T02:19:10.501224Z"
    }
   },
   "execution_count": 56
  },
  {
   "cell_type": "code",
   "execution_count": 10,
   "outputs": [],
   "source": [
    "def update_scores_from_csv(current_round: int, competition_id: int, game_scoring_csv = f\"{datetime.date.today()}-game-scoring-2023-ncaa-tournament.csv\"):\n",
    "    player_game_insert = []\n",
    "    losing_teams = []\n",
    "    inactive_players = []\n",
    "    team_1 = \"\"\n",
    "    team_2 = \"\"\n",
    "    with open(game_scoring_csv, 'r', encoding='utf-8-sig') as f:\n",
    "        reader = csv.DictReader(f)\n",
    "        # next(reader)\n",
    "        for row in reader:\n",
    "            if row['lost'].upper() == 'L':\n",
    "                losing_teams.append(row['team_unique'])\n",
    "            if row['inactive'].upper() == 'I':\n",
    "                inactive_players.append(row['player_unique'])\n",
    "            if row['points'] != '':\n",
    "                team_2 = team_1\n",
    "                team_1 = row['team_unique']\n",
    "                player_game_row = {\n",
    "                    \"player_unique\": row['player_unique'],\n",
    "                    \"game_id\": row['game_id'],\n",
    "                    \"points\": row['points'],\n",
    "                }\n",
    "                player_game_insert.append(player_game_row)\n",
    "\n",
    "    data = supabase.table(\"player_game\").upsert(player_game_insert,\n",
    "                                         ignore_duplicates=False, on_conflict=\"game_id, player_unique\").execute()\n",
    "    updated = supabase.table(\"competition_updated\").insert({\"competition_id\": competition_id, \"current_round\": current_round}).execute()\n",
    "    for team in losing_teams:\n",
    "        loser_data = supabase.table('team_competition').update({'round_eliminated': current_round}).eq('team_unique', team).eq('competition_id', competition_id).execute()\n",
    "        print(\"losers\")\n",
    "        print(loser_data)\n",
    "    for player in inactive_players:\n",
    "        player_data = supabase.table('player_competition').update({'inactive': True}).eq('player_unique', player).eq('competition_id', competition_id).execute()\n",
    "        print(\"inactive players\")\n",
    "        print(player_data)\n",
    "    print(data)"
   ],
   "metadata": {
    "collapsed": false,
    "ExecuteTime": {
     "end_time": "2024-03-29T21:54:28.957611Z",
     "start_time": "2024-03-29T21:54:28.948638Z"
    }
   }
  },
  {
   "cell_type": "code",
   "execution_count": 12,
   "outputs": [
    {
     "name": "stdout",
     "output_type": "stream",
     "text": [
      "losers\n",
      "data=[{'team_unique': 'marquette', 'competition_id': 5, 'league_unique': 'ncaambb', 'seed': 2, 'overall_seed': 7, 'region': 'SOUTH', 'round_eliminated': 4, 'round_started': 2, 'team_stats': {'pace': 69.3, 'conference': 'big-east', 'offensive_rating': 112.6, 'assist_percentage': 54.3, 'turnover_percentage': 12.7, 'strength_of_schedule': 10.99, 'free_throw_attempt_rate': 0.256, 'three_point_attempt_rate': 0.405, 'true_shooting_percentage': 0.573, 'effective_field_goal_percentage': 0.551, 'two_point_field_goal_percentage': 0.56, 'three_point_field_goal_percentage': 0.358, 'opp_effective_field_goal_percentage': 0.497}, 'stats_thru': '2024-03-17', 'team_win_loss': {'wins': 25.0, 'losses': 9.0, 'games_played': 0, 'conference_wins': 14.0, 'conference_losses': 6.0}}] count=None\n",
      "losers\n",
      "data=[{'team_unique': 'gonzaga', 'competition_id': 5, 'league_unique': 'ncaambb', 'seed': 5, 'overall_seed': 21, 'region': 'MIDWEST', 'round_eliminated': 4, 'round_started': 2, 'team_stats': {'pace': 70.2, 'conference': 'wcc', 'offensive_rating': 120.9, 'assist_percentage': 51.7, 'turnover_percentage': 12.1, 'strength_of_schedule': 3.03, 'free_throw_attempt_rate': 0.312, 'three_point_attempt_rate': 0.312, 'true_shooting_percentage': 0.596, 'effective_field_goal_percentage': 0.572, 'two_point_field_goal_percentage': 0.59, 'three_point_field_goal_percentage': 0.354, 'opp_effective_field_goal_percentage': 0.467}, 'stats_thru': '2024-03-17', 'team_win_loss': {'wins': 25.0, 'losses': 7.0, 'games_played': 0, 'conference_wins': 14.0, 'conference_losses': 2.0}}] count=None\n",
      "losers\n",
      "data=[{'team_unique': 'houston', 'competition_id': 5, 'league_unique': 'ncaambb', 'seed': 1, 'overall_seed': 2, 'region': 'SOUTH', 'round_eliminated': 4, 'round_started': 2, 'team_stats': {'pace': 64.2, 'conference': 'big-12', 'offensive_rating': 113.0, 'assist_percentage': 49.1, 'turnover_percentage': 11.4, 'strength_of_schedule': 10.3, 'free_throw_attempt_rate': 0.299, 'three_point_attempt_rate': 0.366, 'true_shooting_percentage': 0.526, 'effective_field_goal_percentage': 0.497, 'two_point_field_goal_percentage': 0.484, 'three_point_field_goal_percentage': 0.347, 'opp_effective_field_goal_percentage': 0.44}, 'stats_thru': '2024-03-17', 'team_win_loss': {'wins': 30.0, 'losses': 4.0, 'games_played': 0, 'conference_wins': 15.0, 'conference_losses': 3.0}}] count=None\n",
      "losers\n",
      "data=[{'team_unique': 'creighton', 'competition_id': 5, 'league_unique': 'ncaambb', 'seed': 3, 'overall_seed': 10, 'region': 'MIDWEST', 'round_eliminated': 4, 'round_started': 2, 'team_stats': {'pace': 67.9, 'conference': 'big-east', 'offensive_rating': 116.3, 'assist_percentage': 58.6, 'turnover_percentage': 13.6, 'strength_of_schedule': 9.22, 'free_throw_attempt_rate': 0.245, 'three_point_attempt_rate': 0.489, 'true_shooting_percentage': 0.6, 'effective_field_goal_percentage': 0.575, 'two_point_field_goal_percentage': 0.606, 'three_point_field_goal_percentage': 0.361, 'opp_effective_field_goal_percentage': 0.464}, 'stats_thru': '2024-03-17', 'team_win_loss': {'wins': 23.0, 'losses': 9.0, 'games_played': 0, 'conference_wins': 14.0, 'conference_losses': 6.0}}] count=None\n",
      "inactive players\n",
      "data=[{'player_unique': 'jamal-shead-1', 'competition_id': 5, 'team_unique': 'houston', 'inactive': True, 'note': None, 'league_unique': 'ncaambb', 'player_stats': {'blocks': 17.0, 'points': 444.0, 'steals': 77.0, 'assists': 211.0, 'rebounds': 128, 'turnovers': 67.0, 'field_goals': 164.0, 'free_throws': 74.0, 'games_played': 34.0, 'two_pointers': 122.0, 'games_started': 34.0, 'minutes_played': 1066.0, 'personal_fouls': 67.0, 'three_pointers': 42.0, 'usage_percentage': 24.8, 'defensive_rebounds': 98.0, 'offensive_rebounds': 30.0, 'two_point_attempts': 271.0, 'field_goal_attempts': 402.0, 'free_throw_attempts': 94.0, 'three_point_attempts': 131.0, 'two_point_percentage': 0.45, 'field_goal_percentage': 0.408, 'free_throw_percentage': 0.787, 'three_point_percentage': 0.321, 'free_throw_attempt_rate': 0.234, 'player_efficiency_rating': 22.9, 'true_shooting_percentage': 0.497, 'effective_field_goal_percentage': 0.46}, 'stats_thru': '2023-03-17'}] count=None\n",
      "data=[{'player_unique': 'kam-jones-1', 'game_id': 255, 'points': 20, 'rebounds': 0, 'assists': 0, 'blocks': 0}, {'player_unique': 'oso-ighodaro-1', 'game_id': 255, 'points': 6, 'rebounds': 0, 'assists': 0, 'blocks': 0}, {'player_unique': 'tyler-kolek-1', 'game_id': 255, 'points': 17, 'rebounds': 0, 'assists': 0, 'blocks': 0}, {'player_unique': 'david-joplin-1', 'game_id': 255, 'points': 4, 'rebounds': 0, 'assists': 0, 'blocks': 0}, {'player_unique': 'stevie-mitchell-1', 'game_id': 255, 'points': 8, 'rebounds': 0, 'assists': 0, 'blocks': 0}, {'player_unique': 'chase-ross-1', 'game_id': 255, 'points': 2, 'rebounds': 0, 'assists': 0, 'blocks': 0}, {'player_unique': 'ben-gold-1', 'game_id': 255, 'points': 1, 'rebounds': 0, 'assists': 0, 'blocks': 0}, {'player_unique': 'sean-jones-3', 'game_id': 255, 'points': 0, 'rebounds': 0, 'assists': 0, 'blocks': 0}, {'player_unique': 'tre-norman-1', 'game_id': 255, 'points': 0, 'rebounds': 0, 'assists': 0, 'blocks': 0}, {'player_unique': 'zaide-lowery-1', 'game_id': 255, 'points': 0, 'rebounds': 0, 'assists': 0, 'blocks': 0}, {'player_unique': 'al-amadou-1', 'game_id': 255, 'points': 0, 'rebounds': 0, 'assists': 0, 'blocks': 0}, {'player_unique': 'jonah-lucas-1', 'game_id': 255, 'points': 0, 'rebounds': 0, 'assists': 0, 'blocks': 0}, {'player_unique': 'cameron-brown-2', 'game_id': 255, 'points': 0, 'rebounds': 0, 'assists': 0, 'blocks': 0}, {'player_unique': 'casey-omalley-1', 'game_id': 255, 'points': 0, 'rebounds': 0, 'assists': 0, 'blocks': 0}, {'player_unique': 'jack-riley-1', 'game_id': 255, 'points': 0, 'rebounds': 0, 'assists': 0, 'blocks': 0}, {'player_unique': 'dj-horne-1', 'game_id': 255, 'points': 19, 'rebounds': 0, 'assists': 0, 'blocks': 0}, {'player_unique': 'dj-burns-1', 'game_id': 255, 'points': 4, 'rebounds': 0, 'assists': 0, 'blocks': 0}, {'player_unique': 'jayden-taylor-1', 'game_id': 255, 'points': 6, 'rebounds': 0, 'assists': 0, 'blocks': 0}, {'player_unique': 'casey-morsell-1', 'game_id': 255, 'points': 15, 'rebounds': 0, 'assists': 0, 'blocks': 0}, {'player_unique': 'mohamed-diarra-1', 'game_id': 255, 'points': 11, 'rebounds': 0, 'assists': 0, 'blocks': 0}, {'player_unique': 'michael-oconnell-3', 'game_id': 255, 'points': 8, 'rebounds': 0, 'assists': 0, 'blocks': 0}, {'player_unique': 'ben-middlebrooks-1', 'game_id': 255, 'points': 4, 'rebounds': 0, 'assists': 0, 'blocks': 0}, {'player_unique': 'dennis-parker-jr-1', 'game_id': 255, 'points': 0, 'rebounds': 0, 'assists': 0, 'blocks': 0}, {'player_unique': 'mj-rice-1', 'game_id': 255, 'points': 0, 'rebounds': 0, 'assists': 0, 'blocks': 0}, {'player_unique': 'breon-pass-1', 'game_id': 255, 'points': 0, 'rebounds': 0, 'assists': 0, 'blocks': 0}, {'player_unique': 'lj-thomas-1', 'game_id': 255, 'points': 0, 'rebounds': 0, 'assists': 0, 'blocks': 0}, {'player_unique': 'kam-woods-1', 'game_id': 255, 'points': 0, 'rebounds': 0, 'assists': 0, 'blocks': 0}, {'player_unique': 'ernest-ross-1', 'game_id': 255, 'points': 0, 'rebounds': 0, 'assists': 0, 'blocks': 0}, {'player_unique': 'kj-keatts-1', 'game_id': 255, 'points': 0, 'rebounds': 0, 'assists': 0, 'blocks': 0}, {'player_unique': 'alex-nunnally-1', 'game_id': 255, 'points': 0, 'rebounds': 0, 'assists': 0, 'blocks': 0}, {'player_unique': 'jordan-snell-1', 'game_id': 255, 'points': 0, 'rebounds': 0, 'assists': 0, 'blocks': 0}, {'player_unique': 'graham-ike-1', 'game_id': 256, 'points': 18, 'rebounds': 0, 'assists': 0, 'blocks': 0}, {'player_unique': 'anton-watson-1', 'game_id': 256, 'points': 14, 'rebounds': 0, 'assists': 0, 'blocks': 0}, {'player_unique': 'nolan-hickman-1', 'game_id': 256, 'points': 16, 'rebounds': 0, 'assists': 0, 'blocks': 0}, {'player_unique': 'ryan-nembhard-1', 'game_id': 256, 'points': 14, 'rebounds': 0, 'assists': 0, 'blocks': 0}, {'player_unique': 'braden-huff-1', 'game_id': 256, 'points': 4, 'rebounds': 0, 'assists': 0, 'blocks': 0}, {'player_unique': 'ben-gregg-1', 'game_id': 256, 'points': 2, 'rebounds': 0, 'assists': 0, 'blocks': 0}, {'player_unique': 'dusty-stromer-2', 'game_id': 256, 'points': 0, 'rebounds': 0, 'assists': 0, 'blocks': 0}, {'player_unique': 'jun-seok-yeo-1', 'game_id': 256, 'points': 0, 'rebounds': 0, 'assists': 0, 'blocks': 0}, {'player_unique': 'luka-krajnovic-1', 'game_id': 256, 'points': 0, 'rebounds': 0, 'assists': 0, 'blocks': 0}, {'player_unique': 'colby-brooks-1', 'game_id': 256, 'points': 0, 'rebounds': 0, 'assists': 0, 'blocks': 0}, {'player_unique': 'pavle-stosic-1', 'game_id': 256, 'points': 0, 'rebounds': 0, 'assists': 0, 'blocks': 0}, {'player_unique': 'joe-few-1', 'game_id': 256, 'points': 0, 'rebounds': 0, 'assists': 0, 'blocks': 0}, {'player_unique': 'zach-edey-1', 'game_id': 256, 'points': 27, 'rebounds': 0, 'assists': 0, 'blocks': 0}, {'player_unique': 'braden-smith-1', 'game_id': 256, 'points': 14, 'rebounds': 0, 'assists': 0, 'blocks': 0}, {'player_unique': 'lance-jones-1', 'game_id': 256, 'points': 12, 'rebounds': 0, 'assists': 0, 'blocks': 0}, {'player_unique': 'fletcher-loyer-1', 'game_id': 256, 'points': 10, 'rebounds': 0, 'assists': 0, 'blocks': 0}, {'player_unique': 'mason-gillis-1', 'game_id': 256, 'points': 6, 'rebounds': 0, 'assists': 0, 'blocks': 0}, {'player_unique': 'trey-kaufman-renn-1', 'game_id': 256, 'points': 6, 'rebounds': 0, 'assists': 0, 'blocks': 0}, {'player_unique': 'camden-heide-1', 'game_id': 256, 'points': 5, 'rebounds': 0, 'assists': 0, 'blocks': 0}, {'player_unique': 'myles-colvin-2', 'game_id': 256, 'points': 0, 'rebounds': 0, 'assists': 0, 'blocks': 0}, {'player_unique': 'caleb-furst-1', 'game_id': 256, 'points': 0, 'rebounds': 0, 'assists': 0, 'blocks': 0}, {'player_unique': 'will-berg-1', 'game_id': 256, 'points': 0, 'rebounds': 0, 'assists': 0, 'blocks': 0}, {'player_unique': 'ethan-morton-1', 'game_id': 256, 'points': 0, 'rebounds': 0, 'assists': 0, 'blocks': 0}, {'player_unique': 'brian-waddell-1', 'game_id': 256, 'points': 0, 'rebounds': 0, 'assists': 0, 'blocks': 0}, {'player_unique': 'sam-king-2', 'game_id': 256, 'points': 0, 'rebounds': 0, 'assists': 0, 'blocks': 0}, {'player_unique': 'carson-barrett-1', 'game_id': 256, 'points': 0, 'rebounds': 0, 'assists': 0, 'blocks': 0}, {'player_unique': 'chase-martin-1', 'game_id': 256, 'points': 0, 'rebounds': 0, 'assists': 0, 'blocks': 0}, {'player_unique': 'josh-furst-1', 'game_id': 256, 'points': 0, 'rebounds': 0, 'assists': 0, 'blocks': 0}, {'player_unique': 'jace-rayl-1', 'game_id': 256, 'points': 0, 'rebounds': 0, 'assists': 0, 'blocks': 0}, {'player_unique': 'kyle-filipowski-1', 'game_id': 257, 'points': 16, 'rebounds': 0, 'assists': 0, 'blocks': 0}, {'player_unique': 'jeremy-roach-2', 'game_id': 257, 'points': 14, 'rebounds': 0, 'assists': 0, 'blocks': 0}, {'player_unique': 'jared-mccain-2', 'game_id': 257, 'points': 7, 'rebounds': 0, 'assists': 0, 'blocks': 0}, {'player_unique': 'mark-mitchell-4', 'game_id': 257, 'points': 2, 'rebounds': 0, 'assists': 0, 'blocks': 0}, {'player_unique': 'tyrese-proctor-1', 'game_id': 257, 'points': 9, 'rebounds': 0, 'assists': 0, 'blocks': 0}, {'player_unique': 'caleb-foster-2', 'game_id': 257, 'points': 0, 'rebounds': 0, 'assists': 0, 'blocks': 0}, {'player_unique': 'ryan-young-2', 'game_id': 257, 'points': 4, 'rebounds': 0, 'assists': 0, 'blocks': 0}, {'player_unique': 'sean-stewart-2', 'game_id': 257, 'points': 0, 'rebounds': 0, 'assists': 0, 'blocks': 0}, {'player_unique': 'tj-power-2', 'game_id': 257, 'points': 0, 'rebounds': 0, 'assists': 0, 'blocks': 0}, {'player_unique': 'jaylen-blakes-1', 'game_id': 257, 'points': 2, 'rebounds': 0, 'assists': 0, 'blocks': 0}, {'player_unique': 'spencer-hubbard-1', 'game_id': 257, 'points': 0, 'rebounds': 0, 'assists': 0, 'blocks': 0}, {'player_unique': 'christian-reeves-1', 'game_id': 257, 'points': 0, 'rebounds': 0, 'assists': 0, 'blocks': 0}, {'player_unique': 'neal-begovich-1', 'game_id': 257, 'points': 0, 'rebounds': 0, 'assists': 0, 'blocks': 0}, {'player_unique': 'lj-cryer-1', 'game_id': 257, 'points': 15, 'rebounds': 0, 'assists': 0, 'blocks': 0}, {'player_unique': 'jamal-shead-1', 'game_id': 257, 'points': 2, 'rebounds': 0, 'assists': 0, 'blocks': 0}, {'player_unique': 'emanuel-sharp-1', 'game_id': 257, 'points': 7, 'rebounds': 0, 'assists': 0, 'blocks': 0}, {'player_unique': 'jwan-roberts-1', 'game_id': 257, 'points': 13, 'rebounds': 0, 'assists': 0, 'blocks': 0}, {'player_unique': 'damian-dunn-1', 'game_id': 257, 'points': 2, 'rebounds': 0, 'assists': 0, 'blocks': 0}, {'player_unique': 'javier-francis-1', 'game_id': 257, 'points': 7, 'rebounds': 0, 'assists': 0, 'blocks': 0}, {'player_unique': 'mylik-wilson-1', 'game_id': 257, 'points': 2, 'rebounds': 0, 'assists': 0, 'blocks': 0}, {'player_unique': 'joseph-tugler-2', 'game_id': 257, 'points': 0, 'rebounds': 0, 'assists': 0, 'blocks': 0}, {'player_unique': 'terrance-arceneaux-1', 'game_id': 257, 'points': 0, 'rebounds': 0, 'assists': 0, 'blocks': 0}, {'player_unique': 'ramon-walkerjr-1', 'game_id': 257, 'points': 3, 'rebounds': 0, 'assists': 0, 'blocks': 0}, {'player_unique': 'ryan-elvin-1', 'game_id': 257, 'points': 0, 'rebounds': 0, 'assists': 0, 'blocks': 0}, {'player_unique': 'cedric-lath-1', 'game_id': 257, 'points': 0, 'rebounds': 0, 'assists': 0, 'blocks': 0}, {'player_unique': 'baylor-scheierman-1', 'game_id': 258, 'points': 25, 'rebounds': 0, 'assists': 0, 'blocks': 0}, {'player_unique': 'trey-alexander-1', 'game_id': 258, 'points': 13, 'rebounds': 0, 'assists': 0, 'blocks': 0}, {'player_unique': 'ryan-kalkbrenner-1', 'game_id': 258, 'points': 14, 'rebounds': 0, 'assists': 0, 'blocks': 0}, {'player_unique': 'steven-ashworth-1', 'game_id': 258, 'points': 16, 'rebounds': 0, 'assists': 0, 'blocks': 0}, {'player_unique': 'mason-miller-1', 'game_id': 258, 'points': 3, 'rebounds': 0, 'assists': 0, 'blocks': 0}, {'player_unique': 'francisco-farabello-1', 'game_id': 258, 'points': 0, 'rebounds': 0, 'assists': 0, 'blocks': 0}, {'player_unique': 'isaac-traudt-1', 'game_id': 258, 'points': 0, 'rebounds': 0, 'assists': 0, 'blocks': 0}, {'player_unique': 'fredrick-king-1', 'game_id': 258, 'points': 0, 'rebounds': 0, 'assists': 0, 'blocks': 0}, {'player_unique': 'jasen-green-1', 'game_id': 258, 'points': 4, 'rebounds': 0, 'assists': 0, 'blocks': 0}, {'player_unique': 'josiah-dotzler-1', 'game_id': 258, 'points': 0, 'rebounds': 0, 'assists': 0, 'blocks': 0}, {'player_unique': 'johnathan-lawson-1', 'game_id': 258, 'points': 0, 'rebounds': 0, 'assists': 0, 'blocks': 0}, {'player_unique': 'dalton-knecht-1', 'game_id': 258, 'points': 24, 'rebounds': 0, 'assists': 0, 'blocks': 0}, {'player_unique': 'jonas-aidoo-1', 'game_id': 258, 'points': 4, 'rebounds': 0, 'assists': 0, 'blocks': 0}, {'player_unique': 'zakai-zeigler-1', 'game_id': 258, 'points': 18, 'rebounds': 0, 'assists': 0, 'blocks': 0}, {'player_unique': 'josiah-jordan-james-1', 'game_id': 258, 'points': 17, 'rebounds': 0, 'assists': 0, 'blocks': 0}, {'player_unique': 'jordan-gainey-1', 'game_id': 258, 'points': 7, 'rebounds': 0, 'assists': 0, 'blocks': 0}, {'player_unique': 'santiago-vescovi-1', 'game_id': 258, 'points': 0, 'rebounds': 0, 'assists': 0, 'blocks': 0}, {'player_unique': 'tobe-awaka-1', 'game_id': 258, 'points': 5, 'rebounds': 0, 'assists': 0, 'blocks': 0}, {'player_unique': 'jahmai-mashack-1', 'game_id': 258, 'points': 4, 'rebounds': 0, 'assists': 0, 'blocks': 0}, {'player_unique': 'jp-estrella-2', 'game_id': 258, 'points': 0, 'rebounds': 0, 'assists': 0, 'blocks': 0}, {'player_unique': 'freddie-dilione-v-1', 'game_id': 258, 'points': 0, 'rebounds': 0, 'assists': 0, 'blocks': 0}, {'player_unique': 'cameron-carr-2', 'game_id': 258, 'points': 3, 'rebounds': 0, 'assists': 0, 'blocks': 0}, {'player_unique': 'cade-phillips-1', 'game_id': 258, 'points': 0, 'rebounds': 0, 'assists': 0, 'blocks': 0}, {'player_unique': 'dj-jefferson-1', 'game_id': 258, 'points': 0, 'rebounds': 0, 'assists': 0, 'blocks': 0}, {'player_unique': 'colin-coyne-1', 'game_id': 258, 'points': 0, 'rebounds': 0, 'assists': 0, 'blocks': 0}, {'player_unique': 'grant-hurst-1', 'game_id': 258, 'points': 0, 'rebounds': 0, 'assists': 0, 'blocks': 0}, {'player_unique': 'kaylan-makan-1', 'game_id': 258, 'points': 0, 'rebounds': 0, 'assists': 0, 'blocks': 0}] count=None\n"
     ]
    }
   ],
   "source": [
    "# date = datetime.date.today()\n",
    "current_round = CURRENT_ROUND\n",
    "# date = TODAY\n",
    "date = \"2024-03-29\"\n",
    "update_scores_from_csv(current_round=current_round, competition_id=COMPETITION_ID, game_scoring_csv = f\"2024/{date}-game-scoring-2024-ncaa-tournament.csv\")\n"
   ],
   "metadata": {
    "collapsed": false,
    "ExecuteTime": {
     "end_time": "2024-03-30T15:38:49.376705Z",
     "start_time": "2024-03-30T15:38:48.528558Z"
    }
   }
  },
  {
   "cell_type": "code",
   "outputs": [
    {
     "name": "stdout",
     "output_type": "stream",
     "text": [
      "3\n"
     ]
    }
   ],
   "source": [
    "print(CURRENT_ROUND)"
   ],
   "metadata": {
    "collapsed": false,
    "ExecuteTime": {
     "end_time": "2024-03-24T23:29:55.523062Z",
     "start_time": "2024-03-24T23:29:55.518335Z"
    }
   },
   "execution_count": 64
  },
  {
   "cell_type": "code",
   "outputs": [],
   "source": [],
   "metadata": {
    "collapsed": false
   }
  }
 ],
 "metadata": {
  "kernelspec": {
   "display_name": "Python 3",
   "language": "python",
   "name": "python3"
  },
  "language_info": {
   "codemirror_mode": {
    "name": "ipython",
    "version": 2
   },
   "file_extension": ".py",
   "mimetype": "text/x-python",
   "name": "python",
   "nbconvert_exporter": "python",
   "pygments_lexer": "ipython2",
   "version": "2.7.6"
  }
 },
 "nbformat": 4,
 "nbformat_minor": 0
}
