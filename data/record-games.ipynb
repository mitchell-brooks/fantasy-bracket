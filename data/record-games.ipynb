{
 "cells": [
  {
   "cell_type": "code",
   "execution_count": 20,
   "metadata": {
    "collapsed": true
   },
   "outputs": [
    {
     "name": "stdout",
     "output_type": "stream",
     "text": [
      "data=[{'league_unique': 'ncaambb', 'league_name': \"NCAA Men's Basketball\", 'sport': 'basketball', 'womens': False}] count=None\n"
     ]
    }
   ],
   "source": [
    "import os\n",
    "import csv\n",
    "from supabase import create_client, Client\n",
    "import os\n",
    "from dotenv import load_dotenv\n",
    "from pathlib import Path\n",
    "\n",
    "env_path = Path('..') / '.env.local'\n",
    "load_dotenv(dotenv_path=env_path)\n",
    "\n",
    "url = os.getenv(\"NEXT_PUBLIC_SUPABASE_URL\")\n",
    "key = os.getenv(\"NEXT_PUBLIC_SUPABASE_ANON_KEY\")\n",
    "supabase: Client = create_client(url, key)\n",
    "\n",
    "data = supabase.table(\"league\").select(\"*\").execute()\n",
    "print(data)"
   ]
  },
  {
   "cell_type": "code",
   "execution_count": 38,
   "outputs": [],
   "source": [
    "def update_game_schedule(game_schedule_csv):\n",
    "    game_insert = []\n",
    "    with open(game_schedule_csv, 'r', encoding='utf-8-sig') as f:\n",
    "        reader = csv.DictReader(f)\n",
    "        # next(reader)\n",
    "        for row in reader:\n",
    "            print(row)\n",
    "            if row != {'game_date': '', 'team_2_id': '', 'team_1_id': '', 'game_time': '', 'round_num': '', 'competition_id': ''}:\n",
    "                game_insert.append(row)\n",
    "\n",
    "    data = supabase.table(\"game\").upsert(game_insert,\n",
    "                                         # ignore_duplicates=True, on_conflict=\"game_date, team_1_id, team_2_id\"\n",
    "                                         ).execute()\n",
    "    print(data)"
   ],
   "metadata": {
    "collapsed": false
   }
  },
  {
   "cell_type": "code",
   "execution_count": 39,
   "outputs": [
    {
     "name": "stdout",
     "output_type": "stream",
     "text": [
      "{'game_date': '2023-03-18', 'team_2_id': 'san-diego-state', 'team_1_id': 'furman', 'game_time': '12:30', 'round_num': '3', 'competition_id': '1'}\n",
      "{'game_date': '2023-03-18', 'team_2_id': 'tennessee', 'team_1_id': 'duke', 'game_time': '14:40', 'round_num': '3', 'competition_id': '1'}\n",
      "{'game_date': '2023-03-18', 'team_2_id': 'kansas', 'team_1_id': 'arkansas', 'game_time': '17:15', 'round_num': '3', 'competition_id': '1'}\n",
      "{'game_date': '2023-03-18', 'team_2_id': 'missouri', 'team_1_id': 'princeton', 'game_time': '18:10', 'round_num': '3', 'competition_id': '1'}\n",
      "{'game_date': '2023-03-18', 'team_2_id': 'houston', 'team_1_id': 'auburn', 'game_time': '19:10', 'round_num': '3', 'competition_id': '1'}\n",
      "{'game_date': '2023-03-18', 'team_2_id': 'texas', 'team_1_id': 'penn-state', 'game_time': '19:45', 'round_num': '3', 'competition_id': '1'}\n",
      "{'game_date': '2023-03-18', 'team_2_id': 'ucla', 'team_1_id': 'northwestern', 'game_time': '20:40', 'round_num': '3', 'competition_id': '1'}\n",
      "{'game_date': '2023-03-18', 'team_2_id': 'alabama', 'team_1_id': 'maryland', 'game_time': '21:40', 'round_num': '3', 'competition_id': '1'}\n",
      "{'game_date': '2023-03-19', 'team_2_id': 'xavier', 'team_1_id': 'pittsburgh', 'game_time': '12:10', 'round_num': '3', 'competition_id': '1'}\n",
      "{'game_date': '2023-03-19', 'team_2_id': 'kansas-state', 'team_1_id': 'kentucky', 'game_time': '14:40', 'round_num': '3', 'competition_id': '1'}\n",
      "{'game_date': '2023-03-19', 'team_2_id': 'marquette', 'team_1_id': 'michigan-state', 'game_time': '17:15', 'round_num': '3', 'competition_id': '1'}\n",
      "{'game_date': '2023-03-19', 'team_2_id': 'connecticut', 'team_1_id': 'saint-marys-ca', 'game_time': '18:10', 'round_num': '3', 'competition_id': '1'}\n",
      "{'game_date': '2023-03-19', 'team_2_id': 'baylor', 'team_1_id': 'creighton', 'game_time': '19:10', 'round_num': '3', 'competition_id': '1'}\n",
      "{'game_date': '2023-03-19', 'team_2_id': 'florida-atlantic', 'team_1_id': 'fairleigh-dickinson', 'game_time': '19:45', 'round_num': '3', 'competition_id': '1'}\n",
      "{'game_date': '2023-03-19', 'team_2_id': 'indiana', 'team_1_id': 'miami-fl', 'game_time': '20:40', 'round_num': '3', 'competition_id': '1'}\n",
      "{'game_date': '2023-03-19', 'team_2_id': 'gonzaga', 'team_1_id': 'texas-christian', 'game_time': '21:40', 'round_num': '3', 'competition_id': '1'}\n",
      "{'game_date': '', 'team_2_id': '', 'team_1_id': '', 'game_time': '', 'round_num': '', 'competition_id': ''}\n",
      "{'game_date': '', 'team_2_id': '', 'team_1_id': '', 'game_time': '', 'round_num': '', 'competition_id': ''}\n",
      "{'game_date': '', 'team_2_id': '', 'team_1_id': '', 'game_time': '', 'round_num': '', 'competition_id': ''}\n",
      "{'game_date': '', 'team_2_id': '', 'team_1_id': '', 'game_time': '', 'round_num': '', 'competition_id': ''}\n",
      "{'game_date': '', 'team_2_id': '', 'team_1_id': '', 'game_time': '', 'round_num': '', 'competition_id': ''}\n",
      "{'game_date': '', 'team_2_id': '', 'team_1_id': '', 'game_time': '', 'round_num': '', 'competition_id': ''}\n",
      "{'game_date': '', 'team_2_id': '', 'team_1_id': '', 'game_time': '', 'round_num': '', 'competition_id': ''}\n",
      "{'game_date': '', 'team_2_id': '', 'team_1_id': '', 'game_time': '', 'round_num': '', 'competition_id': ''}\n",
      "{'game_date': '', 'team_2_id': '', 'team_1_id': '', 'game_time': '', 'round_num': '', 'competition_id': ''}\n",
      "{'game_date': '', 'team_2_id': '', 'team_1_id': '', 'game_time': '', 'round_num': '', 'competition_id': ''}\n",
      "{'game_date': '', 'team_2_id': '', 'team_1_id': '', 'game_time': '', 'round_num': '', 'competition_id': ''}\n",
      "{'game_date': '', 'team_2_id': '', 'team_1_id': '', 'game_time': '', 'round_num': '', 'competition_id': ''}\n",
      "{'game_date': '', 'team_2_id': '', 'team_1_id': '', 'game_time': '', 'round_num': '', 'competition_id': ''}\n",
      "{'game_date': '', 'team_2_id': '', 'team_1_id': '', 'game_time': '', 'round_num': '', 'competition_id': ''}\n",
      "{'game_date': '', 'team_2_id': '', 'team_1_id': '', 'game_time': '', 'round_num': '', 'competition_id': ''}\n",
      "{'game_date': '', 'team_2_id': '', 'team_1_id': '', 'game_time': '', 'round_num': '', 'competition_id': ''}\n",
      "data=[{'game_id': 64, 'game_date': '2023-03-18', 'team_1_id': 'furman', 'team_2_id': 'san-diego-state', 'game_time': '12:30:00', 'round_num': 3, 'competition_id': 1, 'league2_unique': 'ncaambb', 'league1_unique': None}, {'game_id': 65, 'game_date': '2023-03-18', 'team_1_id': 'duke', 'team_2_id': 'tennessee', 'game_time': '14:40:00', 'round_num': 3, 'competition_id': 1, 'league2_unique': 'ncaambb', 'league1_unique': None}, {'game_id': 66, 'game_date': '2023-03-18', 'team_1_id': 'arkansas', 'team_2_id': 'kansas', 'game_time': '17:15:00', 'round_num': 3, 'competition_id': 1, 'league2_unique': 'ncaambb', 'league1_unique': None}, {'game_id': 67, 'game_date': '2023-03-18', 'team_1_id': 'princeton', 'team_2_id': 'missouri', 'game_time': '18:10:00', 'round_num': 3, 'competition_id': 1, 'league2_unique': 'ncaambb', 'league1_unique': None}, {'game_id': 68, 'game_date': '2023-03-18', 'team_1_id': 'auburn', 'team_2_id': 'houston', 'game_time': '19:10:00', 'round_num': 3, 'competition_id': 1, 'league2_unique': 'ncaambb', 'league1_unique': None}, {'game_id': 69, 'game_date': '2023-03-18', 'team_1_id': 'penn-state', 'team_2_id': 'texas', 'game_time': '19:45:00', 'round_num': 3, 'competition_id': 1, 'league2_unique': 'ncaambb', 'league1_unique': None}, {'game_id': 70, 'game_date': '2023-03-18', 'team_1_id': 'northwestern', 'team_2_id': 'ucla', 'game_time': '20:40:00', 'round_num': 3, 'competition_id': 1, 'league2_unique': 'ncaambb', 'league1_unique': None}, {'game_id': 71, 'game_date': '2023-03-18', 'team_1_id': 'maryland', 'team_2_id': 'alabama', 'game_time': '21:40:00', 'round_num': 3, 'competition_id': 1, 'league2_unique': 'ncaambb', 'league1_unique': None}, {'game_id': 72, 'game_date': '2023-03-19', 'team_1_id': 'pittsburgh', 'team_2_id': 'xavier', 'game_time': '12:10:00', 'round_num': 3, 'competition_id': 1, 'league2_unique': 'ncaambb', 'league1_unique': None}, {'game_id': 73, 'game_date': '2023-03-19', 'team_1_id': 'kentucky', 'team_2_id': 'kansas-state', 'game_time': '14:40:00', 'round_num': 3, 'competition_id': 1, 'league2_unique': 'ncaambb', 'league1_unique': None}, {'game_id': 74, 'game_date': '2023-03-19', 'team_1_id': 'michigan-state', 'team_2_id': 'marquette', 'game_time': '17:15:00', 'round_num': 3, 'competition_id': 1, 'league2_unique': 'ncaambb', 'league1_unique': None}, {'game_id': 75, 'game_date': '2023-03-19', 'team_1_id': 'saint-marys-ca', 'team_2_id': 'connecticut', 'game_time': '18:10:00', 'round_num': 3, 'competition_id': 1, 'league2_unique': 'ncaambb', 'league1_unique': None}, {'game_id': 76, 'game_date': '2023-03-19', 'team_1_id': 'creighton', 'team_2_id': 'baylor', 'game_time': '19:10:00', 'round_num': 3, 'competition_id': 1, 'league2_unique': 'ncaambb', 'league1_unique': None}, {'game_id': 77, 'game_date': '2023-03-19', 'team_1_id': 'fairleigh-dickinson', 'team_2_id': 'florida-atlantic', 'game_time': '19:45:00', 'round_num': 3, 'competition_id': 1, 'league2_unique': 'ncaambb', 'league1_unique': None}, {'game_id': 78, 'game_date': '2023-03-19', 'team_1_id': 'miami-fl', 'team_2_id': 'indiana', 'game_time': '20:40:00', 'round_num': 3, 'competition_id': 1, 'league2_unique': 'ncaambb', 'league1_unique': None}, {'game_id': 79, 'game_date': '2023-03-19', 'team_1_id': 'texas-christian', 'team_2_id': 'gonzaga', 'game_time': '21:40:00', 'round_num': 3, 'competition_id': 1, 'league2_unique': 'ncaambb', 'league1_unique': None}] count=None\n"
     ]
    }
   ],
   "source": [
    "round = \"3\"\n",
    "update_game_schedule(f\"game-schedule-round-{round}-2023-ncaa-tournament.csv\")"
   ],
   "metadata": {
    "collapsed": false
   }
  },
  {
   "cell_type": "code",
   "execution_count": 25,
   "outputs": [],
   "source": [
    "import pandas as pd\n",
    "import datetime\n",
    "def generate_game_scoring_sheet(competition_id: int = 1, date = datetime.date.today()):\n",
    "    data = supabase.table(\"players_in_games_view\").select(\"*\").eq(\"game_date\", date).eq('competition_id', competition_id).execute()\n",
    "    df = pd.DataFrame(data.data)\n",
    "    df['points'] = None\n",
    "    # df['rebounds'] = 0\n",
    "    # df['assists'] = 0\n",
    "    df.to_csv(f\"{date}-game-scoring-2023-ncaa-tournament.csv\", index=False, columns=['game_time', 'team_unique', 'player_unique', 'points','game_id'])\n",
    "    # 'rebounds', 'assists'])"
   ],
   "metadata": {
    "collapsed": false
   }
  },
  {
   "cell_type": "code",
   "execution_count": 40,
   "outputs": [],
   "source": [
    "date = datetime.date.today()\n",
    "generate_game_scoring_sheet(date=date)"
   ],
   "metadata": {
    "collapsed": false
   }
  },
  {
   "cell_type": "code",
   "execution_count": 15,
   "outputs": [],
   "source": [
    "def update_scores_from_csv(current_round: int, competition_id: int = 1, game_scoring_csv = f\"{datetime.date.today()}-game-scoring-2023-ncaa-tournament.csv\"):\n",
    "    player_game_insert = []\n",
    "    with open(game_scoring_csv, 'r', encoding='utf-8-sig') as f:\n",
    "        reader = csv.DictReader(f)\n",
    "        next(reader)\n",
    "        for row in reader:\n",
    "            if row['points'] != '':\n",
    "                player_game_row = {\n",
    "                    \"player_unique\": row['player_unique'],\n",
    "                    \"game_id\": row['game_id'],\n",
    "                    \"points\": row['points'],\n",
    "                }\n",
    "                player_game_insert.append(player_game_row)\n",
    "\n",
    "    data = supabase.table(\"player_game\").upsert(player_game_insert,\n",
    "                                         ignore_duplicates=False, on_conflict=\"game_id, player_unique\").execute()\n",
    "    updated = supabase.table(\"competition_updated\").insert({\"competition_id\": competition_id, \"current_round\": current_round}).execute()\n",
    "    print(data)"
   ],
   "metadata": {
    "collapsed": false
   }
  },
  {
   "cell_type": "code",
   "execution_count": 41,
   "outputs": [
    {
     "name": "stdout",
     "output_type": "stream",
     "text": [
      "data=[{'player_unique': 'jalen-slawson-1', 'game_id': 64, 'points': 8, 'rebounds': 0, 'assists': 0, 'blocks': 0}, {'player_unique': 'jp-pegues-1', 'game_id': 64, 'points': 10, 'rebounds': 0, 'assists': 0, 'blocks': 0}, {'player_unique': 'marcus-foster-2', 'game_id': 64, 'points': 5, 'rebounds': 0, 'assists': 0, 'blocks': 0}, {'player_unique': 'garrett-hien-1', 'game_id': 64, 'points': 3, 'rebounds': 0, 'assists': 0, 'blocks': 0}, {'player_unique': 'ben-vanderwal-1', 'game_id': 64, 'points': 0, 'rebounds': 0, 'assists': 0, 'blocks': 0}, {'player_unique': 'alex-williams-3', 'game_id': 64, 'points': 11, 'rebounds': 0, 'assists': 0, 'blocks': 0}, {'player_unique': 'tyrese-hughey-1', 'game_id': 64, 'points': 0, 'rebounds': 0, 'assists': 0, 'blocks': 0}, {'player_unique': 'carter-whitt-1', 'game_id': 64, 'points': 0, 'rebounds': 0, 'assists': 0, 'blocks': 0}, {'player_unique': 'joe-anderson-4', 'game_id': 64, 'points': 0, 'rebounds': 0, 'assists': 0, 'blocks': 0}, {'player_unique': 'jonny-lawrence-1', 'game_id': 64, 'points': 0, 'rebounds': 0, 'assists': 0, 'blocks': 0}, {'player_unique': 'rett-lister-1', 'game_id': 64, 'points': 0, 'rebounds': 0, 'assists': 0, 'blocks': 0}, {'player_unique': 'blake-harris-1', 'game_id': 64, 'points': 0, 'rebounds': 0, 'assists': 0, 'blocks': 0}, {'player_unique': 'matt-bradley-1', 'game_id': 64, 'points': 10, 'rebounds': 0, 'assists': 0, 'blocks': 0}, {'player_unique': 'darrion-trammell-1', 'game_id': 64, 'points': 13, 'rebounds': 0, 'assists': 0, 'blocks': 0}, {'player_unique': 'lamont-butler-1', 'game_id': 64, 'points': 12, 'rebounds': 0, 'assists': 0, 'blocks': 0}, {'player_unique': 'jaedon-ledee-1', 'game_id': 64, 'points': 2, 'rebounds': 0, 'assists': 0, 'blocks': 0}, {'player_unique': 'keshad-johnson-1', 'game_id': 64, 'points': 7, 'rebounds': 0, 'assists': 0, 'blocks': 0}, {'player_unique': 'micah-parrish-1', 'game_id': 64, 'points': 16, 'rebounds': 0, 'assists': 0, 'blocks': 0}, {'player_unique': 'nathan-mensah-1', 'game_id': 64, 'points': 6, 'rebounds': 0, 'assists': 0, 'blocks': 0}, {'player_unique': 'adam-seiko-1', 'game_id': 64, 'points': 2, 'rebounds': 0, 'assists': 0, 'blocks': 0}, {'player_unique': 'aguek-arop-1', 'game_id': 64, 'points': 4, 'rebounds': 0, 'assists': 0, 'blocks': 0}, {'player_unique': 'miles-byrd-1', 'game_id': 64, 'points': 0, 'rebounds': 0, 'assists': 0, 'blocks': 0}, {'player_unique': 'elijah-saunders-1', 'game_id': 64, 'points': 0, 'rebounds': 0, 'assists': 0, 'blocks': 0}, {'player_unique': 'demarshay-johnsonjr-1', 'game_id': 64, 'points': 0, 'rebounds': 0, 'assists': 0, 'blocks': 0}, {'player_unique': 'cade-alger-1', 'game_id': 64, 'points': 0, 'rebounds': 0, 'assists': 0, 'blocks': 0}, {'player_unique': 'jared-barnett-1', 'game_id': 64, 'points': 3, 'rebounds': 0, 'assists': 0, 'blocks': 0}, {'player_unique': 'triston-broughton-1', 'game_id': 64, 'points': 0, 'rebounds': 0, 'assists': 0, 'blocks': 0}, {'player_unique': 'tyler-broughton-1', 'game_id': 64, 'points': 0, 'rebounds': 0, 'assists': 0, 'blocks': 0}] count=None\n"
     ]
    }
   ],
   "source": [
    "date = datetime.date.today()\n",
    "# date = \"2023-03-16\"\n",
    "update_scores_from_csv(current_round=2, game_scoring_csv = f\"{date}-game-scoring-2023-ncaa-tournament.csv\")"
   ],
   "metadata": {
    "collapsed": false
   }
  }
 ],
 "metadata": {
  "kernelspec": {
   "display_name": "Python 3",
   "language": "python",
   "name": "python3"
  },
  "language_info": {
   "codemirror_mode": {
    "name": "ipython",
    "version": 2
   },
   "file_extension": ".py",
   "mimetype": "text/x-python",
   "name": "python",
   "nbconvert_exporter": "python",
   "pygments_lexer": "ipython2",
   "version": "2.7.6"
  }
 },
 "nbformat": 4,
 "nbformat_minor": 0
}
